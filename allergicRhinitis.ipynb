{
 "cells": [
  {
   "cell_type": "code",
   "execution_count": 10,
   "id": "e37bca3e",
   "metadata": {},
   "outputs": [],
   "source": [
    "from imutils import paths\n",
    "import os\n",
    "import cv2\n",
    "import numpy as np\n",
    "import matplotlib.pyplot as plt\n",
    "import timeit\n",
    "\n",
    "from sklearn.preprocessing import LabelBinarizer\n",
    "from sklearn.model_selection import train_test_split\n",
    "from sklearn.metrics import classification_report\n",
    "from sklearn.metrics import confusion_matrix\n",
    "\n",
    "from tensorflow.keras.utils import to_categorical\n",
    "from tensorflow.keras.preprocessing.image import ImageDataGenerator\n",
    "from tensorflow.keras.applications import InceptionV3\n",
    "from tensorflow.keras.layers import AveragePooling2D, Dropout, Flatten, Dense, Input\n",
    "from tensorflow.keras.models import Model, model_from_json\n",
    "from tensorflow.keras.optimizers import Adam\n",
    "\n",
    "from tensorflow.keras.applications import imagenet_utils\n",
    "from tensorflow.keras.applications.xception import decode_predictions"
   ]
  },
  {
   "cell_type": "code",
   "execution_count": 11,
   "id": "2fbda915",
   "metadata": {},
   "outputs": [
    {
     "name": "stdout",
     "output_type": "stream",
     "text": [
      "[INFO]: Trying to Read the images\n"
     ]
    }
   ],
   "source": [
    "print(\"[INFO]: Trying to Read the images\")\n",
    "#  Configure the Image Location\n",
    "# 이미지 위치 구성하기\n",
    "imagePaths = list(paths.list_images(r'C:\\Users\\cvpr\\Documents\\Bishal\\Allergic Rhinitis\\Dataset\\non_rotate'))"
   ]
  },
  {
   "cell_type": "code",
   "execution_count": 12,
   "id": "9bd0c101",
   "metadata": {},
   "outputs": [
    {
     "data": {
      "text/plain": [
       "'dataset0'"
      ]
     },
     "execution_count": 12,
     "metadata": {},
     "output_type": "execute_result"
    }
   ],
   "source": [
    "imagePaths = list(paths.list_images(\"Dataset/rotate\"))\n",
    "len(imagePaths)\n",
    "imagePaths[0].split(os.path.sep)[-3]"
   ]
  },
  {
   "cell_type": "code",
   "execution_count": 4,
   "id": "1c5dd74e",
   "metadata": {
    "scrolled": true
   },
   "outputs": [
    {
     "data": {
      "text/plain": [
       "90"
      ]
     },
     "execution_count": 4,
     "metadata": {},
     "output_type": "execute_result"
    }
   ],
   "source": [
    "len(imagePaths)"
   ]
  },
  {
   "cell_type": "code",
   "execution_count": 5,
   "id": "2c494aff",
   "metadata": {},
   "outputs": [
    {
     "data": {
      "text/plain": [
       "'17:24:03'"
      ]
     },
     "execution_count": 5,
     "metadata": {},
     "output_type": "execute_result"
    }
   ],
   "source": [
    "from datetime import datetime\n",
    "datetime.now().strftime('%H:%M:%S')"
   ]
  },
  {
   "cell_type": "code",
   "execution_count": 6,
   "id": "0bbfc861",
   "metadata": {
    "scrolled": true
   },
   "outputs": [],
   "source": [
    "# Initialize data and labels\n",
    "# 데이터 및 레이블 초기화\n",
    "data = []\n",
    "labels = []\n",
    "dirList= []"
   ]
  },
  {
   "cell_type": "code",
   "execution_count": 7,
   "id": "a15a3b25",
   "metadata": {},
   "outputs": [],
   "source": [
    "a = {}\n",
    "a[\"1\"] = \"fcvasd\"\n",
    "a[\"2\"] = 34\n"
   ]
  },
  {
   "cell_type": "code",
   "execution_count": 13,
   "id": "67f1b3c6",
   "metadata": {},
   "outputs": [
    {
     "name": "stdout",
     "output_type": "stream",
     "text": [
      "Dataset/rotate\\dataset0\\0\\n13_1_00002_right.tif\n",
      "Dataset/rotate\\dataset0\\0\\n13_1_00003_left.tif\n",
      "Dataset/rotate\\dataset0\\0\\n13_2_00001_right.tif\n",
      "Dataset/rotate\\dataset0\\0\\n14_1_00001_right.tif\n",
      "Dataset/rotate\\dataset0\\0\\n14_1_00007_left.tif\n",
      "Dataset/rotate\\dataset0\\0\\n15_2_00005_left.tif\n",
      "Dataset/rotate\\dataset0\\0\\n1_1_00001_right.tif\n",
      "Dataset/rotate\\dataset0\\0\\n6_1_00004_right.tif\n",
      "Dataset/rotate\\dataset0\\0\\n6_1_00006_left.tif\n",
      "Dataset/rotate\\dataset0\\1\\14_1_00002_right.tif\n",
      "Dataset/rotate\\dataset0\\1\\7_1_00001_right.tif\n",
      "Dataset/rotate\\dataset0\\1\\7_1_00005_left.tif\n",
      "Dataset/rotate\\dataset0\\2\\2_1_00002_right.tif\n",
      "Dataset/rotate\\dataset0\\2\\2_1_00005_left.tif\n",
      "Dataset/rotate\\dataset0\\2\\3_1_00003_left.tif\n",
      "Dataset/rotate\\dataset0\\2\\4_1_00002_right.tif\n",
      "Dataset/rotate\\dataset0\\2\\6_1_00001_right.tif\n",
      "Dataset/rotate\\dataset0\\2\\6_1_00006_left.tif\n",
      "Dataset/rotate\\dataset1\\0\\n17_4_00006_left.tif\n",
      "Dataset/rotate\\dataset1\\0\\n17_5_00003_left.tif\n",
      "Dataset/rotate\\dataset1\\0\\n17_7_00013_left.tif\n",
      "Dataset/rotate\\dataset1\\0\\n18_2_00002_right.tif\n",
      "Dataset/rotate\\dataset1\\0\\n18_2_00003_left.tif\n",
      "Dataset/rotate\\dataset1\\0\\n19_2_00003_right.tif\n",
      "Dataset/rotate\\dataset1\\0\\n19_3_00001_right.tif\n",
      "Dataset/rotate\\dataset1\\0\\n19_4_00001_right.tif\n",
      "Dataset/rotate\\dataset1\\0\\n19_4_00003_left.tif\n",
      "Dataset/rotate\\dataset1\\1\\13_1_00002_right.tif\n",
      "Dataset/rotate\\dataset1\\1\\13_1_00005_left.tif\n",
      "Dataset/rotate\\dataset1\\1\\13_2_00002_right.tif\n",
      "Dataset/rotate\\dataset1\\1\\13_2_00004_left.tif\n",
      "Dataset/rotate\\dataset1\\2\\16_1_00003_left.tif\n",
      "Dataset/rotate\\dataset1\\2\\18_1_00005_left.tif\n",
      "Dataset/rotate\\dataset1\\2\\18_2_00003_right.tif\n",
      "Dataset/rotate\\dataset1\\2\\18_2_00005_left.tif\n",
      "Dataset/rotate\\dataset1\\2\\18_3_00002_right.tif\n",
      "Dataset/rotate\\dataset1\\2\\18_3_000050003_left.tif\n",
      "Dataset/rotate\\dataset2\\0\\n16_1_00004_left.tif\n",
      "Dataset/rotate\\dataset2\\0\\n20_2_00001_right.tif\n",
      "Dataset/rotate\\dataset2\\0\\n21_1_00002_right.tif\n",
      "Dataset/rotate\\dataset2\\0\\n22_1_00003_left.tif\n",
      "Dataset/rotate\\dataset2\\0\\n22_2_00001_right.tif\n",
      "Dataset/rotate\\dataset2\\0\\n22_2_00005_left.tif\n",
      "Dataset/rotate\\dataset2\\0\\n23_2_00002_right.tif\n",
      "Dataset/rotate\\dataset2\\0\\n23_2_00009_left.tif\n",
      "Dataset/rotate\\dataset2\\0\\n28_4_00001_right.tif\n",
      "Dataset/rotate\\dataset2\\1\\19_1_00002_right.tif\n",
      "Dataset/rotate\\dataset2\\1\\19_1_00003_left.tif\n",
      "Dataset/rotate\\dataset2\\1\\19_2_00004_left.tif\n",
      "Dataset/rotate\\dataset2\\2\\11_1_00002_right.tif\n",
      "Dataset/rotate\\dataset2\\2\\15_1_00006_left.tif\n",
      "Dataset/rotate\\dataset2\\2\\15_2_00004_left.tif\n",
      "Dataset/rotate\\dataset2\\2\\26_1_00001_right.tif\n",
      "Dataset/rotate\\dataset2\\2\\26_1_00002_right.tif\n",
      "Dataset/rotate\\dataset2\\2\\26_1_00003_left.tif\n",
      "Dataset/rotate\\dataset3\\0\\n29_1_00004_left.tif\n",
      "Dataset/rotate\\dataset3\\0\\n29_3_00002_right.tif\n",
      "Dataset/rotate\\dataset3\\0\\n29_3_00005_left.tif\n",
      "Dataset/rotate\\dataset3\\0\\n32_1_00001_right.tif\n",
      "Dataset/rotate\\dataset3\\0\\n32_2_00001_right.tif\n",
      "Dataset/rotate\\dataset3\\0\\n32_3_00003_right.tif\n",
      "Dataset/rotate\\dataset3\\0\\n32_3_00004_left.tif\n",
      "Dataset/rotate\\dataset3\\0\\n32_4_00001_right.tif\n",
      "Dataset/rotate\\dataset3\\0\\n32_4_00004_left.tif\n",
      "Dataset/rotate\\dataset3\\1\\28_1_00003_left.tif\n",
      "Dataset/rotate\\dataset3\\1\\33_1_00002_right.tif\n",
      "Dataset/rotate\\dataset3\\1\\33_1_00005_left.tif\n",
      "Dataset/rotate\\dataset3\\2\\20_1_00006_left.tif\n",
      "Dataset/rotate\\dataset3\\2\\20_1_00009_left.tif\n",
      "Dataset/rotate\\dataset3\\2\\20_2_00002_right.tif\n",
      "Dataset/rotate\\dataset3\\2\\20_2_00008_left.tif\n",
      "Dataset/rotate\\dataset3\\2\\20_3_00001_right.tif\n",
      "Dataset/rotate\\dataset3\\2\\21_1_00002_right.tif\n",
      "Dataset/rotate\\dataset4\\0\\n34_2_00001_right.tif\n",
      "Dataset/rotate\\dataset4\\0\\n35_1_00009_left.tif\n",
      "Dataset/rotate\\dataset4\\0\\n35_1_00010_left.tif\n",
      "Dataset/rotate\\dataset4\\0\\n35_1_00011_right.tif\n",
      "Dataset/rotate\\dataset4\\0\\n35_1_00012_right.tif\n",
      "Dataset/rotate\\dataset4\\0\\n35_2_00001_right.tif\n",
      "Dataset/rotate\\dataset4\\0\\n35_2_00002_right.tif\n",
      "Dataset/rotate\\dataset4\\0\\n35_2_00007_left.tif\n",
      "Dataset/rotate\\dataset4\\1\\30_1_00011_right.tif\n",
      "Dataset/rotate\\dataset4\\1\\30_1_00013_left.tif\n",
      "Dataset/rotate\\dataset4\\1\\34_1_00002_right.tif\n",
      "Dataset/rotate\\dataset4\\2\\22_1_00005_left.tif\n",
      "Dataset/rotate\\dataset4\\2\\27_1_00005_left.tif\n",
      "Dataset/rotate\\dataset4\\2\\35_1_00002_right.tif\n",
      "Dataset/rotate\\dataset4\\2\\35_2_00003_left.tif\n",
      "Dataset/rotate\\dataset4\\2\\35_3_00001_right.tif\n",
      "Dataset/rotate\\dataset4\\2\\35_3_00004_left.tif\n"
     ]
    }
   ],
   "source": [
    "#imagePaths = r'C:\\Users\\cvpr\\Documents\\Bishal\\Allergic Rhinitis\\Dataset\\non_rotate'\n",
    "dirList = {}\n",
    "for imagePath in imagePaths:\n",
    "    print(imagePath)\n",
    "    dataset = imagePath.split(os.path.sep)[-3]\n",
    "    if dataset not in list(dirList.keys()):\n",
    "        dirList[dataset] = []\n",
    "    dirList[dataset].append(imagePath)"
   ]
  },
  {
   "cell_type": "code",
   "execution_count": 39,
   "id": "024b32a1",
   "metadata": {},
   "outputs": [
    {
     "name": "stdout",
     "output_type": "stream",
     "text": [
      "['dataset0', 'dataset1', 'dataset2', 'dataset3', 'dataset4']\n",
      "TestSet\n",
      "18\n",
      "TrainSet\n",
      "72\n",
      "TestSet\n",
      "19\n",
      "TrainSet\n",
      "71\n",
      "TestSet\n",
      "18\n",
      "TrainSet\n",
      "72\n",
      "TestSet\n",
      "18\n",
      "TrainSet\n",
      "72\n",
      "TestSet\n",
      "17\n",
      "TrainSet\n",
      "73\n"
     ]
    },
    {
     "data": {
      "text/plain": [
       "['Dataset/rotate\\\\dataset4\\\\0\\\\n34_2_00001_right.tif',\n",
       " 'Dataset/rotate\\\\dataset4\\\\0\\\\n35_1_00009_left.tif',\n",
       " 'Dataset/rotate\\\\dataset4\\\\0\\\\n35_1_00010_left.tif',\n",
       " 'Dataset/rotate\\\\dataset4\\\\0\\\\n35_1_00011_right.tif',\n",
       " 'Dataset/rotate\\\\dataset4\\\\0\\\\n35_1_00012_right.tif',\n",
       " 'Dataset/rotate\\\\dataset4\\\\0\\\\n35_2_00001_right.tif',\n",
       " 'Dataset/rotate\\\\dataset4\\\\0\\\\n35_2_00002_right.tif',\n",
       " 'Dataset/rotate\\\\dataset4\\\\0\\\\n35_2_00007_left.tif',\n",
       " 'Dataset/rotate\\\\dataset4\\\\1\\\\30_1_00011_right.tif',\n",
       " 'Dataset/rotate\\\\dataset4\\\\1\\\\30_1_00013_left.tif',\n",
       " 'Dataset/rotate\\\\dataset4\\\\1\\\\34_1_00002_right.tif',\n",
       " 'Dataset/rotate\\\\dataset4\\\\2\\\\22_1_00005_left.tif',\n",
       " 'Dataset/rotate\\\\dataset4\\\\2\\\\27_1_00005_left.tif',\n",
       " 'Dataset/rotate\\\\dataset4\\\\2\\\\35_1_00002_right.tif',\n",
       " 'Dataset/rotate\\\\dataset4\\\\2\\\\35_2_00003_left.tif',\n",
       " 'Dataset/rotate\\\\dataset4\\\\2\\\\35_3_00001_right.tif',\n",
       " 'Dataset/rotate\\\\dataset4\\\\2\\\\35_3_00004_left.tif']"
      ]
     },
     "execution_count": 39,
     "metadata": {},
     "output_type": "execute_result"
    }
   ],
   "source": [
    "dirList = {}\n",
    "for imagePath in imagePaths:\n",
    "    dataset = imagePath.split(os.path.sep)[-3]\n",
    "    if dataset not in list(dirList.keys()):\n",
    "        dirList[dataset] = []\n",
    "    dirList[dataset].append(imagePath)\n",
    "\n",
    "    \n",
    "dirListKeys = list(dirList.keys())\n",
    "print(dirListKeys)\n",
    "        \n",
    "for data_i in range(0, len(dirListKeys)):\n",
    "    testSetData = []\n",
    "    trainSetData = []\n",
    "    for data_j in range(0, len(dirListKeys)):\n",
    "        if data_i == data_j:\n",
    "            testSetData = testSetData + dirList[dirListKeys[data_j]]\n",
    "        else:\n",
    "            trainSetData = trainSetData + dirList[dirListKeys[data_j]]\n",
    "    print(\"TestSet\")\n",
    "    print(len(testSetData))\n",
    "    print(\"TrainSet\")\n",
    "    print(len(trainSetData))\n",
    "testSetData"
   ]
  },
  {
   "cell_type": "code",
   "execution_count": 17,
   "id": "f46f4752",
   "metadata": {},
   "outputs": [
    {
     "data": {
      "text/plain": [
       "['dataset0', 'dataset1', 'dataset2', 'dataset3', 'dataset4']"
      ]
     },
     "execution_count": 17,
     "metadata": {},
     "output_type": "execute_result"
    }
   ],
   "source": [
    "dirList = []\n",
    "for imagePath in imagePaths:\n",
    "    dataDir = imagePath.split(os.path.sep)[-3]\n",
    "    if dataDir in dirList:\n",
    "        continue\n",
    "    dirList.append(dataDir)\n",
    "dirList"
   ]
  },
  {
   "cell_type": "code",
   "execution_count": 6,
   "id": "a8207bc5",
   "metadata": {},
   "outputs": [],
   "source": [
    "# Formatting data and labels\n",
    "for imagePath in imagePaths:\n",
    "    # Extract the class label from file name and append to labels\n",
    "    # 파일 이름에서 클래스 레이블을 추출하고 레이블에 추가함\n",
    "    label = imagePath.split(os.path.sep)[-2]\n",
    "    labels.append(label)\n",
    "    # Load the image, swap color channels, and resize it to be a fixed 224x224 pixels while ignoring the aspect ratio\n",
    "    # 이미지를 로드하고, 컬러 채널을 스왑하고, 가로 세로 비율을 무시하고 고정 224x224 픽셀로 크기를 조정함\n",
    "    image = cv2.imread(imagePath)\n",
    "    image = cv2.cvtColor(image, cv2.COLOR_BGR2RGB)\n",
    "    image = cv2.resize(image, (224,224))\n",
    "    # Append to data\n",
    "    # 데이터에 추가\n",
    "    data.append(image)\n",
    "\n",
    "# Convert the data and labels to NumPy arrays while scaling the pixel intensities to the range [0,1]\n",
    "# 픽셀 강도를 [0,1] 범위로 조정하면서 데이터와 레이블을 NumPy 배열로 변환\n",
    "data = np.array(data) / 255.0\n",
    "labels = np.array(labels)"
   ]
  },
  {
   "cell_type": "code",
   "execution_count": 7,
   "id": "9799a052",
   "metadata": {},
   "outputs": [
    {
     "data": {
      "text/plain": [
       "(90,)"
      ]
     },
     "execution_count": 7,
     "metadata": {},
     "output_type": "execute_result"
    }
   ],
   "source": [
    "labels.shape"
   ]
  },
  {
   "cell_type": "code",
   "execution_count": 8,
   "id": "b1334c77",
   "metadata": {},
   "outputs": [
    {
     "data": {
      "text/plain": [
       "array(['0', '0', '0', '0', '0', '0', '0', '0', '0', '1', '1', '1', '2',\n",
       "       '2', '2', '2', '2', '2', '0', '0', '0', '0', '0', '0', '0', '0',\n",
       "       '0', '1', '1', '1', '1', '2', '2', '2', '2', '2', '2', '0', '0',\n",
       "       '0', '0', '0', '0', '0', '0', '0', '1', '1', '1', '2', '2', '2',\n",
       "       '2', '2', '2', '0', '0', '0', '0', '0', '0', '0', '0', '0', '1',\n",
       "       '1', '1', '2', '2', '2', '2', '2', '2', '0', '0', '0', '0', '0',\n",
       "       '0', '0', '0', '1', '1', '1', '2', '2', '2', '2', '2', '2'],\n",
       "      dtype='<U1')"
      ]
     },
     "execution_count": 8,
     "metadata": {},
     "output_type": "execute_result"
    }
   ],
   "source": [
    "labels"
   ]
  },
  {
   "cell_type": "code",
   "execution_count": 9,
   "id": "9db5e0a6",
   "metadata": {},
   "outputs": [
    {
     "data": {
      "text/plain": [
       "(90, 224, 224, 3)"
      ]
     },
     "execution_count": 9,
     "metadata": {},
     "output_type": "execute_result"
    }
   ],
   "source": [
    "data.shape"
   ]
  },
  {
   "cell_type": "code",
   "execution_count": 10,
   "id": "d43e520d",
   "metadata": {
    "scrolled": true
   },
   "outputs": [
    {
     "data": {
      "text/plain": [
       "<matplotlib.image.AxesImage at 0x1e9b2621d00>"
      ]
     },
     "execution_count": 10,
     "metadata": {},
     "output_type": "execute_result"
    },
    {
     "data": {
      "image/png": "[encoded data removed]",
      "text/plain": [
       "<Figure size 432x288 with 1 Axes>"
      ]
     },
     "metadata": {
      "needs_background": "light"
     },
     "output_type": "display_data"
    }
   ],
   "source": [
    "plt.imshow(data[1])"
   ]
  },
  {
   "cell_type": "code",
   "execution_count": null,
   "id": "c4120256",
   "metadata": {},
   "outputs": [],
   "source": []
  },
  {
   "cell_type": "code",
   "execution_count": null,
   "id": "7b4f8028",
   "metadata": {},
   "outputs": [],
   "source": []
  },
  {
   "cell_type": "code",
   "execution_count": 11,
   "id": "7211c77b",
   "metadata": {},
   "outputs": [
    {
     "name": "stdout",
     "output_type": "stream",
     "text": [
      "[[1 0 0]\n",
      " [1 0 0]\n",
      " [1 0 0]\n",
      " [1 0 0]\n",
      " [1 0 0]\n",
      " [1 0 0]\n",
      " [1 0 0]\n",
      " [1 0 0]\n",
      " [1 0 0]\n",
      " [0 1 0]\n",
      " [0 1 0]\n",
      " [0 1 0]\n",
      " [0 0 1]\n",
      " [0 0 1]\n",
      " [0 0 1]\n",
      " [0 0 1]\n",
      " [0 0 1]\n",
      " [0 0 1]\n",
      " [1 0 0]\n",
      " [1 0 0]\n",
      " [1 0 0]\n",
      " [1 0 0]\n",
      " [1 0 0]\n",
      " [1 0 0]\n",
      " [1 0 0]\n",
      " [1 0 0]\n",
      " [1 0 0]\n",
      " [0 1 0]\n",
      " [0 1 0]\n",
      " [0 1 0]\n",
      " [0 1 0]\n",
      " [0 0 1]\n",
      " [0 0 1]\n",
      " [0 0 1]\n",
      " [0 0 1]\n",
      " [0 0 1]\n",
      " [0 0 1]\n",
      " [1 0 0]\n",
      " [1 0 0]\n",
      " [1 0 0]\n",
      " [1 0 0]\n",
      " [1 0 0]\n",
      " [1 0 0]\n",
      " [1 0 0]\n",
      " [1 0 0]\n",
      " [1 0 0]\n",
      " [0 1 0]\n",
      " [0 1 0]\n",
      " [0 1 0]\n",
      " [0 0 1]\n",
      " [0 0 1]\n",
      " [0 0 1]\n",
      " [0 0 1]\n",
      " [0 0 1]\n",
      " [0 0 1]\n",
      " [1 0 0]\n",
      " [1 0 0]\n",
      " [1 0 0]\n",
      " [1 0 0]\n",
      " [1 0 0]\n",
      " [1 0 0]\n",
      " [1 0 0]\n",
      " [1 0 0]\n",
      " [1 0 0]\n",
      " [0 1 0]\n",
      " [0 1 0]\n",
      " [0 1 0]\n",
      " [0 0 1]\n",
      " [0 0 1]\n",
      " [0 0 1]\n",
      " [0 0 1]\n",
      " [0 0 1]\n",
      " [0 0 1]\n",
      " [1 0 0]\n",
      " [1 0 0]\n",
      " [1 0 0]\n",
      " [1 0 0]\n",
      " [1 0 0]\n",
      " [1 0 0]\n",
      " [1 0 0]\n",
      " [1 0 0]\n",
      " [0 1 0]\n",
      " [0 1 0]\n",
      " [0 1 0]\n",
      " [0 0 1]\n",
      " [0 0 1]\n",
      " [0 0 1]\n",
      " [0 0 1]\n",
      " [0 0 1]\n",
      " [0 0 1]]\n"
     ]
    }
   ],
   "source": [
    "# Perform the one-hot encoding on the labels\n",
    "# 레이블에 대해 원핫 인코딩 수행\n",
    "lb = LabelBinarizer()\n",
    "labels = lb.fit_transform(labels)\n",
    "print(labels)"
   ]
  },
  {
   "cell_type": "code",
   "execution_count": 12,
   "id": "ff5db2c8",
   "metadata": {},
   "outputs": [],
   "source": [
    "# Initialize the training data augmentation\n",
    "# 교육 데이터 억멘테이션 초기화\n",
    "trainAug = ImageDataGenerator(rotation_range=40, zoom_range=0.15, width_shift_range=0.2, height_shift_range=0.2,\n",
    "\t\tshear_range=0.15,fill_mode=\"nearest\", horizontal_flip=True)"
   ]
  },
  {
   "cell_type": "code",
   "execution_count": 13,
   "id": "29189ce7",
   "metadata": {},
   "outputs": [
    {
     "data": {
      "text/plain": [
       "(90, 3)"
      ]
     },
     "execution_count": 13,
     "metadata": {},
     "output_type": "execute_result"
    }
   ],
   "source": [
    "labels.shape"
   ]
  },
  {
   "cell_type": "code",
   "execution_count": 14,
   "id": "d9a6a874",
   "metadata": {},
   "outputs": [],
   "source": [
    "# Partition the data into training and testing splits using 80% of the training data and the remaining 20% for testing\n",
    "# 교육 데이터의 80%, 테스트에 20%를 사용하여 데이터를 교육 및 테스트 분할로 분할\n",
    "(trainX, testX, trainY, testY) = train_test_split(data, labels, test_size=0.20, stratify=labels, random_state=42)"
   ]
  },
  {
   "cell_type": "code",
   "execution_count": 15,
   "id": "63f69234",
   "metadata": {},
   "outputs": [],
   "source": [
    "# Load the network, ensuring the Head-FC layer sets are left off\n",
    "# Head-FC 레이어 세트가 포함되지 않도록 네트워크를 로드한다\n",
    "baseModel = Xception(weights=\"imagenet\", include_top=False, input_tensor=Input(shape=(224,224,3)))"
   ]
  },
  {
   "cell_type": "code",
   "execution_count": 16,
   "id": "5afca810",
   "metadata": {},
   "outputs": [],
   "source": [
    "# Construct the head model that will be placed on the top of the base model\n",
    "# 보디 모델의 맨 위에 배치할 헤드 모델 구성\n",
    "headModel = baseModel.output\n",
    "headModel = AveragePooling2D(pool_size=(4,4))(headModel)\n",
    "headModel = Flatten(name=\"flatten\")(headModel)\n",
    "headModel = Dense(64, activation=\"relu\")(headModel)\n",
    "headModel = Dropout(0.5)(headModel)\n",
    "headModel = Dense(3, activation=\"softmax\")(headModel)"
   ]
  },
  {
   "cell_type": "code",
   "execution_count": 17,
   "id": "46169eab",
   "metadata": {},
   "outputs": [],
   "source": [
    "# Place the Head-FC model on top of the Base model - This become the actual model that we will train\n",
    "# Head-FC 모델을 보디 모델 위에 배치한다. 이것이 우리가 교육할 실제 모델이 될 것이다.\n",
    "model = Model(inputs=baseModel.input, outputs=headModel)"
   ]
  },
  {
   "cell_type": "code",
   "execution_count": 18,
   "id": "c5790d68",
   "metadata": {},
   "outputs": [],
   "source": [
    "# Make sure that the basemodel layers will not be trained and only head model will be trained.\n",
    "# 보디 모델 레이어가 훈련되지 않고 헤드 모델만 훈련되는지 확인한다.\n",
    "for layer in baseModel.layers:\n",
    "    layer.trainable = False"
   ]
  },
  {
   "cell_type": "code",
   "execution_count": 19,
   "id": "6e4f5a99",
   "metadata": {
    "scrolled": true
   },
   "outputs": [
    {
     "data": {
      "text/plain": [
       "(72, 224, 224, 3)"
      ]
     },
     "execution_count": 19,
     "metadata": {},
     "output_type": "execute_result"
    }
   ],
   "source": [
    "trainX.shape"
   ]
  },
  {
   "cell_type": "code",
   "execution_count": 20,
   "id": "b1ff0dac",
   "metadata": {},
   "outputs": [
    {
     "data": {
      "text/plain": [
       "(18, 224, 224, 3)"
      ]
     },
     "execution_count": 20,
     "metadata": {},
     "output_type": "execute_result"
    }
   ],
   "source": [
    "testX.shape"
   ]
  },
  {
   "cell_type": "code",
   "execution_count": 21,
   "id": "df5bfbe7",
   "metadata": {},
   "outputs": [],
   "source": [
    "# Set the hyper-parameters\n",
    "# 하이퍼 파라미터 설정\n",
    "# INIT_LR = 1e-3\n",
    "INIT_LR = 0.001\n",
    "EPOCHS = 200\n",
    "BS = 8"
   ]
  },
  {
   "cell_type": "code",
   "execution_count": 22,
   "id": "7582c7c7",
   "metadata": {},
   "outputs": [],
   "source": [
    "# Compile the Model\n",
    "# 모델 컴파일\n",
    "opt = Adam(learning_rate=INIT_LR, decay=INIT_LR / EPOCHS)\n",
    "model.compile(loss=\"binary_crossentropy\", optimizer=opt, metrics=[\"accuracy\"])"
   ]
  },
  {
   "cell_type": "code",
   "execution_count": 23,
   "id": "1a5c47b4",
   "metadata": {},
   "outputs": [
    {
     "name": "stdout",
     "output_type": "stream",
     "text": [
      "[INFO] Model Training\n",
      "Epoch 1/200\n",
      "9/9 [==============================] - 8s 388ms/step - loss: 0.7286 - accuracy: 0.3194 - val_loss: 0.6088 - val_accuracy: 0.5000\n",
      "Epoch 2/200\n",
      "9/9 [==============================] - 1s 91ms/step - loss: 0.6178 - accuracy: 0.5417 - val_loss: 0.5839 - val_accuracy: 0.5000\n",
      "Epoch 3/200\n",
      "9/9 [==============================] - 1s 92ms/step - loss: 0.5931 - accuracy: 0.5139 - val_loss: 0.5883 - val_accuracy: 0.3333\n",
      "Epoch 4/200\n",
      "9/9 [==============================] - 1s 91ms/step - loss: 0.5757 - accuracy: 0.5417 - val_loss: 0.5752 - val_accuracy: 0.5556\n",
      "Epoch 5/200\n",
      "9/9 [==============================] - 1s 93ms/step - loss: 0.5522 - accuracy: 0.5694 - val_loss: 0.5745 - val_accuracy: 0.4444\n",
      "Epoch 6/200\n",
      "9/9 [==============================] - 1s 93ms/step - loss: 0.5530 - accuracy: 0.6528 - val_loss: 0.5583 - val_accuracy: 0.4444\n",
      "Epoch 7/200\n",
      "9/9 [==============================] - 1s 101ms/step - loss: 0.5085 - accuracy: 0.6389 - val_loss: 0.5545 - val_accuracy: 0.6667\n",
      "Epoch 8/200\n",
      "9/9 [==============================] - 1s 94ms/step - loss: 0.5675 - accuracy: 0.5556 - val_loss: 0.5625 - val_accuracy: 0.5556\n",
      "Epoch 9/200\n",
      "9/9 [==============================] - 1s 94ms/step - loss: 0.5005 - accuracy: 0.5972 - val_loss: 0.5524 - val_accuracy: 0.5000\n",
      "Epoch 10/200\n",
      "9/9 [==============================] - 1s 92ms/step - loss: 0.5049 - accuracy: 0.5972 - val_loss: 0.5491 - val_accuracy: 0.5556\n",
      "Epoch 11/200\n",
      "9/9 [==============================] - 1s 93ms/step - loss: 0.5621 - accuracy: 0.6389 - val_loss: 0.5427 - val_accuracy: 0.6111\n",
      "Epoch 12/200\n",
      "9/9 [==============================] - 1s 92ms/step - loss: 0.4867 - accuracy: 0.6667 - val_loss: 0.5427 - val_accuracy: 0.6111\n",
      "Epoch 13/200\n",
      "9/9 [==============================] - 1s 103ms/step - loss: 0.4651 - accuracy: 0.6250 - val_loss: 0.5497 - val_accuracy: 0.5556\n",
      "Epoch 14/200\n",
      "9/9 [==============================] - 1s 98ms/step - loss: 0.5065 - accuracy: 0.6250 - val_loss: 0.5620 - val_accuracy: 0.5000\n",
      "Epoch 15/200\n",
      "9/9 [==============================] - 1s 91ms/step - loss: 0.5120 - accuracy: 0.5833 - val_loss: 0.5420 - val_accuracy: 0.5556\n",
      "Epoch 16/200\n",
      "9/9 [==============================] - 1s 93ms/step - loss: 0.5012 - accuracy: 0.6389 - val_loss: 0.5536 - val_accuracy: 0.5000\n",
      "Epoch 17/200\n",
      "9/9 [==============================] - 1s 93ms/step - loss: 0.4676 - accuracy: 0.7083 - val_loss: 0.5563 - val_accuracy: 0.5556\n",
      "Epoch 18/200\n",
      "9/9 [==============================] - 1s 91ms/step - loss: 0.4176 - accuracy: 0.7083 - val_loss: 0.5790 - val_accuracy: 0.5556\n",
      "Epoch 19/200\n",
      "9/9 [==============================] - 1s 93ms/step - loss: 0.4510 - accuracy: 0.6944 - val_loss: 0.5489 - val_accuracy: 0.5556\n",
      "Epoch 20/200\n",
      "9/9 [==============================] - 1s 91ms/step - loss: 0.4712 - accuracy: 0.7083 - val_loss: 0.5397 - val_accuracy: 0.5000\n",
      "Epoch 21/200\n",
      "9/9 [==============================] - 1s 94ms/step - loss: 0.4869 - accuracy: 0.6250 - val_loss: 0.5377 - val_accuracy: 0.6111\n",
      "Epoch 22/200\n",
      "9/9 [==============================] - 1s 94ms/step - loss: 0.5023 - accuracy: 0.6528 - val_loss: 0.5416 - val_accuracy: 0.6111\n",
      "Epoch 23/200\n",
      "9/9 [==============================] - 1s 89ms/step - loss: 0.5051 - accuracy: 0.6806 - val_loss: 0.5227 - val_accuracy: 0.6111\n",
      "Epoch 24/200\n",
      "9/9 [==============================] - 1s 94ms/step - loss: 0.4790 - accuracy: 0.6667 - val_loss: 0.5268 - val_accuracy: 0.6111\n",
      "Epoch 25/200\n",
      "9/9 [==============================] - 1s 93ms/step - loss: 0.5086 - accuracy: 0.6389 - val_loss: 0.5331 - val_accuracy: 0.7222\n",
      "Epoch 26/200\n",
      "9/9 [==============================] - 1s 91ms/step - loss: 0.4512 - accuracy: 0.6944 - val_loss: 0.5060 - val_accuracy: 0.6667\n",
      "Epoch 27/200\n",
      "9/9 [==============================] - 1s 94ms/step - loss: 0.4579 - accuracy: 0.6806 - val_loss: 0.5599 - val_accuracy: 0.6111\n",
      "Epoch 28/200\n",
      "9/9 [==============================] - 1s 94ms/step - loss: 0.4751 - accuracy: 0.7083 - val_loss: 0.5083 - val_accuracy: 0.6111\n",
      "Epoch 29/200\n",
      "9/9 [==============================] - 1s 93ms/step - loss: 0.4336 - accuracy: 0.7222 - val_loss: 0.5054 - val_accuracy: 0.7222\n",
      "Epoch 30/200\n",
      "9/9 [==============================] - 1s 92ms/step - loss: 0.4681 - accuracy: 0.7222 - val_loss: 0.5017 - val_accuracy: 0.6667\n",
      "Epoch 31/200\n",
      "9/9 [==============================] - 1s 96ms/step - loss: 0.4497 - accuracy: 0.7361 - val_loss: 0.5350 - val_accuracy: 0.5556\n",
      "Epoch 32/200\n",
      "9/9 [==============================] - 1s 100ms/step - loss: 0.4583 - accuracy: 0.6944 - val_loss: 0.5347 - val_accuracy: 0.6111\n",
      "Epoch 33/200\n",
      "9/9 [==============================] - 1s 93ms/step - loss: 0.4331 - accuracy: 0.7361 - val_loss: 0.5326 - val_accuracy: 0.6111\n",
      "Epoch 34/200\n",
      "9/9 [==============================] - 1s 94ms/step - loss: 0.4144 - accuracy: 0.7222 - val_loss: 0.5345 - val_accuracy: 0.5556\n",
      "Epoch 35/200\n",
      "9/9 [==============================] - 1s 95ms/step - loss: 0.4425 - accuracy: 0.7083 - val_loss: 0.5203 - val_accuracy: 0.6111\n",
      "Epoch 36/200\n",
      "9/9 [==============================] - 1s 92ms/step - loss: 0.4126 - accuracy: 0.6806 - val_loss: 0.5168 - val_accuracy: 0.6667\n",
      "Epoch 37/200\n",
      "9/9 [==============================] - 1s 91ms/step - loss: 0.4411 - accuracy: 0.7083 - val_loss: 0.5736 - val_accuracy: 0.5556\n",
      "Epoch 38/200\n",
      "9/9 [==============================] - 1s 92ms/step - loss: 0.4005 - accuracy: 0.8056 - val_loss: 0.6332 - val_accuracy: 0.5556\n",
      "Epoch 39/200\n",
      "9/9 [==============================] - 1s 94ms/step - loss: 0.3731 - accuracy: 0.7361 - val_loss: 0.5448 - val_accuracy: 0.5556\n",
      "Epoch 40/200\n",
      "9/9 [==============================] - 1s 94ms/step - loss: 0.3884 - accuracy: 0.7639 - val_loss: 0.5454 - val_accuracy: 0.5556\n",
      "Epoch 41/200\n",
      "9/9 [==============================] - 1s 98ms/step - loss: 0.3785 - accuracy: 0.7500 - val_loss: 0.5136 - val_accuracy: 0.6111\n",
      "Epoch 42/200\n",
      "9/9 [==============================] - 1s 97ms/step - loss: 0.3536 - accuracy: 0.7222 - val_loss: 0.5397 - val_accuracy: 0.6111\n",
      "Epoch 43/200\n",
      "9/9 [==============================] - 1s 93ms/step - loss: 0.3906 - accuracy: 0.7500 - val_loss: 0.5867 - val_accuracy: 0.6111\n",
      "Epoch 44/200\n",
      "9/9 [==============================] - 1s 98ms/step - loss: 0.3623 - accuracy: 0.7361 - val_loss: 0.5225 - val_accuracy: 0.6111\n",
      "Epoch 45/200\n",
      "9/9 [==============================] - 1s 97ms/step - loss: 0.3824 - accuracy: 0.7222 - val_loss: 0.5159 - val_accuracy: 0.6667\n",
      "Epoch 46/200\n",
      "9/9 [==============================] - 1s 93ms/step - loss: 0.3691 - accuracy: 0.8056 - val_loss: 0.5245 - val_accuracy: 0.6667\n",
      "Epoch 47/200\n",
      "9/9 [==============================] - 1s 94ms/step - loss: 0.3476 - accuracy: 0.7500 - val_loss: 0.5727 - val_accuracy: 0.6667\n",
      "Epoch 48/200\n",
      "9/9 [==============================] - 1s 94ms/step - loss: 0.3938 - accuracy: 0.6944 - val_loss: 0.5526 - val_accuracy: 0.6667\n",
      "Epoch 49/200\n",
      "9/9 [==============================] - 1s 101ms/step - loss: 0.3344 - accuracy: 0.7778 - val_loss: 0.5374 - val_accuracy: 0.7222\n",
      "Epoch 50/200\n",
      "9/9 [==============================] - 1s 96ms/step - loss: 0.3504 - accuracy: 0.7917 - val_loss: 0.5236 - val_accuracy: 0.6667\n",
      "Epoch 51/200\n",
      "9/9 [==============================] - 1s 95ms/step - loss: 0.3378 - accuracy: 0.7778 - val_loss: 0.5087 - val_accuracy: 0.6111\n",
      "Epoch 52/200\n",
      "9/9 [==============================] - 1s 98ms/step - loss: 0.4175 - accuracy: 0.7639 - val_loss: 0.5254 - val_accuracy: 0.6667\n",
      "Epoch 53/200\n",
      "9/9 [==============================] - 1s 96ms/step - loss: 0.3371 - accuracy: 0.8056 - val_loss: 0.5081 - val_accuracy: 0.7222\n",
      "Epoch 54/200\n",
      "9/9 [==============================] - 1s 94ms/step - loss: 0.3455 - accuracy: 0.7917 - val_loss: 0.5236 - val_accuracy: 0.7222\n",
      "Epoch 55/200\n",
      "9/9 [==============================] - 1s 94ms/step - loss: 0.3468 - accuracy: 0.7917 - val_loss: 0.4860 - val_accuracy: 0.7222\n",
      "Epoch 56/200\n",
      "9/9 [==============================] - 1s 93ms/step - loss: 0.4108 - accuracy: 0.6667 - val_loss: 0.4866 - val_accuracy: 0.7222\n",
      "Epoch 57/200\n",
      "9/9 [==============================] - 1s 92ms/step - loss: 0.3795 - accuracy: 0.7361 - val_loss: 0.5252 - val_accuracy: 0.6667\n",
      "Epoch 58/200\n",
      "9/9 [==============================] - 1s 96ms/step - loss: 0.3333 - accuracy: 0.8056 - val_loss: 0.5224 - val_accuracy: 0.6111\n"
     ]
    },
    {
     "name": "stdout",
     "output_type": "stream",
     "text": [
      "Epoch 59/200\n",
      "9/9 [==============================] - 1s 96ms/step - loss: 0.3849 - accuracy: 0.7778 - val_loss: 0.4975 - val_accuracy: 0.6667\n",
      "Epoch 60/200\n",
      "9/9 [==============================] - 1s 91ms/step - loss: 0.3099 - accuracy: 0.8472 - val_loss: 0.5144 - val_accuracy: 0.6667\n",
      "Epoch 61/200\n",
      "9/9 [==============================] - 1s 92ms/step - loss: 0.3766 - accuracy: 0.7639 - val_loss: 0.4851 - val_accuracy: 0.6667\n",
      "Epoch 62/200\n",
      "9/9 [==============================] - 1s 96ms/step - loss: 0.2879 - accuracy: 0.8056 - val_loss: 0.4996 - val_accuracy: 0.6667\n",
      "Epoch 63/200\n",
      "9/9 [==============================] - 1s 95ms/step - loss: 0.3551 - accuracy: 0.7222 - val_loss: 0.6040 - val_accuracy: 0.6111\n",
      "Epoch 64/200\n",
      "9/9 [==============================] - 1s 98ms/step - loss: 0.3656 - accuracy: 0.7361 - val_loss: 0.6646 - val_accuracy: 0.6111\n",
      "Epoch 65/200\n",
      "9/9 [==============================] - 1s 96ms/step - loss: 0.4139 - accuracy: 0.7083 - val_loss: 0.5681 - val_accuracy: 0.6667\n",
      "Epoch 66/200\n",
      "9/9 [==============================] - 1s 100ms/step - loss: 0.4179 - accuracy: 0.7083 - val_loss: 0.5409 - val_accuracy: 0.7222\n",
      "Epoch 67/200\n",
      "9/9 [==============================] - 1s 99ms/step - loss: 0.3750 - accuracy: 0.7917 - val_loss: 0.5555 - val_accuracy: 0.6111\n",
      "Epoch 68/200\n",
      "9/9 [==============================] - 1s 96ms/step - loss: 0.3303 - accuracy: 0.7917 - val_loss: 0.5479 - val_accuracy: 0.6667\n",
      "Epoch 69/200\n",
      "9/9 [==============================] - 1s 96ms/step - loss: 0.3362 - accuracy: 0.7639 - val_loss: 0.5279 - val_accuracy: 0.6111\n",
      "Epoch 70/200\n",
      "9/9 [==============================] - 1s 93ms/step - loss: 0.4184 - accuracy: 0.7639 - val_loss: 0.5203 - val_accuracy: 0.6667\n",
      "Epoch 71/200\n",
      "9/9 [==============================] - 1s 101ms/step - loss: 0.3838 - accuracy: 0.7639 - val_loss: 0.5187 - val_accuracy: 0.6111\n",
      "Epoch 72/200\n",
      "9/9 [==============================] - 1s 92ms/step - loss: 0.3359 - accuracy: 0.7639 - val_loss: 0.5353 - val_accuracy: 0.6667\n",
      "Epoch 73/200\n",
      "9/9 [==============================] - 1s 94ms/step - loss: 0.3260 - accuracy: 0.7917 - val_loss: 0.5514 - val_accuracy: 0.6667\n",
      "Epoch 74/200\n",
      "9/9 [==============================] - 1s 94ms/step - loss: 0.3587 - accuracy: 0.7500 - val_loss: 0.5809 - val_accuracy: 0.6111\n",
      "Epoch 75/200\n",
      "9/9 [==============================] - 1s 92ms/step - loss: 0.3587 - accuracy: 0.7778 - val_loss: 0.5657 - val_accuracy: 0.6667\n",
      "Epoch 76/200\n",
      "9/9 [==============================] - 1s 94ms/step - loss: 0.3028 - accuracy: 0.7917 - val_loss: 0.5225 - val_accuracy: 0.6111\n",
      "Epoch 77/200\n",
      "9/9 [==============================] - 1s 95ms/step - loss: 0.3933 - accuracy: 0.7361 - val_loss: 0.5345 - val_accuracy: 0.6667\n",
      "Epoch 78/200\n",
      "9/9 [==============================] - 1s 95ms/step - loss: 0.2848 - accuracy: 0.8194 - val_loss: 0.5405 - val_accuracy: 0.7222\n",
      "Epoch 79/200\n",
      "9/9 [==============================] - 1s 93ms/step - loss: 0.3945 - accuracy: 0.7778 - val_loss: 0.5699 - val_accuracy: 0.5556\n",
      "Epoch 80/200\n",
      "9/9 [==============================] - 1s 97ms/step - loss: 0.3081 - accuracy: 0.8472 - val_loss: 0.5460 - val_accuracy: 0.6111\n",
      "Epoch 81/200\n",
      "9/9 [==============================] - 1s 91ms/step - loss: 0.3150 - accuracy: 0.8333 - val_loss: 0.5596 - val_accuracy: 0.6667\n",
      "Epoch 82/200\n",
      "9/9 [==============================] - 1s 95ms/step - loss: 0.3386 - accuracy: 0.7778 - val_loss: 0.6164 - val_accuracy: 0.6111\n",
      "Epoch 83/200\n",
      "9/9 [==============================] - 1s 91ms/step - loss: 0.3069 - accuracy: 0.7917 - val_loss: 0.5526 - val_accuracy: 0.6667\n",
      "Epoch 84/200\n",
      "9/9 [==============================] - 1s 97ms/step - loss: 0.3408 - accuracy: 0.8333 - val_loss: 0.5451 - val_accuracy: 0.6667\n",
      "Epoch 85/200\n",
      "9/9 [==============================] - 1s 97ms/step - loss: 0.3286 - accuracy: 0.7778 - val_loss: 0.5400 - val_accuracy: 0.6111\n",
      "Epoch 86/200\n",
      "9/9 [==============================] - 1s 93ms/step - loss: 0.3646 - accuracy: 0.7639 - val_loss: 0.5580 - val_accuracy: 0.6111\n",
      "Epoch 87/200\n",
      "9/9 [==============================] - 1s 96ms/step - loss: 0.3199 - accuracy: 0.8333 - val_loss: 0.5463 - val_accuracy: 0.6111\n",
      "Epoch 88/200\n",
      "9/9 [==============================] - 1s 93ms/step - loss: 0.3207 - accuracy: 0.8194 - val_loss: 0.5388 - val_accuracy: 0.6111\n",
      "Epoch 89/200\n",
      "9/9 [==============================] - 1s 92ms/step - loss: 0.2788 - accuracy: 0.7917 - val_loss: 0.5714 - val_accuracy: 0.7222\n",
      "Epoch 90/200\n",
      "9/9 [==============================] - 1s 91ms/step - loss: 0.2740 - accuracy: 0.7778 - val_loss: 0.5898 - val_accuracy: 0.6667\n",
      "Epoch 91/200\n",
      "9/9 [==============================] - 1s 93ms/step - loss: 0.3282 - accuracy: 0.7500 - val_loss: 0.6252 - val_accuracy: 0.6667\n",
      "Epoch 92/200\n",
      "9/9 [==============================] - 1s 94ms/step - loss: 0.2726 - accuracy: 0.8194 - val_loss: 0.5448 - val_accuracy: 0.6111\n",
      "Epoch 93/200\n",
      "9/9 [==============================] - 1s 98ms/step - loss: 0.3014 - accuracy: 0.8611 - val_loss: 0.5775 - val_accuracy: 0.5556\n",
      "Epoch 94/200\n",
      "9/9 [==============================] - 1s 97ms/step - loss: 0.2745 - accuracy: 0.8056 - val_loss: 0.5733 - val_accuracy: 0.6667\n",
      "Epoch 95/200\n",
      "9/9 [==============================] - 1s 93ms/step - loss: 0.3512 - accuracy: 0.7639 - val_loss: 0.6554 - val_accuracy: 0.6667\n",
      "Epoch 96/200\n",
      "9/9 [==============================] - 1s 94ms/step - loss: 0.2597 - accuracy: 0.8194 - val_loss: 0.6237 - val_accuracy: 0.6667\n",
      "Epoch 97/200\n",
      "9/9 [==============================] - 1s 95ms/step - loss: 0.3533 - accuracy: 0.7500 - val_loss: 0.6446 - val_accuracy: 0.6667\n",
      "Epoch 98/200\n",
      "9/9 [==============================] - 1s 91ms/step - loss: 0.2824 - accuracy: 0.7917 - val_loss: 0.5452 - val_accuracy: 0.6667\n",
      "Epoch 99/200\n",
      "9/9 [==============================] - 1s 94ms/step - loss: 0.3060 - accuracy: 0.8194 - val_loss: 0.5264 - val_accuracy: 0.7222\n",
      "Epoch 100/200\n",
      "9/9 [==============================] - 1s 93ms/step - loss: 0.2433 - accuracy: 0.8611 - val_loss: 0.5371 - val_accuracy: 0.6667\n",
      "Epoch 101/200\n",
      "9/9 [==============================] - 1s 98ms/step - loss: 0.3307 - accuracy: 0.7778 - val_loss: 0.5404 - val_accuracy: 0.6667\n",
      "Epoch 102/200\n",
      "9/9 [==============================] - 1s 102ms/step - loss: 0.2740 - accuracy: 0.8194 - val_loss: 0.5558 - val_accuracy: 0.6667\n",
      "Epoch 103/200\n",
      "9/9 [==============================] - 1s 93ms/step - loss: 0.3413 - accuracy: 0.7639 - val_loss: 0.5954 - val_accuracy: 0.6111\n",
      "Epoch 104/200\n",
      "9/9 [==============================] - 1s 98ms/step - loss: 0.2612 - accuracy: 0.8611 - val_loss: 0.6319 - val_accuracy: 0.6667\n",
      "Epoch 105/200\n",
      "9/9 [==============================] - 1s 95ms/step - loss: 0.3371 - accuracy: 0.7778 - val_loss: 0.5752 - val_accuracy: 0.6111\n",
      "Epoch 106/200\n",
      "9/9 [==============================] - 1s 93ms/step - loss: 0.2855 - accuracy: 0.8472 - val_loss: 0.5817 - val_accuracy: 0.6111\n",
      "Epoch 107/200\n",
      "9/9 [==============================] - 1s 93ms/step - loss: 0.2998 - accuracy: 0.8333 - val_loss: 0.6055 - val_accuracy: 0.6111\n",
      "Epoch 108/200\n",
      "9/9 [==============================] - 1s 95ms/step - loss: 0.2654 - accuracy: 0.8472 - val_loss: 0.5907 - val_accuracy: 0.6667\n",
      "Epoch 109/200\n",
      "9/9 [==============================] - 1s 91ms/step - loss: 0.3231 - accuracy: 0.7917 - val_loss: 0.5599 - val_accuracy: 0.7222\n",
      "Epoch 110/200\n",
      "9/9 [==============================] - 1s 93ms/step - loss: 0.2875 - accuracy: 0.8472 - val_loss: 0.5463 - val_accuracy: 0.7222\n",
      "Epoch 111/200\n",
      "9/9 [==============================] - 1s 96ms/step - loss: 0.2633 - accuracy: 0.8194 - val_loss: 0.5672 - val_accuracy: 0.7222\n",
      "Epoch 112/200\n",
      "9/9 [==============================] - 1s 92ms/step - loss: 0.3127 - accuracy: 0.8056 - val_loss: 0.5442 - val_accuracy: 0.7222\n",
      "Epoch 113/200\n",
      "9/9 [==============================] - 1s 91ms/step - loss: 0.2311 - accuracy: 0.8889 - val_loss: 0.5467 - val_accuracy: 0.7222\n",
      "Epoch 114/200\n",
      "9/9 [==============================] - 1s 94ms/step - loss: 0.3215 - accuracy: 0.7917 - val_loss: 0.5746 - val_accuracy: 0.7778\n",
      "Epoch 115/200\n",
      "9/9 [==============================] - 1s 96ms/step - loss: 0.2551 - accuracy: 0.8889 - val_loss: 0.5822 - val_accuracy: 0.7222\n",
      "Epoch 116/200\n",
      "9/9 [==============================] - 1s 94ms/step - loss: 0.3220 - accuracy: 0.8194 - val_loss: 0.5982 - val_accuracy: 0.5556\n"
     ]
    },
    {
     "name": "stdout",
     "output_type": "stream",
     "text": [
      "Epoch 117/200\n",
      "9/9 [==============================] - 1s 91ms/step - loss: 0.2685 - accuracy: 0.8889 - val_loss: 0.6103 - val_accuracy: 0.5556\n",
      "Epoch 118/200\n",
      "9/9 [==============================] - 1s 95ms/step - loss: 0.3149 - accuracy: 0.7778 - val_loss: 0.6231 - val_accuracy: 0.6667\n",
      "Epoch 119/200\n",
      "9/9 [==============================] - 1s 96ms/step - loss: 0.3112 - accuracy: 0.8194 - val_loss: 0.5749 - val_accuracy: 0.5556\n",
      "Epoch 120/200\n",
      "9/9 [==============================] - 1s 100ms/step - loss: 0.3348 - accuracy: 0.7639 - val_loss: 0.6123 - val_accuracy: 0.7222\n",
      "Epoch 121/200\n",
      "9/9 [==============================] - 1s 95ms/step - loss: 0.3001 - accuracy: 0.8194 - val_loss: 0.5920 - val_accuracy: 0.6111\n",
      "Epoch 122/200\n",
      "9/9 [==============================] - 1s 93ms/step - loss: 0.2844 - accuracy: 0.8472 - val_loss: 0.6149 - val_accuracy: 0.6111\n",
      "Epoch 123/200\n",
      "9/9 [==============================] - 1s 94ms/step - loss: 0.3008 - accuracy: 0.7778 - val_loss: 0.6326 - val_accuracy: 0.6667\n",
      "Epoch 124/200\n",
      "9/9 [==============================] - 1s 90ms/step - loss: 0.2703 - accuracy: 0.8194 - val_loss: 0.5497 - val_accuracy: 0.6111\n",
      "Epoch 125/200\n",
      "9/9 [==============================] - 1s 96ms/step - loss: 0.3284 - accuracy: 0.8056 - val_loss: 0.5746 - val_accuracy: 0.7222\n",
      "Epoch 126/200\n",
      "9/9 [==============================] - 1s 95ms/step - loss: 0.3348 - accuracy: 0.7500 - val_loss: 0.6237 - val_accuracy: 0.7222\n",
      "Epoch 127/200\n",
      "9/9 [==============================] - 1s 93ms/step - loss: 0.2511 - accuracy: 0.8611 - val_loss: 0.6151 - val_accuracy: 0.7222\n",
      "Epoch 128/200\n",
      "9/9 [==============================] - 1s 92ms/step - loss: 0.2780 - accuracy: 0.8194 - val_loss: 0.6897 - val_accuracy: 0.7222\n",
      "Epoch 129/200\n",
      "9/9 [==============================] - 1s 95ms/step - loss: 0.2907 - accuracy: 0.8056 - val_loss: 0.6115 - val_accuracy: 0.6111\n",
      "Epoch 130/200\n",
      "9/9 [==============================] - 1s 92ms/step - loss: 0.2754 - accuracy: 0.8750 - val_loss: 0.6492 - val_accuracy: 0.5000\n",
      "Epoch 131/200\n",
      "9/9 [==============================] - 1s 91ms/step - loss: 0.2636 - accuracy: 0.8611 - val_loss: 0.8331 - val_accuracy: 0.6667\n",
      "Epoch 132/200\n",
      "9/9 [==============================] - 1s 98ms/step - loss: 0.2781 - accuracy: 0.7917 - val_loss: 0.7961 - val_accuracy: 0.6667\n",
      "Epoch 133/200\n",
      "9/9 [==============================] - 1s 93ms/step - loss: 0.2630 - accuracy: 0.8472 - val_loss: 0.7197 - val_accuracy: 0.6667\n",
      "Epoch 134/200\n",
      "9/9 [==============================] - 1s 93ms/step - loss: 0.2229 - accuracy: 0.8333 - val_loss: 0.7276 - val_accuracy: 0.6667\n",
      "Epoch 135/200\n",
      "9/9 [==============================] - 1s 94ms/step - loss: 0.2271 - accuracy: 0.8611 - val_loss: 0.6811 - val_accuracy: 0.5556\n",
      "Epoch 136/200\n",
      "9/9 [==============================] - 1s 94ms/step - loss: 0.2589 - accuracy: 0.8333 - val_loss: 0.6955 - val_accuracy: 0.6667\n",
      "Epoch 137/200\n",
      "9/9 [==============================] - 1s 101ms/step - loss: 0.2228 - accuracy: 0.8750 - val_loss: 0.7165 - val_accuracy: 0.6667\n",
      "Epoch 138/200\n",
      "9/9 [==============================] - 1s 100ms/step - loss: 0.2788 - accuracy: 0.8333 - val_loss: 0.7480 - val_accuracy: 0.6667\n",
      "Epoch 139/200\n",
      "9/9 [==============================] - 1s 96ms/step - loss: 0.3137 - accuracy: 0.8056 - val_loss: 0.7074 - val_accuracy: 0.6667\n",
      "Epoch 140/200\n",
      "9/9 [==============================] - 1s 93ms/step - loss: 0.2576 - accuracy: 0.8472 - val_loss: 0.7557 - val_accuracy: 0.6667\n",
      "Epoch 141/200\n",
      "9/9 [==============================] - 1s 95ms/step - loss: 0.1749 - accuracy: 0.9444 - val_loss: 0.8517 - val_accuracy: 0.7222\n",
      "Epoch 142/200\n",
      "9/9 [==============================] - 1s 91ms/step - loss: 0.2288 - accuracy: 0.8333 - val_loss: 0.8226 - val_accuracy: 0.7222\n",
      "Epoch 143/200\n",
      "9/9 [==============================] - 1s 97ms/step - loss: 0.2659 - accuracy: 0.7917 - val_loss: 0.7614 - val_accuracy: 0.6111\n",
      "Epoch 144/200\n",
      "9/9 [==============================] - 1s 95ms/step - loss: 0.2181 - accuracy: 0.9306 - val_loss: 0.6983 - val_accuracy: 0.5556\n",
      "Epoch 145/200\n",
      "9/9 [==============================] - 1s 95ms/step - loss: 0.2191 - accuracy: 0.8611 - val_loss: 0.7338 - val_accuracy: 0.7222\n",
      "Epoch 146/200\n",
      "9/9 [==============================] - 1s 95ms/step - loss: 0.2442 - accuracy: 0.8333 - val_loss: 0.7087 - val_accuracy: 0.6111\n",
      "Epoch 147/200\n",
      "9/9 [==============================] - 1s 95ms/step - loss: 0.2497 - accuracy: 0.8333 - val_loss: 0.7156 - val_accuracy: 0.7222\n",
      "Epoch 148/200\n",
      "9/9 [==============================] - 1s 93ms/step - loss: 0.1826 - accuracy: 0.9167 - val_loss: 0.7954 - val_accuracy: 0.6667\n",
      "Epoch 149/200\n",
      "9/9 [==============================] - 1s 99ms/step - loss: 0.2853 - accuracy: 0.8056 - val_loss: 0.7620 - val_accuracy: 0.6667\n",
      "Epoch 150/200\n",
      "9/9 [==============================] - 1s 95ms/step - loss: 0.2173 - accuracy: 0.8750 - val_loss: 0.7186 - val_accuracy: 0.6667\n",
      "Epoch 151/200\n",
      "9/9 [==============================] - 1s 95ms/step - loss: 0.2150 - accuracy: 0.8889 - val_loss: 0.6625 - val_accuracy: 0.6667\n",
      "Epoch 152/200\n",
      "9/9 [==============================] - 1s 91ms/step - loss: 0.1996 - accuracy: 0.9167 - val_loss: 0.8070 - val_accuracy: 0.7222\n",
      "Epoch 153/200\n",
      "9/9 [==============================] - 1s 98ms/step - loss: 0.2468 - accuracy: 0.8194 - val_loss: 0.7035 - val_accuracy: 0.7222\n",
      "Epoch 154/200\n",
      "9/9 [==============================] - 1s 99ms/step - loss: 0.2240 - accuracy: 0.8611 - val_loss: 0.6643 - val_accuracy: 0.6111\n",
      "Epoch 155/200\n",
      "9/9 [==============================] - 1s 99ms/step - loss: 0.1816 - accuracy: 0.9028 - val_loss: 0.6686 - val_accuracy: 0.6111\n",
      "Epoch 156/200\n",
      "9/9 [==============================] - 1s 97ms/step - loss: 0.2320 - accuracy: 0.8611 - val_loss: 0.7840 - val_accuracy: 0.6667\n",
      "Epoch 157/200\n",
      "9/9 [==============================] - 1s 92ms/step - loss: 0.3287 - accuracy: 0.7778 - val_loss: 0.6695 - val_accuracy: 0.5556\n",
      "Epoch 158/200\n",
      "9/9 [==============================] - 1s 93ms/step - loss: 0.2901 - accuracy: 0.8333 - val_loss: 0.6682 - val_accuracy: 0.6111\n",
      "Epoch 159/200\n",
      "9/9 [==============================] - 1s 95ms/step - loss: 0.2037 - accuracy: 0.9028 - val_loss: 0.7609 - val_accuracy: 0.6667\n",
      "Epoch 160/200\n",
      "9/9 [==============================] - 1s 96ms/step - loss: 0.1962 - accuracy: 0.9167 - val_loss: 0.7939 - val_accuracy: 0.7222\n",
      "Epoch 161/200\n",
      "9/9 [==============================] - 1s 93ms/step - loss: 0.2696 - accuracy: 0.8611 - val_loss: 0.8572 - val_accuracy: 0.7222\n",
      "Epoch 162/200\n",
      "9/9 [==============================] - 1s 91ms/step - loss: 0.2556 - accuracy: 0.8333 - val_loss: 0.7330 - val_accuracy: 0.6667\n",
      "Epoch 163/200\n",
      "9/9 [==============================] - 1s 96ms/step - loss: 0.2537 - accuracy: 0.8194 - val_loss: 0.8502 - val_accuracy: 0.6667\n",
      "Epoch 164/200\n",
      "9/9 [==============================] - 1s 93ms/step - loss: 0.2928 - accuracy: 0.7917 - val_loss: 0.8021 - val_accuracy: 0.6667\n",
      "Epoch 165/200\n",
      "9/9 [==============================] - 1s 93ms/step - loss: 0.2985 - accuracy: 0.7917 - val_loss: 0.6295 - val_accuracy: 0.6667\n",
      "Epoch 166/200\n",
      "9/9 [==============================] - 1s 91ms/step - loss: 0.3145 - accuracy: 0.8056 - val_loss: 0.8083 - val_accuracy: 0.6667\n",
      "Epoch 167/200\n",
      "9/9 [==============================] - 1s 96ms/step - loss: 0.3157 - accuracy: 0.8333 - val_loss: 0.6918 - val_accuracy: 0.7222\n",
      "Epoch 168/200\n",
      "9/9 [==============================] - 1s 92ms/step - loss: 0.2547 - accuracy: 0.8611 - val_loss: 0.6668 - val_accuracy: 0.7222\n",
      "Epoch 169/200\n",
      "9/9 [==============================] - 1s 91ms/step - loss: 0.2118 - accuracy: 0.8611 - val_loss: 0.8210 - val_accuracy: 0.7222\n",
      "Epoch 170/200\n",
      "9/9 [==============================] - 1s 99ms/step - loss: 0.2197 - accuracy: 0.9167 - val_loss: 0.7452 - val_accuracy: 0.6667\n",
      "Epoch 171/200\n",
      "9/9 [==============================] - 1s 91ms/step - loss: 0.2380 - accuracy: 0.8750 - val_loss: 0.7094 - val_accuracy: 0.6111\n",
      "Epoch 172/200\n",
      "9/9 [==============================] - 1s 98ms/step - loss: 0.2074 - accuracy: 0.8750 - val_loss: 0.7247 - val_accuracy: 0.6111\n",
      "Epoch 173/200\n",
      "9/9 [==============================] - 1s 99ms/step - loss: 0.2354 - accuracy: 0.8750 - val_loss: 0.7632 - val_accuracy: 0.5556\n",
      "Epoch 174/200\n",
      "9/9 [==============================] - 1s 96ms/step - loss: 0.2384 - accuracy: 0.8611 - val_loss: 0.7627 - val_accuracy: 0.6111\n"
     ]
    },
    {
     "name": "stdout",
     "output_type": "stream",
     "text": [
      "Epoch 175/200\n",
      "9/9 [==============================] - 1s 93ms/step - loss: 0.2475 - accuracy: 0.8056 - val_loss: 0.8848 - val_accuracy: 0.6667\n",
      "Epoch 176/200\n",
      "9/9 [==============================] - 1s 93ms/step - loss: 0.3126 - accuracy: 0.7778 - val_loss: 0.8146 - val_accuracy: 0.6667\n",
      "Epoch 177/200\n",
      "9/9 [==============================] - 1s 96ms/step - loss: 0.2608 - accuracy: 0.7917 - val_loss: 0.8598 - val_accuracy: 0.6667\n",
      "Epoch 178/200\n",
      "9/9 [==============================] - 1s 93ms/step - loss: 0.2020 - accuracy: 0.8611 - val_loss: 0.9415 - val_accuracy: 0.6667\n",
      "Epoch 179/200\n",
      "9/9 [==============================] - 1s 92ms/step - loss: 0.2882 - accuracy: 0.8056 - val_loss: 0.8616 - val_accuracy: 0.6667\n",
      "Epoch 180/200\n",
      "9/9 [==============================] - 1s 93ms/step - loss: 0.2508 - accuracy: 0.8611 - val_loss: 0.7306 - val_accuracy: 0.6111\n",
      "Epoch 181/200\n",
      "9/9 [==============================] - 1s 93ms/step - loss: 0.1926 - accuracy: 0.9167 - val_loss: 0.7937 - val_accuracy: 0.6111\n",
      "Epoch 182/200\n",
      "9/9 [==============================] - 1s 95ms/step - loss: 0.2696 - accuracy: 0.8611 - val_loss: 0.8520 - val_accuracy: 0.5556\n",
      "Epoch 183/200\n",
      "9/9 [==============================] - 1s 91ms/step - loss: 0.1738 - accuracy: 0.9306 - val_loss: 0.8375 - val_accuracy: 0.5556\n",
      "Epoch 184/200\n",
      "9/9 [==============================] - 1s 98ms/step - loss: 0.2310 - accuracy: 0.8472 - val_loss: 0.8749 - val_accuracy: 0.6111\n",
      "Epoch 185/200\n",
      "9/9 [==============================] - 1s 92ms/step - loss: 0.2586 - accuracy: 0.8611 - val_loss: 0.7483 - val_accuracy: 0.5556\n",
      "Epoch 186/200\n",
      "9/9 [==============================] - 1s 95ms/step - loss: 0.2210 - accuracy: 0.8889 - val_loss: 0.7524 - val_accuracy: 0.6111\n",
      "Epoch 187/200\n",
      "9/9 [==============================] - 1s 97ms/step - loss: 0.1892 - accuracy: 0.8889 - val_loss: 0.7235 - val_accuracy: 0.6111\n",
      "Epoch 188/200\n",
      "9/9 [==============================] - 1s 95ms/step - loss: 0.1740 - accuracy: 0.9306 - val_loss: 0.7533 - val_accuracy: 0.6111\n",
      "Epoch 189/200\n",
      "9/9 [==============================] - 1s 99ms/step - loss: 0.1734 - accuracy: 0.9028 - val_loss: 0.8397 - val_accuracy: 0.6667\n",
      "Epoch 190/200\n",
      "9/9 [==============================] - 1s 97ms/step - loss: 0.2025 - accuracy: 0.9028 - val_loss: 0.7875 - val_accuracy: 0.6111\n",
      "Epoch 191/200\n",
      "9/9 [==============================] - 1s 97ms/step - loss: 0.1763 - accuracy: 0.9028 - val_loss: 0.7451 - val_accuracy: 0.5556\n",
      "Epoch 192/200\n",
      "9/9 [==============================] - 1s 92ms/step - loss: 0.2311 - accuracy: 0.8750 - val_loss: 0.7371 - val_accuracy: 0.6111\n",
      "Epoch 193/200\n",
      "9/9 [==============================] - 1s 93ms/step - loss: 0.2641 - accuracy: 0.8472 - val_loss: 0.7894 - val_accuracy: 0.5556\n",
      "Epoch 194/200\n",
      "9/9 [==============================] - 1s 92ms/step - loss: 0.1816 - accuracy: 0.8472 - val_loss: 0.9160 - val_accuracy: 0.6667\n",
      "Epoch 195/200\n",
      "9/9 [==============================] - 1s 93ms/step - loss: 0.1791 - accuracy: 0.8889 - val_loss: 0.7903 - val_accuracy: 0.5556\n",
      "Epoch 196/200\n",
      "9/9 [==============================] - 1s 94ms/step - loss: 0.1771 - accuracy: 0.9167 - val_loss: 0.8318 - val_accuracy: 0.6667\n",
      "Epoch 197/200\n",
      "9/9 [==============================] - 1s 93ms/step - loss: 0.2417 - accuracy: 0.8472 - val_loss: 0.6884 - val_accuracy: 0.5000\n",
      "Epoch 198/200\n",
      "9/9 [==============================] - 1s 94ms/step - loss: 0.2193 - accuracy: 0.9028 - val_loss: 0.7767 - val_accuracy: 0.6111\n",
      "Epoch 199/200\n",
      "9/9 [==============================] - 1s 94ms/step - loss: 0.2240 - accuracy: 0.8611 - val_loss: 0.7277 - val_accuracy: 0.6111\n",
      "Epoch 200/200\n",
      "9/9 [==============================] - 1s 92ms/step - loss: 0.2104 - accuracy: 0.8889 - val_loss: 0.7449 - val_accuracy: 0.5556\n"
     ]
    }
   ],
   "source": [
    "# Train the Network Model\n",
    "# 모델 교육\n",
    "print(\"[INFO] Model Training\")\n",
    "start = timeit.default_timer()\n",
    "H = model.fit(\n",
    "        trainAug.flow(trainX, trainY, batch_size=BS),\n",
    "        steps_per_epoch=len(trainX) // BS,\n",
    "        validation_data=(testX, testY),\n",
    "        validation_steps=len(testX) // BS,\n",
    "        epochs=EPOCHS)"
   ]
  },
  {
   "cell_type": "code",
   "execution_count": 24,
   "id": "c287ab9b",
   "metadata": {
    "scrolled": true
   },
   "outputs": [
    {
     "name": "stdout",
     "output_type": "stream",
     "text": [
      "Total Training Time:  189.0628587\n"
     ]
    }
   ],
   "source": [
    "stop = timeit.default_timer()\n",
    "print('Total Training Time: ', stop - start) "
   ]
  },
  {
   "cell_type": "code",
   "execution_count": null,
   "id": "d689ae66",
   "metadata": {},
   "outputs": [],
   "source": []
  },
  {
   "cell_type": "code",
   "execution_count": 25,
   "id": "ebd52999",
   "metadata": {},
   "outputs": [
    {
     "data": {
      "text/plain": [
       "(18, 224, 224, 3)"
      ]
     },
     "execution_count": 25,
     "metadata": {},
     "output_type": "execute_result"
    }
   ],
   "source": [
    "testX.shape"
   ]
  },
  {
   "cell_type": "code",
   "execution_count": null,
   "id": "54faf525",
   "metadata": {},
   "outputs": [],
   "source": []
  },
  {
   "cell_type": "code",
   "execution_count": 26,
   "id": "cba2aa2a",
   "metadata": {},
   "outputs": [
    {
     "name": "stdout",
     "output_type": "stream",
     "text": [
      "Making Predictions on the Test Set\n",
      "Classification Report\n",
      "              precision    recall  f1-score   support\n",
      "\n",
      "           0       0.58      0.78      0.67         9\n",
      "           1       0.50      0.33      0.40         3\n",
      "           2       0.50      0.33      0.40         6\n",
      "\n",
      "    accuracy                           0.56        18\n",
      "   macro avg       0.53      0.48      0.49        18\n",
      "weighted avg       0.54      0.56      0.53        18\n",
      "\n"
     ]
    }
   ],
   "source": [
    "# Make predictions on the testing set\n",
    "# 테스트 세트에서 예측한다\n",
    "print(\"Making Predictions on the Test Set\")\n",
    "predIdxs = model.predict(testX, batch_size=BS)\n",
    "preds = predIdxs\n",
    "predIdxs = np.argmax(predIdxs, axis=1)\n",
    "print(\"Classification Report\")\n",
    "print(classification_report(testY.argmax(axis=1), predIdxs, target_names=lb.classes_))"
   ]
  },
  {
   "cell_type": "code",
   "execution_count": 27,
   "id": "62354ab6",
   "metadata": {},
   "outputs": [
    {
     "data": {
      "text/plain": [
       "array([[5.80181241e-01, 1.65758654e-03, 4.18161184e-01],\n",
       "       [6.49632141e-03, 3.04181740e-04, 9.93199527e-01],\n",
       "       [5.39274588e-02, 1.08428178e-02, 9.35229659e-01],\n",
       "       [8.55322957e-01, 3.92716751e-03, 1.40749902e-01],\n",
       "       [2.38317717e-02, 9.70240951e-01, 5.92735549e-03],\n",
       "       [9.99851584e-01, 8.46042167e-06, 1.39896903e-04],\n",
       "       [7.14303315e-01, 5.46479505e-03, 2.80231893e-01],\n",
       "       [9.55554962e-01, 4.37505059e-02, 6.94501447e-04],\n",
       "       [9.99984503e-01, 4.71583604e-07, 1.50114920e-05],\n",
       "       [9.99994397e-01, 6.81580481e-09, 5.57365911e-06],\n",
       "       [8.41323972e-01, 1.56681255e-01, 1.99483195e-03],\n",
       "       [9.98669505e-01, 2.56528438e-05, 1.30486966e-03],\n",
       "       [9.99998689e-01, 2.36776501e-08, 1.26521525e-06],\n",
       "       [8.81621465e-02, 2.64287719e-05, 9.11811471e-01],\n",
       "       [1.04854636e-01, 5.59428036e-01, 3.35717380e-01],\n",
       "       [9.72307682e-01, 5.27403317e-05, 2.76395194e-02],\n",
       "       [3.70898455e-01, 1.13548756e-01, 5.15552819e-01],\n",
       "       [9.89999831e-01, 1.71811698e-05, 9.98300314e-03]], dtype=float32)"
      ]
     },
     "execution_count": 27,
     "metadata": {},
     "output_type": "execute_result"
    }
   ],
   "source": [
    "preds"
   ]
  },
  {
   "cell_type": "code",
   "execution_count": 28,
   "id": "745a4933",
   "metadata": {},
   "outputs": [
    {
     "data": {
      "text/plain": [
       "18"
      ]
     },
     "execution_count": 28,
     "metadata": {},
     "output_type": "execute_result"
    }
   ],
   "source": [
    "len(predIdxs)"
   ]
  },
  {
   "cell_type": "code",
   "execution_count": 29,
   "id": "d36e048e",
   "metadata": {},
   "outputs": [
    {
     "name": "stdout",
     "output_type": "stream",
     "text": [
      "Confusion Matrix and its Derrivatives\n",
      "[[7 0 2]\n",
      " [2 1 0]\n",
      " [3 1 2]]\n",
      "acc: 0.5556\n",
      "sensitivity: 1.0000\n",
      "specificity: 0.3333\n"
     ]
    }
   ],
   "source": [
    "# Compute Confusion Matrix and derrive raw, accuracy, sensitivity, specificity from it\n",
    "# 혼란 매트릭스\n",
    "cm= confusion_matrix(testY.argmax(axis=1), predIdxs)\n",
    "total = sum(sum(cm))\n",
    "acc = (cm[0,0] + cm[1,1] + cm[2,2]) / total\n",
    "\n",
    "sensitivity = cm[0, 0] / (cm[0, 0] + cm[0, 1])\n",
    "specificity = cm[1, 1] / (cm[1, 0] + cm[1, 1])\n",
    "# show the confusion matrix, accuracy, sensitivity, and specificity\n",
    "# 혼란 매트릭스 보기\n",
    "print(\"Confusion Matrix and its Derrivatives\")\n",
    "print(cm)\n",
    "print(\"acc: {:.4f}\".format(acc))\n",
    "print(\"sensitivity: {:.4f}\".format(sensitivity))\n",
    "print(\"specificity: {:.4f}\".format(specificity))"
   ]
  },
  {
   "cell_type": "code",
   "execution_count": 30,
   "id": "4b099c6f",
   "metadata": {},
   "outputs": [
    {
     "data": {
      "text/plain": [
       "[0.3194444477558136,\n",
       " 0.5416666865348816,\n",
       " 0.5138888955116272,\n",
       " 0.5416666865348816,\n",
       " 0.5694444179534912,\n",
       " 0.6527777910232544,\n",
       " 0.6388888955116272,\n",
       " 0.5555555820465088,\n",
       " 0.5972222089767456,\n",
       " 0.5972222089767456,\n",
       " 0.6388888955116272,\n",
       " 0.6666666865348816,\n",
       " 0.625,\n",
       " 0.625,\n",
       " 0.5833333134651184,\n",
       " 0.6388888955116272,\n",
       " 0.7083333134651184,\n",
       " 0.7083333134651184,\n",
       " 0.6944444179534912,\n",
       " 0.7083333134651184,\n",
       " 0.625,\n",
       " 0.6527777910232544,\n",
       " 0.6805555820465088,\n",
       " 0.6666666865348816,\n",
       " 0.6388888955116272,\n",
       " 0.6944444179534912,\n",
       " 0.6805555820465088,\n",
       " 0.7083333134651184,\n",
       " 0.7222222089767456,\n",
       " 0.7222222089767456,\n",
       " 0.7361111044883728,\n",
       " 0.6944444179534912,\n",
       " 0.7361111044883728,\n",
       " 0.7222222089767456,\n",
       " 0.7083333134651184,\n",
       " 0.6805555820465088,\n",
       " 0.7083333134651184,\n",
       " 0.8055555820465088,\n",
       " 0.7361111044883728,\n",
       " 0.7638888955116272,\n",
       " 0.75,\n",
       " 0.7222222089767456,\n",
       " 0.75,\n",
       " 0.7361111044883728,\n",
       " 0.7222222089767456,\n",
       " 0.8055555820465088,\n",
       " 0.75,\n",
       " 0.6944444179534912,\n",
       " 0.7777777910232544,\n",
       " 0.7916666865348816,\n",
       " 0.7777777910232544,\n",
       " 0.7638888955116272,\n",
       " 0.8055555820465088,\n",
       " 0.7916666865348816,\n",
       " 0.7916666865348816,\n",
       " 0.6666666865348816,\n",
       " 0.7361111044883728,\n",
       " 0.8055555820465088,\n",
       " 0.7777777910232544,\n",
       " 0.8472222089767456,\n",
       " 0.7638888955116272,\n",
       " 0.8055555820465088,\n",
       " 0.7222222089767456,\n",
       " 0.7361111044883728,\n",
       " 0.7083333134651184,\n",
       " 0.7083333134651184,\n",
       " 0.7916666865348816,\n",
       " 0.7916666865348816,\n",
       " 0.7638888955116272,\n",
       " 0.7638888955116272,\n",
       " 0.7638888955116272,\n",
       " 0.7638888955116272,\n",
       " 0.7916666865348816,\n",
       " 0.75,\n",
       " 0.7777777910232544,\n",
       " 0.7916666865348816,\n",
       " 0.7361111044883728,\n",
       " 0.8194444179534912,\n",
       " 0.7777777910232544,\n",
       " 0.8472222089767456,\n",
       " 0.8333333134651184,\n",
       " 0.7777777910232544,\n",
       " 0.7916666865348816,\n",
       " 0.8333333134651184,\n",
       " 0.7777777910232544,\n",
       " 0.7638888955116272,\n",
       " 0.8333333134651184,\n",
       " 0.8194444179534912,\n",
       " 0.7916666865348816,\n",
       " 0.7777777910232544,\n",
       " 0.75,\n",
       " 0.8194444179534912,\n",
       " 0.8611111044883728,\n",
       " 0.8055555820465088,\n",
       " 0.7638888955116272,\n",
       " 0.8194444179534912,\n",
       " 0.75,\n",
       " 0.7916666865348816,\n",
       " 0.8194444179534912,\n",
       " 0.8611111044883728,\n",
       " 0.7777777910232544,\n",
       " 0.8194444179534912,\n",
       " 0.7638888955116272,\n",
       " 0.8611111044883728,\n",
       " 0.7777777910232544,\n",
       " 0.8472222089767456,\n",
       " 0.8333333134651184,\n",
       " 0.8472222089767456,\n",
       " 0.7916666865348816,\n",
       " 0.8472222089767456,\n",
       " 0.8194444179534912,\n",
       " 0.8055555820465088,\n",
       " 0.8888888955116272,\n",
       " 0.7916666865348816,\n",
       " 0.8888888955116272,\n",
       " 0.8194444179534912,\n",
       " 0.8888888955116272,\n",
       " 0.7777777910232544,\n",
       " 0.8194444179534912,\n",
       " 0.7638888955116272,\n",
       " 0.8194444179534912,\n",
       " 0.8472222089767456,\n",
       " 0.7777777910232544,\n",
       " 0.8194444179534912,\n",
       " 0.8055555820465088,\n",
       " 0.75,\n",
       " 0.8611111044883728,\n",
       " 0.8194444179534912,\n",
       " 0.8055555820465088,\n",
       " 0.875,\n",
       " 0.8611111044883728,\n",
       " 0.7916666865348816,\n",
       " 0.8472222089767456,\n",
       " 0.8333333134651184,\n",
       " 0.8611111044883728,\n",
       " 0.8333333134651184,\n",
       " 0.875,\n",
       " 0.8333333134651184,\n",
       " 0.8055555820465088,\n",
       " 0.8472222089767456,\n",
       " 0.9444444179534912,\n",
       " 0.8333333134651184,\n",
       " 0.7916666865348816,\n",
       " 0.9305555820465088,\n",
       " 0.8611111044883728,\n",
       " 0.8333333134651184,\n",
       " 0.8333333134651184,\n",
       " 0.9166666865348816,\n",
       " 0.8055555820465088,\n",
       " 0.875,\n",
       " 0.8888888955116272,\n",
       " 0.9166666865348816,\n",
       " 0.8194444179534912,\n",
       " 0.8611111044883728,\n",
       " 0.9027777910232544,\n",
       " 0.8611111044883728,\n",
       " 0.7777777910232544,\n",
       " 0.8333333134651184,\n",
       " 0.9027777910232544,\n",
       " 0.9166666865348816,\n",
       " 0.8611111044883728,\n",
       " 0.8333333134651184,\n",
       " 0.8194444179534912,\n",
       " 0.7916666865348816,\n",
       " 0.7916666865348816,\n",
       " 0.8055555820465088,\n",
       " 0.8333333134651184,\n",
       " 0.8611111044883728,\n",
       " 0.8611111044883728,\n",
       " 0.9166666865348816,\n",
       " 0.875,\n",
       " 0.875,\n",
       " 0.875,\n",
       " 0.8611111044883728,\n",
       " 0.8055555820465088,\n",
       " 0.7777777910232544,\n",
       " 0.7916666865348816,\n",
       " 0.8611111044883728,\n",
       " 0.8055555820465088,\n",
       " 0.8611111044883728,\n",
       " 0.9166666865348816,\n",
       " 0.8611111044883728,\n",
       " 0.9305555820465088,\n",
       " 0.8472222089767456,\n",
       " 0.8611111044883728,\n",
       " 0.8888888955116272,\n",
       " 0.8888888955116272,\n",
       " 0.9305555820465088,\n",
       " 0.9027777910232544,\n",
       " 0.9027777910232544,\n",
       " 0.9027777910232544,\n",
       " 0.875,\n",
       " 0.8472222089767456,\n",
       " 0.8472222089767456,\n",
       " 0.8888888955116272,\n",
       " 0.9166666865348816,\n",
       " 0.8472222089767456,\n",
       " 0.9027777910232544,\n",
       " 0.8611111044883728,\n",
       " 0.8888888955116272]"
      ]
     },
     "execution_count": 30,
     "metadata": {},
     "output_type": "execute_result"
    }
   ],
   "source": [
    "H.history[\"accuracy\"]"
   ]
  },
  {
   "cell_type": "code",
   "execution_count": 31,
   "id": "5de6d696",
   "metadata": {},
   "outputs": [
    {
     "name": "stdout",
     "output_type": "stream",
     "text": [
      "Final Plot Generated.\n"
     ]
    },
    {
     "data": {
      "image/png": "[encoded data removed]",
      "text/plain": [
       "<Figure size 432x288 with 1 Axes>"
      ]
     },
     "metadata": {},
     "output_type": "display_data"
    }
   ],
   "source": [
    "# plot the training loss and accuracy\n",
    "# 플롯 그래프\n",
    "print(\"Final Plot Generated.\")\n",
    "N = EPOCHS\n",
    "plt.style.use(\"ggplot\")\n",
    "plt.figure()\n",
    "plt.plot(np.arange(0, N), H.history[\"loss\"], label=\"train_loss\")\n",
    "plt.plot(np.arange(0, N), H.history[\"val_loss\"], label=\"val_loss\")\n",
    "plt.plot(np.arange(0, N), H.history[\"accuracy\"], label=\"train_acc\")\n",
    "plt.plot(np.arange(0, N), H.history[\"val_accuracy\"], label=\"val_acc\")\n",
    "plt.title(\"Allergic Rhinitis XceptNet-Aligned-all-e-3-0.5\")\n",
    "plt.xlabel(\"Epoch #\")\n",
    "plt.ylabel(\"Loss/Accuracy\")\n",
    "plt.legend(loc=\"lower left\")\n",
    "plt.savefig(\"[iter-3] [XCEPTN] plot,rotate-1e3\")"
   ]
  },
  {
   "cell_type": "markdown",
   "id": "3e1e9f07",
   "metadata": {},
   "source": [
    "model.output_shape # model summary representation\n",
    "model.summary() # model configuration\n",
    "model.get_config() # list all weight tensors in the model"
   ]
  },
  {
   "cell_type": "code",
   "execution_count": 32,
   "id": "8d7c1b75",
   "metadata": {},
   "outputs": [
    {
     "data": {
      "text/plain": [
       "(None, 3)"
      ]
     },
     "execution_count": 32,
     "metadata": {},
     "output_type": "execute_result"
    }
   ],
   "source": [
    "model.output_shape"
   ]
  },
  {
   "cell_type": "code",
   "execution_count": 33,
   "id": "b834c81a",
   "metadata": {},
   "outputs": [
    {
     "name": "stdout",
     "output_type": "stream",
     "text": [
      "Model: \"model\"\n",
      "__________________________________________________________________________________________________\n",
      "Layer (type)                    Output Shape         Param #     Connected to                     \n",
      "==================================================================================================\n",
      "input_1 (InputLayer)            [(None, 224, 224, 3) 0                                            \n",
      "__________________________________________________________________________________________________\n",
      "block1_conv1 (Conv2D)           (None, 111, 111, 32) 864         input_1[0][0]                    \n",
      "__________________________________________________________________________________________________\n",
      "block1_conv1_bn (BatchNormaliza (None, 111, 111, 32) 128         block1_conv1[0][0]               \n",
      "__________________________________________________________________________________________________\n",
      "block1_conv1_act (Activation)   (None, 111, 111, 32) 0           block1_conv1_bn[0][0]            \n",
      "__________________________________________________________________________________________________\n",
      "block1_conv2 (Conv2D)           (None, 109, 109, 64) 18432       block1_conv1_act[0][0]           \n",
      "__________________________________________________________________________________________________\n",
      "block1_conv2_bn (BatchNormaliza (None, 109, 109, 64) 256         block1_conv2[0][0]               \n",
      "__________________________________________________________________________________________________\n",
      "block1_conv2_act (Activation)   (None, 109, 109, 64) 0           block1_conv2_bn[0][0]            \n",
      "__________________________________________________________________________________________________\n",
      "block2_sepconv1 (SeparableConv2 (None, 109, 109, 128 8768        block1_conv2_act[0][0]           \n",
      "__________________________________________________________________________________________________\n",
      "block2_sepconv1_bn (BatchNormal (None, 109, 109, 128 512         block2_sepconv1[0][0]            \n",
      "__________________________________________________________________________________________________\n",
      "block2_sepconv2_act (Activation (None, 109, 109, 128 0           block2_sepconv1_bn[0][0]         \n",
      "__________________________________________________________________________________________________\n",
      "block2_sepconv2 (SeparableConv2 (None, 109, 109, 128 17536       block2_sepconv2_act[0][0]        \n",
      "__________________________________________________________________________________________________\n",
      "block2_sepconv2_bn (BatchNormal (None, 109, 109, 128 512         block2_sepconv2[0][0]            \n",
      "__________________________________________________________________________________________________\n",
      "conv2d (Conv2D)                 (None, 55, 55, 128)  8192        block1_conv2_act[0][0]           \n",
      "__________________________________________________________________________________________________\n",
      "block2_pool (MaxPooling2D)      (None, 55, 55, 128)  0           block2_sepconv2_bn[0][0]         \n",
      "__________________________________________________________________________________________________\n",
      "batch_normalization (BatchNorma (None, 55, 55, 128)  512         conv2d[0][0]                     \n",
      "__________________________________________________________________________________________________\n",
      "add (Add)                       (None, 55, 55, 128)  0           block2_pool[0][0]                \n",
      "                                                                 batch_normalization[0][0]        \n",
      "__________________________________________________________________________________________________\n",
      "block3_sepconv1_act (Activation (None, 55, 55, 128)  0           add[0][0]                        \n",
      "__________________________________________________________________________________________________\n",
      "block3_sepconv1 (SeparableConv2 (None, 55, 55, 256)  33920       block3_sepconv1_act[0][0]        \n",
      "__________________________________________________________________________________________________\n",
      "block3_sepconv1_bn (BatchNormal (None, 55, 55, 256)  1024        block3_sepconv1[0][0]            \n",
      "__________________________________________________________________________________________________\n",
      "block3_sepconv2_act (Activation (None, 55, 55, 256)  0           block3_sepconv1_bn[0][0]         \n",
      "__________________________________________________________________________________________________\n",
      "block3_sepconv2 (SeparableConv2 (None, 55, 55, 256)  67840       block3_sepconv2_act[0][0]        \n",
      "__________________________________________________________________________________________________\n",
      "block3_sepconv2_bn (BatchNormal (None, 55, 55, 256)  1024        block3_sepconv2[0][0]            \n",
      "__________________________________________________________________________________________________\n",
      "conv2d_1 (Conv2D)               (None, 28, 28, 256)  32768       add[0][0]                        \n",
      "__________________________________________________________________________________________________\n",
      "block3_pool (MaxPooling2D)      (None, 28, 28, 256)  0           block3_sepconv2_bn[0][0]         \n",
      "__________________________________________________________________________________________________\n",
      "batch_normalization_1 (BatchNor (None, 28, 28, 256)  1024        conv2d_1[0][0]                   \n",
      "__________________________________________________________________________________________________\n",
      "add_1 (Add)                     (None, 28, 28, 256)  0           block3_pool[0][0]                \n",
      "                                                                 batch_normalization_1[0][0]      \n",
      "__________________________________________________________________________________________________\n",
      "block4_sepconv1_act (Activation (None, 28, 28, 256)  0           add_1[0][0]                      \n",
      "__________________________________________________________________________________________________\n",
      "block4_sepconv1 (SeparableConv2 (None, 28, 28, 728)  188672      block4_sepconv1_act[0][0]        \n",
      "__________________________________________________________________________________________________\n",
      "block4_sepconv1_bn (BatchNormal (None, 28, 28, 728)  2912        block4_sepconv1[0][0]            \n",
      "__________________________________________________________________________________________________\n",
      "block4_sepconv2_act (Activation (None, 28, 28, 728)  0           block4_sepconv1_bn[0][0]         \n",
      "__________________________________________________________________________________________________\n",
      "block4_sepconv2 (SeparableConv2 (None, 28, 28, 728)  536536      block4_sepconv2_act[0][0]        \n",
      "__________________________________________________________________________________________________\n",
      "block4_sepconv2_bn (BatchNormal (None, 28, 28, 728)  2912        block4_sepconv2[0][0]            \n",
      "__________________________________________________________________________________________________\n",
      "conv2d_2 (Conv2D)               (None, 14, 14, 728)  186368      add_1[0][0]                      \n",
      "__________________________________________________________________________________________________\n",
      "block4_pool (MaxPooling2D)      (None, 14, 14, 728)  0           block4_sepconv2_bn[0][0]         \n",
      "__________________________________________________________________________________________________\n",
      "batch_normalization_2 (BatchNor (None, 14, 14, 728)  2912        conv2d_2[0][0]                   \n",
      "__________________________________________________________________________________________________\n",
      "add_2 (Add)                     (None, 14, 14, 728)  0           block4_pool[0][0]                \n",
      "                                                                 batch_normalization_2[0][0]      \n",
      "__________________________________________________________________________________________________\n",
      "block5_sepconv1_act (Activation (None, 14, 14, 728)  0           add_2[0][0]                      \n",
      "__________________________________________________________________________________________________\n",
      "block5_sepconv1 (SeparableConv2 (None, 14, 14, 728)  536536      block5_sepconv1_act[0][0]        \n",
      "__________________________________________________________________________________________________\n",
      "block5_sepconv1_bn (BatchNormal (None, 14, 14, 728)  2912        block5_sepconv1[0][0]            \n",
      "__________________________________________________________________________________________________\n",
      "block5_sepconv2_act (Activation (None, 14, 14, 728)  0           block5_sepconv1_bn[0][0]         \n",
      "__________________________________________________________________________________________________\n",
      "block5_sepconv2 (SeparableConv2 (None, 14, 14, 728)  536536      block5_sepconv2_act[0][0]        \n",
      "__________________________________________________________________________________________________\n",
      "block5_sepconv2_bn (BatchNormal (None, 14, 14, 728)  2912        block5_sepconv2[0][0]            \n",
      "__________________________________________________________________________________________________\n",
      "block5_sepconv3_act (Activation (None, 14, 14, 728)  0           block5_sepconv2_bn[0][0]         \n",
      "__________________________________________________________________________________________________\n",
      "block5_sepconv3 (SeparableConv2 (None, 14, 14, 728)  536536      block5_sepconv3_act[0][0]        \n",
      "__________________________________________________________________________________________________\n",
      "block5_sepconv3_bn (BatchNormal (None, 14, 14, 728)  2912        block5_sepconv3[0][0]            \n",
      "__________________________________________________________________________________________________\n",
      "add_3 (Add)                     (None, 14, 14, 728)  0           block5_sepconv3_bn[0][0]         \n",
      "                                                                 add_2[0][0]                      \n",
      "__________________________________________________________________________________________________\n",
      "block6_sepconv1_act (Activation (None, 14, 14, 728)  0           add_3[0][0]                      \n",
      "__________________________________________________________________________________________________\n",
      "block6_sepconv1 (SeparableConv2 (None, 14, 14, 728)  536536      block6_sepconv1_act[0][0]        \n",
      "__________________________________________________________________________________________________\n",
      "block6_sepconv1_bn (BatchNormal (None, 14, 14, 728)  2912        block6_sepconv1[0][0]            \n",
      "__________________________________________________________________________________________________\n",
      "block6_sepconv2_act (Activation (None, 14, 14, 728)  0           block6_sepconv1_bn[0][0]         \n",
      "__________________________________________________________________________________________________\n",
      "block6_sepconv2 (SeparableConv2 (None, 14, 14, 728)  536536      block6_sepconv2_act[0][0]        \n",
      "__________________________________________________________________________________________________\n",
      "block6_sepconv2_bn (BatchNormal (None, 14, 14, 728)  2912        block6_sepconv2[0][0]            \n",
      "__________________________________________________________________________________________________\n",
      "block6_sepconv3_act (Activation (None, 14, 14, 728)  0           block6_sepconv2_bn[0][0]         \n",
      "__________________________________________________________________________________________________\n",
      "block6_sepconv3 (SeparableConv2 (None, 14, 14, 728)  536536      block6_sepconv3_act[0][0]        \n",
      "__________________________________________________________________________________________________\n",
      "block6_sepconv3_bn (BatchNormal (None, 14, 14, 728)  2912        block6_sepconv3[0][0]            \n",
      "__________________________________________________________________________________________________\n",
      "add_4 (Add)                     (None, 14, 14, 728)  0           block6_sepconv3_bn[0][0]         \n",
      "                                                                 add_3[0][0]                      \n",
      "__________________________________________________________________________________________________\n",
      "block7_sepconv1_act (Activation (None, 14, 14, 728)  0           add_4[0][0]                      \n",
      "__________________________________________________________________________________________________\n",
      "block7_sepconv1 (SeparableConv2 (None, 14, 14, 728)  536536      block7_sepconv1_act[0][0]        \n",
      "__________________________________________________________________________________________________\n",
      "block7_sepconv1_bn (BatchNormal (None, 14, 14, 728)  2912        block7_sepconv1[0][0]            \n",
      "__________________________________________________________________________________________________\n",
      "block7_sepconv2_act (Activation (None, 14, 14, 728)  0           block7_sepconv1_bn[0][0]         \n",
      "__________________________________________________________________________________________________\n",
      "block7_sepconv2 (SeparableConv2 (None, 14, 14, 728)  536536      block7_sepconv2_act[0][0]        \n",
      "__________________________________________________________________________________________________\n",
      "block7_sepconv2_bn (BatchNormal (None, 14, 14, 728)  2912        block7_sepconv2[0][0]            \n",
      "__________________________________________________________________________________________________\n",
      "block7_sepconv3_act (Activation (None, 14, 14, 728)  0           block7_sepconv2_bn[0][0]         \n",
      "__________________________________________________________________________________________________\n",
      "block7_sepconv3 (SeparableConv2 (None, 14, 14, 728)  536536      block7_sepconv3_act[0][0]        \n",
      "__________________________________________________________________________________________________\n",
      "block7_sepconv3_bn (BatchNormal (None, 14, 14, 728)  2912        block7_sepconv3[0][0]            \n",
      "__________________________________________________________________________________________________\n",
      "add_5 (Add)                     (None, 14, 14, 728)  0           block7_sepconv3_bn[0][0]         \n",
      "                                                                 add_4[0][0]                      \n",
      "__________________________________________________________________________________________________\n",
      "block8_sepconv1_act (Activation (None, 14, 14, 728)  0           add_5[0][0]                      \n",
      "__________________________________________________________________________________________________\n",
      "block8_sepconv1 (SeparableConv2 (None, 14, 14, 728)  536536      block8_sepconv1_act[0][0]        \n",
      "__________________________________________________________________________________________________\n",
      "block8_sepconv1_bn (BatchNormal (None, 14, 14, 728)  2912        block8_sepconv1[0][0]            \n",
      "__________________________________________________________________________________________________\n",
      "block8_sepconv2_act (Activation (None, 14, 14, 728)  0           block8_sepconv1_bn[0][0]         \n",
      "__________________________________________________________________________________________________\n",
      "block8_sepconv2 (SeparableConv2 (None, 14, 14, 728)  536536      block8_sepconv2_act[0][0]        \n",
      "__________________________________________________________________________________________________\n",
      "block8_sepconv2_bn (BatchNormal (None, 14, 14, 728)  2912        block8_sepconv2[0][0]            \n",
      "__________________________________________________________________________________________________\n",
      "block8_sepconv3_act (Activation (None, 14, 14, 728)  0           block8_sepconv2_bn[0][0]         \n",
      "__________________________________________________________________________________________________\n",
      "block8_sepconv3 (SeparableConv2 (None, 14, 14, 728)  536536      block8_sepconv3_act[0][0]        \n",
      "__________________________________________________________________________________________________\n",
      "block8_sepconv3_bn (BatchNormal (None, 14, 14, 728)  2912        block8_sepconv3[0][0]            \n",
      "__________________________________________________________________________________________________\n",
      "add_6 (Add)                     (None, 14, 14, 728)  0           block8_sepconv3_bn[0][0]         \n",
      "                                                                 add_5[0][0]                      \n",
      "__________________________________________________________________________________________________\n",
      "block9_sepconv1_act (Activation (None, 14, 14, 728)  0           add_6[0][0]                      \n",
      "__________________________________________________________________________________________________\n",
      "block9_sepconv1 (SeparableConv2 (None, 14, 14, 728)  536536      block9_sepconv1_act[0][0]        \n",
      "__________________________________________________________________________________________________\n",
      "block9_sepconv1_bn (BatchNormal (None, 14, 14, 728)  2912        block9_sepconv1[0][0]            \n",
      "__________________________________________________________________________________________________\n",
      "block9_sepconv2_act (Activation (None, 14, 14, 728)  0           block9_sepconv1_bn[0][0]         \n",
      "__________________________________________________________________________________________________\n",
      "block9_sepconv2 (SeparableConv2 (None, 14, 14, 728)  536536      block9_sepconv2_act[0][0]        \n",
      "__________________________________________________________________________________________________\n",
      "block9_sepconv2_bn (BatchNormal (None, 14, 14, 728)  2912        block9_sepconv2[0][0]            \n",
      "__________________________________________________________________________________________________\n",
      "block9_sepconv3_act (Activation (None, 14, 14, 728)  0           block9_sepconv2_bn[0][0]         \n",
      "__________________________________________________________________________________________________\n",
      "block9_sepconv3 (SeparableConv2 (None, 14, 14, 728)  536536      block9_sepconv3_act[0][0]        \n",
      "__________________________________________________________________________________________________\n",
      "block9_sepconv3_bn (BatchNormal (None, 14, 14, 728)  2912        block9_sepconv3[0][0]            \n",
      "__________________________________________________________________________________________________\n",
      "add_7 (Add)                     (None, 14, 14, 728)  0           block9_sepconv3_bn[0][0]         \n",
      "                                                                 add_6[0][0]                      \n",
      "__________________________________________________________________________________________________\n",
      "block10_sepconv1_act (Activatio (None, 14, 14, 728)  0           add_7[0][0]                      \n",
      "__________________________________________________________________________________________________\n",
      "block10_sepconv1 (SeparableConv (None, 14, 14, 728)  536536      block10_sepconv1_act[0][0]       \n",
      "__________________________________________________________________________________________________\n",
      "block10_sepconv1_bn (BatchNorma (None, 14, 14, 728)  2912        block10_sepconv1[0][0]           \n",
      "__________________________________________________________________________________________________\n",
      "block10_sepconv2_act (Activatio (None, 14, 14, 728)  0           block10_sepconv1_bn[0][0]        \n",
      "__________________________________________________________________________________________________\n",
      "block10_sepconv2 (SeparableConv (None, 14, 14, 728)  536536      block10_sepconv2_act[0][0]       \n",
      "__________________________________________________________________________________________________\n",
      "block10_sepconv2_bn (BatchNorma (None, 14, 14, 728)  2912        block10_sepconv2[0][0]           \n",
      "__________________________________________________________________________________________________\n",
      "block10_sepconv3_act (Activatio (None, 14, 14, 728)  0           block10_sepconv2_bn[0][0]        \n",
      "__________________________________________________________________________________________________\n",
      "block10_sepconv3 (SeparableConv (None, 14, 14, 728)  536536      block10_sepconv3_act[0][0]       \n",
      "__________________________________________________________________________________________________\n",
      "block10_sepconv3_bn (BatchNorma (None, 14, 14, 728)  2912        block10_sepconv3[0][0]           \n",
      "__________________________________________________________________________________________________\n",
      "add_8 (Add)                     (None, 14, 14, 728)  0           block10_sepconv3_bn[0][0]        \n",
      "                                                                 add_7[0][0]                      \n",
      "__________________________________________________________________________________________________\n",
      "block11_sepconv1_act (Activatio (None, 14, 14, 728)  0           add_8[0][0]                      \n",
      "__________________________________________________________________________________________________\n",
      "block11_sepconv1 (SeparableConv (None, 14, 14, 728)  536536      block11_sepconv1_act[0][0]       \n",
      "__________________________________________________________________________________________________\n",
      "block11_sepconv1_bn (BatchNorma (None, 14, 14, 728)  2912        block11_sepconv1[0][0]           \n",
      "__________________________________________________________________________________________________\n",
      "block11_sepconv2_act (Activatio (None, 14, 14, 728)  0           block11_sepconv1_bn[0][0]        \n",
      "__________________________________________________________________________________________________\n",
      "block11_sepconv2 (SeparableConv (None, 14, 14, 728)  536536      block11_sepconv2_act[0][0]       \n",
      "__________________________________________________________________________________________________\n",
      "block11_sepconv2_bn (BatchNorma (None, 14, 14, 728)  2912        block11_sepconv2[0][0]           \n",
      "__________________________________________________________________________________________________\n",
      "block11_sepconv3_act (Activatio (None, 14, 14, 728)  0           block11_sepconv2_bn[0][0]        \n",
      "__________________________________________________________________________________________________\n",
      "block11_sepconv3 (SeparableConv (None, 14, 14, 728)  536536      block11_sepconv3_act[0][0]       \n",
      "__________________________________________________________________________________________________\n",
      "block11_sepconv3_bn (BatchNorma (None, 14, 14, 728)  2912        block11_sepconv3[0][0]           \n",
      "__________________________________________________________________________________________________\n",
      "add_9 (Add)                     (None, 14, 14, 728)  0           block11_sepconv3_bn[0][0]        \n",
      "                                                                 add_8[0][0]                      \n",
      "__________________________________________________________________________________________________\n",
      "block12_sepconv1_act (Activatio (None, 14, 14, 728)  0           add_9[0][0]                      \n",
      "__________________________________________________________________________________________________\n",
      "block12_sepconv1 (SeparableConv (None, 14, 14, 728)  536536      block12_sepconv1_act[0][0]       \n",
      "__________________________________________________________________________________________________\n",
      "block12_sepconv1_bn (BatchNorma (None, 14, 14, 728)  2912        block12_sepconv1[0][0]           \n",
      "__________________________________________________________________________________________________\n",
      "block12_sepconv2_act (Activatio (None, 14, 14, 728)  0           block12_sepconv1_bn[0][0]        \n",
      "__________________________________________________________________________________________________\n",
      "block12_sepconv2 (SeparableConv (None, 14, 14, 728)  536536      block12_sepconv2_act[0][0]       \n",
      "__________________________________________________________________________________________________\n",
      "block12_sepconv2_bn (BatchNorma (None, 14, 14, 728)  2912        block12_sepconv2[0][0]           \n",
      "__________________________________________________________________________________________________\n",
      "block12_sepconv3_act (Activatio (None, 14, 14, 728)  0           block12_sepconv2_bn[0][0]        \n",
      "__________________________________________________________________________________________________\n",
      "block12_sepconv3 (SeparableConv (None, 14, 14, 728)  536536      block12_sepconv3_act[0][0]       \n",
      "__________________________________________________________________________________________________\n",
      "block12_sepconv3_bn (BatchNorma (None, 14, 14, 728)  2912        block12_sepconv3[0][0]           \n",
      "__________________________________________________________________________________________________\n",
      "add_10 (Add)                    (None, 14, 14, 728)  0           block12_sepconv3_bn[0][0]        \n",
      "                                                                 add_9[0][0]                      \n",
      "__________________________________________________________________________________________________\n",
      "block13_sepconv1_act (Activatio (None, 14, 14, 728)  0           add_10[0][0]                     \n",
      "__________________________________________________________________________________________________\n",
      "block13_sepconv1 (SeparableConv (None, 14, 14, 728)  536536      block13_sepconv1_act[0][0]       \n",
      "__________________________________________________________________________________________________\n",
      "block13_sepconv1_bn (BatchNorma (None, 14, 14, 728)  2912        block13_sepconv1[0][0]           \n",
      "__________________________________________________________________________________________________\n",
      "block13_sepconv2_act (Activatio (None, 14, 14, 728)  0           block13_sepconv1_bn[0][0]        \n",
      "__________________________________________________________________________________________________\n",
      "block13_sepconv2 (SeparableConv (None, 14, 14, 1024) 752024      block13_sepconv2_act[0][0]       \n",
      "__________________________________________________________________________________________________\n",
      "block13_sepconv2_bn (BatchNorma (None, 14, 14, 1024) 4096        block13_sepconv2[0][0]           \n",
      "__________________________________________________________________________________________________\n",
      "conv2d_3 (Conv2D)               (None, 7, 7, 1024)   745472      add_10[0][0]                     \n",
      "__________________________________________________________________________________________________\n",
      "block13_pool (MaxPooling2D)     (None, 7, 7, 1024)   0           block13_sepconv2_bn[0][0]        \n",
      "__________________________________________________________________________________________________\n",
      "batch_normalization_3 (BatchNor (None, 7, 7, 1024)   4096        conv2d_3[0][0]                   \n",
      "__________________________________________________________________________________________________\n",
      "add_11 (Add)                    (None, 7, 7, 1024)   0           block13_pool[0][0]               \n",
      "                                                                 batch_normalization_3[0][0]      \n",
      "__________________________________________________________________________________________________\n",
      "block14_sepconv1 (SeparableConv (None, 7, 7, 1536)   1582080     add_11[0][0]                     \n",
      "__________________________________________________________________________________________________\n",
      "block14_sepconv1_bn (BatchNorma (None, 7, 7, 1536)   6144        block14_sepconv1[0][0]           \n",
      "__________________________________________________________________________________________________\n",
      "block14_sepconv1_act (Activatio (None, 7, 7, 1536)   0           block14_sepconv1_bn[0][0]        \n",
      "__________________________________________________________________________________________________\n",
      "block14_sepconv2 (SeparableConv (None, 7, 7, 2048)   3159552     block14_sepconv1_act[0][0]       \n",
      "__________________________________________________________________________________________________\n",
      "block14_sepconv2_bn (BatchNorma (None, 7, 7, 2048)   8192        block14_sepconv2[0][0]           \n",
      "__________________________________________________________________________________________________\n",
      "block14_sepconv2_act (Activatio (None, 7, 7, 2048)   0           block14_sepconv2_bn[0][0]        \n",
      "__________________________________________________________________________________________________\n",
      "average_pooling2d (AveragePooli (None, 1, 1, 2048)   0           block14_sepconv2_act[0][0]       \n",
      "__________________________________________________________________________________________________\n",
      "flatten (Flatten)               (None, 2048)         0           average_pooling2d[0][0]          \n",
      "__________________________________________________________________________________________________\n",
      "dense (Dense)                   (None, 64)           131136      flatten[0][0]                    \n",
      "__________________________________________________________________________________________________\n",
      "dropout (Dropout)               (None, 64)           0           dense[0][0]                      \n",
      "__________________________________________________________________________________________________\n",
      "dense_1 (Dense)                 (None, 3)            195         dropout[0][0]                    \n",
      "==================================================================================================\n",
      "Total params: 20,992,811\n",
      "Trainable params: 131,331\n",
      "Non-trainable params: 20,861,480\n",
      "__________________________________________________________________________________________________\n"
     ]
    }
   ],
   "source": [
    "model.summary()"
   ]
  },
  {
   "cell_type": "code",
   "execution_count": 34,
   "id": "9ab71213",
   "metadata": {},
   "outputs": [
    {
     "data": {
      "text/plain": [
       "array([[5.80181241e-01, 1.65758654e-03, 4.18161184e-01],\n",
       "       [6.49632141e-03, 3.04181740e-04, 9.93199527e-01],\n",
       "       [5.39274588e-02, 1.08428178e-02, 9.35229659e-01],\n",
       "       [8.55322957e-01, 3.92716751e-03, 1.40749902e-01],\n",
       "       [2.38317717e-02, 9.70240951e-01, 5.92735549e-03],\n",
       "       [9.99851584e-01, 8.46042167e-06, 1.39896903e-04],\n",
       "       [7.14303315e-01, 5.46479505e-03, 2.80231893e-01],\n",
       "       [9.55554962e-01, 4.37505059e-02, 6.94501447e-04],\n",
       "       [9.99984503e-01, 4.71583604e-07, 1.50114920e-05],\n",
       "       [9.99994397e-01, 6.81580481e-09, 5.57365911e-06],\n",
       "       [8.41323972e-01, 1.56681255e-01, 1.99483195e-03],\n",
       "       [9.98669505e-01, 2.56528438e-05, 1.30486966e-03],\n",
       "       [9.99998689e-01, 2.36776501e-08, 1.26521525e-06],\n",
       "       [8.81621465e-02, 2.64287719e-05, 9.11811471e-01],\n",
       "       [1.04854636e-01, 5.59428036e-01, 3.35717380e-01],\n",
       "       [9.72307682e-01, 5.27403317e-05, 2.76395194e-02],\n",
       "       [3.70898455e-01, 1.13548756e-01, 5.15552819e-01],\n",
       "       [9.89999831e-01, 1.71811698e-05, 9.98300314e-03]], dtype=float32)"
      ]
     },
     "execution_count": 34,
     "metadata": {},
     "output_type": "execute_result"
    }
   ],
   "source": [
    "preds"
   ]
  },
  {
   "cell_type": "code",
   "execution_count": null,
   "id": "09990552",
   "metadata": {},
   "outputs": [],
   "source": []
  },
  {
   "cell_type": "code",
   "execution_count": 35,
   "id": "ae1ece74",
   "metadata": {},
   "outputs": [
    {
     "name": "stderr",
     "output_type": "stream",
     "text": [
      "C:\\Users\\cvpr\\anaconda3\\lib\\site-packages\\tensorflow\\python\\keras\\utils\\generic_utils.py:494: CustomMaskWarning: Custom mask layers require a config and must override get_config. When loading, the custom mask layer must be passed to the custom_objects argument.\n",
      "  warnings.warn('Custom mask layers require a config and must override '\n"
     ]
    }
   ],
   "source": [
    "model.save(\"ARhinitisModel\", save_format=\"h5\")\n",
    "model_json = model.to_json()\n",
    "with open(\"model.json\", \"w\") as json_file:\n",
    "    json_file.write(model_json)"
   ]
  },
  {
   "cell_type": "markdown",
   "id": "3977cc16",
   "metadata": {},
   "source": [
    "print(\"[INFO] saving Allergic Rhinitis detector model...\")\n",
    "model.save(\"ARhinitisModel\", save_format=\"h5\")\n",
    "model_json = model.to_json()\n",
    "with open(\"model.json\", \"w\") as json_file:\n",
    "    json_file.write(model_json)"
   ]
  },
  {
   "cell_type": "code",
   "execution_count": null,
   "id": "6d95b803",
   "metadata": {},
   "outputs": [],
   "source": []
  },
  {
   "cell_type": "markdown",
   "id": "bb6c66bd",
   "metadata": {},
   "source": [
    "decoded = imagenet_utils.decode_predictions(preds)"
   ]
  },
  {
   "cell_type": "markdown",
   "id": "501ae622",
   "metadata": {},
   "source": [
    "gradCAM\n"
   ]
  },
  {
   "cell_type": "code",
   "execution_count": 36,
   "id": "92645574",
   "metadata": {},
   "outputs": [],
   "source": [
    "from gradCam import GradCAM\n",
    "from tensorflow.keras.preprocessing.image import load_img\n",
    "from tensorflow.keras.preprocessing.image import img_to_array"
   ]
  },
  {
   "cell_type": "code",
   "execution_count": 37,
   "id": "0adfb986",
   "metadata": {},
   "outputs": [],
   "source": [
    "d_path = r'C:\\Users\\cvpr\\Documents\\Bishal\\Allergic Rhinitis\\Dataset\\non_rotate\\dataset0\\1\\7_1_00005_left.tif'\n",
    "orig = cv2.imread(d_path)\n",
    "resized = cv2.resize(orig, (224, 224))\n",
    "image = load_img(d_path, target_size=(224, 224))\n",
    "image = img_to_array(image)\n",
    "image = np.expand_dims(image, axis=0)\n",
    "image = imagenet_utils.preprocess_input(image)"
   ]
  },
  {
   "cell_type": "markdown",
   "id": "fbca32f9",
   "metadata": {},
   "source": [
    "cam = GradCAM(model, predIdxs)"
   ]
  },
  {
   "cell_type": "code",
   "execution_count": 38,
   "id": "b95b839c",
   "metadata": {},
   "outputs": [
    {
     "name": "stdout",
     "output_type": "stream",
     "text": [
      "(1, 224, 224, 3)\n"
     ]
    }
   ],
   "source": [
    "preds = model.predict(image)\n",
    "i = np.argmax(preds[0])\n",
    "print(image.shape)"
   ]
  },
  {
   "cell_type": "code",
   "execution_count": 39,
   "id": "5ded55fb",
   "metadata": {},
   "outputs": [],
   "source": [
    "cam = GradCAM(model, i)"
   ]
  },
  {
   "cell_type": "code",
   "execution_count": 40,
   "id": "758896dd",
   "metadata": {},
   "outputs": [],
   "source": [
    "heatmap = cam.compute_heatmap(image)"
   ]
  },
  {
   "cell_type": "code",
   "execution_count": 41,
   "id": "135aa197",
   "metadata": {},
   "outputs": [],
   "source": [
    "heatmap = cv2.resize(heatmap, (orig.shape[1], orig.shape[0]))"
   ]
  },
  {
   "cell_type": "code",
   "execution_count": 42,
   "id": "8c330587",
   "metadata": {},
   "outputs": [
    {
     "ename": "error",
     "evalue": "OpenCV(4.5.1) ..\\modules\\imgcodecs\\src\\loadsave.cpp:682: error: (-2:Unspecified error) could not find a writer for the specified extension in function 'cv::imwrite_'\n",
     "output_type": "error",
     "traceback": [
      "\u001b[1;31m---------------------------------------------------------------------------\u001b[0m",
      "\u001b[1;31merror\u001b[0m                                     Traceback (most recent call last)",
      "\u001b[1;32m~\\AppData\\Local\\Temp\\ipykernel_49260\\1841826448.py\u001b[0m in \u001b[0;36m<cell line: 2>\u001b[1;34m()\u001b[0m\n\u001b[0;32m      1\u001b[0m \u001b[0mcv2\u001b[0m\u001b[1;33m.\u001b[0m\u001b[0mimshow\u001b[0m\u001b[1;33m(\u001b[0m\u001b[1;34m\"Output\"\u001b[0m\u001b[1;33m,\u001b[0m \u001b[0mheatmap\u001b[0m\u001b[1;33m)\u001b[0m\u001b[1;33m\u001b[0m\u001b[1;33m\u001b[0m\u001b[0m\n\u001b[1;32m----> 2\u001b[1;33m \u001b[0mcv2\u001b[0m\u001b[1;33m.\u001b[0m\u001b[0mimwrite\u001b[0m\u001b[1;33m(\u001b[0m\u001b[1;34m\"heatr\"\u001b[0m\u001b[1;33m,\u001b[0m \u001b[0mheatmap\u001b[0m\u001b[1;33m)\u001b[0m\u001b[1;33m\u001b[0m\u001b[1;33m\u001b[0m\u001b[0m\n\u001b[0m",
      "\u001b[1;31merror\u001b[0m: OpenCV(4.5.1) ..\\modules\\imgcodecs\\src\\loadsave.cpp:682: error: (-2:Unspecified error) could not find a writer for the specified extension in function 'cv::imwrite_'\n"
     ]
    }
   ],
   "source": [
    "cv2.imshow(\"Output\", heatmap)\n",
    "cv2.imwrite(\"heatr\", heatmap)"
   ]
  },
  {
   "cell_type": "code",
   "execution_count": null,
   "id": "eaa67074",
   "metadata": {},
   "outputs": [],
   "source": [
    "\n",
    "(heatmap, output) = cam.overlay_heatmap(heatmap, orig, alpha=0.5)"
   ]
  },
  {
   "cell_type": "code",
   "execution_count": null,
   "id": "323efeb9",
   "metadata": {},
   "outputs": [],
   "source": []
  },
  {
   "cell_type": "code",
   "execution_count": null,
   "id": "1ce1c375",
   "metadata": {},
   "outputs": [],
   "source": [
    "for i in testX:\n",
    "    image = np.expand_dims(i, axis=0)\n",
    "    image = imagenet_utils.preprocess_input(i)\n",
    "    heatmap = cam.compute_heatmap(image)"
   ]
  },
  {
   "cell_type": "code",
   "execution_count": null,
   "id": "6e5f4709",
   "metadata": {},
   "outputs": [],
   "source": [
    " "
   ]
  }
 ],
 "metadata": {
  "kernelspec": {
   "display_name": "Python 3 (ipykernel)",
   "language": "python",
   "name": "python3"
  },
  "language_info": {
   "codemirror_mode": {
    "name": "ipython",
    "version": 3
   },
   "file_extension": ".py",
   "mimetype": "text/x-python",
   "name": "python",
   "nbconvert_exporter": "python",
   "pygments_lexer": "ipython3",
   "version": "3.9.12"
  }
 },
 "nbformat": 4,
 "nbformat_minor": 5
}
