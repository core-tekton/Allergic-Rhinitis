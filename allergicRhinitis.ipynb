{
 "cells": [
  {
   "cell_type": "code",
   "execution_count": 4,
   "id": "e37bca3e",
   "metadata": {},
   "outputs": [],
   "source": [
    "from imutils import paths\n",
    "import os\n",
    "import cv2\n",
    "import numpy as np\n",
    "import matplotlib.pyplot as plt\n",
    "import timeit\n",
    "\n",
    "from sklearn.preprocessing import LabelBinarizer\n",
    "from sklearn.model_selection import train_test_split\n",
    "from sklearn.metrics import classification_report\n",
    "from sklearn.metrics import confusion_matrix\n",
    "\n",
    "from tensorflow.keras.utils import to_categorical\n",
    "from tensorflow.keras.preprocessing.image import ImageDataGenerator\n",
    "from tensorflow.keras.applications import Xception\n",
    "from tensorflow.keras.layers import AveragePooling2D, Dropout, Flatten, Dense, Input\n",
    "from tensorflow.keras.models import Model, model_from_json\n",
    "from tensorflow.keras.optimizers import Adam"
   ]
  },
  {
   "cell_type": "code",
   "execution_count": 5,
   "id": "2fbda915",
   "metadata": {},
   "outputs": [
    {
     "name": "stdout",
     "output_type": "stream",
     "text": [
      "[INFO]: Trying to Read the images\n"
     ]
    }
   ],
   "source": [
    "print(\"[INFO]: Trying to Read the images\")\n",
    "#  Configure the Image Location\n",
    "# 이미지 위치 구성하기\n",
    "imagePaths = list(paths.list_images(r'C:\\Users\\cvpr\\Documents\\Bishal\\Allergic Rhinitis\\Dataset\\non_rotate'))"
   ]
  },
  {
   "cell_type": "code",
   "execution_count": 6,
   "id": "9bd0c101",
   "metadata": {},
   "outputs": [
    {
     "data": {
      "text/plain": [
       "['Dataset/non_rotate\\\\dataset0\\\\0\\\\n13_1_00002_right.tif',\n",
       " 'Dataset/non_rotate\\\\dataset0\\\\0\\\\n13_1_00003_left.tif',\n",
       " 'Dataset/non_rotate\\\\dataset0\\\\0\\\\n13_2_00001_right.tif',\n",
       " 'Dataset/non_rotate\\\\dataset0\\\\0\\\\n14_1_00001_right.tif',\n",
       " 'Dataset/non_rotate\\\\dataset0\\\\0\\\\n14_1_00007_left.tif',\n",
       " 'Dataset/non_rotate\\\\dataset0\\\\0\\\\n15_2_00005_left.tif',\n",
       " 'Dataset/non_rotate\\\\dataset0\\\\0\\\\n1_1_00001_right.tif',\n",
       " 'Dataset/non_rotate\\\\dataset0\\\\0\\\\n6_1_00004_right.tif',\n",
       " 'Dataset/non_rotate\\\\dataset0\\\\0\\\\n6_1_00006_left.tif',\n",
       " 'Dataset/non_rotate\\\\dataset0\\\\1\\\\14_1_00002_right.tif',\n",
       " 'Dataset/non_rotate\\\\dataset0\\\\1\\\\7_1_00001_right.tif',\n",
       " 'Dataset/non_rotate\\\\dataset0\\\\1\\\\7_1_00005_left.tif',\n",
       " 'Dataset/non_rotate\\\\dataset0\\\\2\\\\2_1_00002_right.tif',\n",
       " 'Dataset/non_rotate\\\\dataset0\\\\2\\\\2_1_00005_left.tif',\n",
       " 'Dataset/non_rotate\\\\dataset0\\\\2\\\\3_1_00003_left.tif',\n",
       " 'Dataset/non_rotate\\\\dataset0\\\\2\\\\4_1_00002_right.tif',\n",
       " 'Dataset/non_rotate\\\\dataset0\\\\2\\\\6_1_00001_right.tif',\n",
       " 'Dataset/non_rotate\\\\dataset0\\\\2\\\\6_1_00006_left.tif',\n",
       " 'Dataset/non_rotate\\\\dataset1\\\\0\\\\n17_4_00006_left.tif',\n",
       " 'Dataset/non_rotate\\\\dataset1\\\\0\\\\n17_5_00003_left.tif',\n",
       " 'Dataset/non_rotate\\\\dataset1\\\\0\\\\n17_7_00013_left.tif',\n",
       " 'Dataset/non_rotate\\\\dataset1\\\\0\\\\n18_2_00002_right.tif',\n",
       " 'Dataset/non_rotate\\\\dataset1\\\\0\\\\n18_2_00003_left.tif',\n",
       " 'Dataset/non_rotate\\\\dataset1\\\\0\\\\n19_2_00003_right.tif',\n",
       " 'Dataset/non_rotate\\\\dataset1\\\\0\\\\n19_3_00001_right.tif',\n",
       " 'Dataset/non_rotate\\\\dataset1\\\\0\\\\n19_4_00001_right.tif',\n",
       " 'Dataset/non_rotate\\\\dataset1\\\\0\\\\n19_4_00003_left.tif',\n",
       " 'Dataset/non_rotate\\\\dataset1\\\\1\\\\13_1_00002_right.tif',\n",
       " 'Dataset/non_rotate\\\\dataset1\\\\1\\\\13_1_00005_left.tif',\n",
       " 'Dataset/non_rotate\\\\dataset1\\\\1\\\\13_2_00002_right.tif',\n",
       " 'Dataset/non_rotate\\\\dataset1\\\\1\\\\13_2_00004_left.tif',\n",
       " 'Dataset/non_rotate\\\\dataset1\\\\2\\\\16_1_00003_left.tif',\n",
       " 'Dataset/non_rotate\\\\dataset1\\\\2\\\\18_1_00005_left.tif',\n",
       " 'Dataset/non_rotate\\\\dataset1\\\\2\\\\18_2_00003_right.tif',\n",
       " 'Dataset/non_rotate\\\\dataset1\\\\2\\\\18_2_00005_left.tif',\n",
       " 'Dataset/non_rotate\\\\dataset1\\\\2\\\\18_3_00002_right.tif',\n",
       " 'Dataset/non_rotate\\\\dataset1\\\\2\\\\18_3_000050003_left.tif',\n",
       " 'Dataset/non_rotate\\\\dataset2\\\\0\\\\n16_1_00004_left.tif',\n",
       " 'Dataset/non_rotate\\\\dataset2\\\\0\\\\n20_2_00001_right.tif',\n",
       " 'Dataset/non_rotate\\\\dataset2\\\\0\\\\n21_1_00002_right.tif',\n",
       " 'Dataset/non_rotate\\\\dataset2\\\\0\\\\n22_1_00003_left.tif',\n",
       " 'Dataset/non_rotate\\\\dataset2\\\\0\\\\n22_2_00001_right.tif',\n",
       " 'Dataset/non_rotate\\\\dataset2\\\\0\\\\n22_2_00005_left.tif',\n",
       " 'Dataset/non_rotate\\\\dataset2\\\\0\\\\n23_2_00002_right.tif',\n",
       " 'Dataset/non_rotate\\\\dataset2\\\\0\\\\n23_2_00009_left.tif',\n",
       " 'Dataset/non_rotate\\\\dataset2\\\\0\\\\n28_4_00001_right.tif',\n",
       " 'Dataset/non_rotate\\\\dataset2\\\\1\\\\19_1_00002_right.tif',\n",
       " 'Dataset/non_rotate\\\\dataset2\\\\1\\\\19_1_00003_left.tif',\n",
       " 'Dataset/non_rotate\\\\dataset2\\\\1\\\\19_2_00004_left.tif',\n",
       " 'Dataset/non_rotate\\\\dataset2\\\\2\\\\11_1_00002_right.tif',\n",
       " 'Dataset/non_rotate\\\\dataset2\\\\2\\\\15_1_00006_left.tif',\n",
       " 'Dataset/non_rotate\\\\dataset2\\\\2\\\\15_2_00004_left.tif',\n",
       " 'Dataset/non_rotate\\\\dataset2\\\\2\\\\26_1_00001_right.tif',\n",
       " 'Dataset/non_rotate\\\\dataset2\\\\2\\\\26_1_00002_right.tif',\n",
       " 'Dataset/non_rotate\\\\dataset2\\\\2\\\\26_1_00003_left.tif',\n",
       " 'Dataset/non_rotate\\\\dataset3\\\\0\\\\n29_1_00004_left.tif',\n",
       " 'Dataset/non_rotate\\\\dataset3\\\\0\\\\n29_3_00002_right.tif',\n",
       " 'Dataset/non_rotate\\\\dataset3\\\\0\\\\n29_3_00005_left.tif',\n",
       " 'Dataset/non_rotate\\\\dataset3\\\\0\\\\n32_1_00001_right.tif',\n",
       " 'Dataset/non_rotate\\\\dataset3\\\\0\\\\n32_2_00001_right.tif',\n",
       " 'Dataset/non_rotate\\\\dataset3\\\\0\\\\n32_3_00003_right.tif',\n",
       " 'Dataset/non_rotate\\\\dataset3\\\\0\\\\n32_3_00004_left.tif',\n",
       " 'Dataset/non_rotate\\\\dataset3\\\\0\\\\n32_4_00001_right.tif',\n",
       " 'Dataset/non_rotate\\\\dataset3\\\\0\\\\n32_4_00004_left.tif',\n",
       " 'Dataset/non_rotate\\\\dataset3\\\\1\\\\28_1_00003_left.tif',\n",
       " 'Dataset/non_rotate\\\\dataset3\\\\1\\\\33_1_00002_right.tif',\n",
       " 'Dataset/non_rotate\\\\dataset3\\\\1\\\\33_1_00005_left.tif',\n",
       " 'Dataset/non_rotate\\\\dataset3\\\\2\\\\20_1_00006_left.tif',\n",
       " 'Dataset/non_rotate\\\\dataset3\\\\2\\\\20_1_00009_left.tif',\n",
       " 'Dataset/non_rotate\\\\dataset3\\\\2\\\\20_2_00002_right.tif',\n",
       " 'Dataset/non_rotate\\\\dataset3\\\\2\\\\20_2_00008_left.tif',\n",
       " 'Dataset/non_rotate\\\\dataset3\\\\2\\\\20_3_00001_right.tif',\n",
       " 'Dataset/non_rotate\\\\dataset3\\\\2\\\\21_1_00002_right.tif',\n",
       " 'Dataset/non_rotate\\\\dataset4\\\\0\\\\n34_2_00001_right.tif',\n",
       " 'Dataset/non_rotate\\\\dataset4\\\\0\\\\n35_1_00009_left.tif',\n",
       " 'Dataset/non_rotate\\\\dataset4\\\\0\\\\n35_1_00010_left.tif',\n",
       " 'Dataset/non_rotate\\\\dataset4\\\\0\\\\n35_1_00011_right.tif',\n",
       " 'Dataset/non_rotate\\\\dataset4\\\\0\\\\n35_1_00012_right.tif',\n",
       " 'Dataset/non_rotate\\\\dataset4\\\\0\\\\n35_2_00001_right.tif',\n",
       " 'Dataset/non_rotate\\\\dataset4\\\\0\\\\n35_2_00002_right.tif',\n",
       " 'Dataset/non_rotate\\\\dataset4\\\\0\\\\n35_2_00007_left.tif',\n",
       " 'Dataset/non_rotate\\\\dataset4\\\\1\\\\30_1_00011_right.tif',\n",
       " 'Dataset/non_rotate\\\\dataset4\\\\1\\\\30_1_00013_left.tif',\n",
       " 'Dataset/non_rotate\\\\dataset4\\\\1\\\\34_1_00002_right.tif',\n",
       " 'Dataset/non_rotate\\\\dataset4\\\\2\\\\22_1_00005_left.tif',\n",
       " 'Dataset/non_rotate\\\\dataset4\\\\2\\\\27_1_00005_left.tif',\n",
       " 'Dataset/non_rotate\\\\dataset4\\\\2\\\\35_1_00002_right.tif',\n",
       " 'Dataset/non_rotate\\\\dataset4\\\\2\\\\35_2_00003_left.tif',\n",
       " 'Dataset/non_rotate\\\\dataset4\\\\2\\\\35_3_00001_right.tif',\n",
       " 'Dataset/non_rotate\\\\dataset4\\\\2\\\\35_3_00004_left.tif']"
      ]
     },
     "execution_count": 6,
     "metadata": {},
     "output_type": "execute_result"
    }
   ],
   "source": [
    "imagePaths = list(paths.list_images(\"Dataset/non_rotate\"))\n",
    "len(imagePaths)\n",
    "imagePaths"
   ]
  },
  {
   "cell_type": "code",
   "execution_count": 7,
   "id": "0bbfc861",
   "metadata": {
    "scrolled": true
   },
   "outputs": [],
   "source": [
    "# Initialize data and labels\n",
    "# 데이터 및 레이블 초기화\n",
    "data = []\n",
    "labels = []"
   ]
  },
  {
   "cell_type": "code",
   "execution_count": 8,
   "id": "a8207bc5",
   "metadata": {},
   "outputs": [],
   "source": [
    "# Formatting data and labels\n",
    "for imagePath in imagePaths:\n",
    "    # Extract the class label from file name and append to labels\n",
    "    # 파일 이름에서 클래스 레이블을 추출하고 레이블에 추가함\n",
    "    label = imagePath.split(os.path.sep)[-2]\n",
    "    labels.append(label)\n",
    "    # Load the image, swap color channels, and resize it to be a fixed 224x224 pixels while ignoring the aspect ratio\n",
    "    # 이미지를 로드하고, 컬러 채널을 스왑하고, 가로 세로 비율을 무시하고 고정 224x224 픽셀로 크기를 조정함\n",
    "    image = cv2.imread(imagePath)\n",
    "    image = cv2.cvtColor(image, cv2.COLOR_BGR2RGB)\n",
    "    image = cv2.resize(image, (224,224))\n",
    "    # Append to data\n",
    "    # 데이터에 추가\n",
    "    data.append(image)\n",
    "\n",
    "# Convert the data and labels to NumPy arrays while scaling the pixel intensities to the range [0,1]\n",
    "# 픽셀 강도를 [0,1] 범위로 조정하면서 데이터와 레이블을 NumPy 배열로 변환\n",
    "data = np.array(data) / 255.0\n",
    "labels = np.array(labels)"
   ]
  },
  {
   "cell_type": "code",
   "execution_count": 9,
   "id": "9799a052",
   "metadata": {},
   "outputs": [
    {
     "data": {
      "text/plain": [
       "(90,)"
      ]
     },
     "execution_count": 9,
     "metadata": {},
     "output_type": "execute_result"
    }
   ],
   "source": [
    "labels.shape"
   ]
  },
  {
   "cell_type": "code",
   "execution_count": 10,
   "id": "b1334c77",
   "metadata": {},
   "outputs": [
    {
     "data": {
      "text/plain": [
       "array(['0', '0', '0', '0', '0', '0', '0', '0', '0', '1', '1', '1', '2',\n",
       "       '2', '2', '2', '2', '2', '0', '0', '0', '0', '0', '0', '0', '0',\n",
       "       '0', '1', '1', '1', '1', '2', '2', '2', '2', '2', '2', '0', '0',\n",
       "       '0', '0', '0', '0', '0', '0', '0', '1', '1', '1', '2', '2', '2',\n",
       "       '2', '2', '2', '0', '0', '0', '0', '0', '0', '0', '0', '0', '1',\n",
       "       '1', '1', '2', '2', '2', '2', '2', '2', '0', '0', '0', '0', '0',\n",
       "       '0', '0', '0', '1', '1', '1', '2', '2', '2', '2', '2', '2'],\n",
       "      dtype='<U1')"
      ]
     },
     "execution_count": 10,
     "metadata": {},
     "output_type": "execute_result"
    }
   ],
   "source": [
    "labels"
   ]
  },
  {
   "cell_type": "code",
   "execution_count": 11,
   "id": "9db5e0a6",
   "metadata": {},
   "outputs": [
    {
     "data": {
      "text/plain": [
       "(90, 224, 224, 3)"
      ]
     },
     "execution_count": 11,
     "metadata": {},
     "output_type": "execute_result"
    }
   ],
   "source": [
    "data.shape"
   ]
  },
  {
   "cell_type": "code",
   "execution_count": 12,
   "id": "d43e520d",
   "metadata": {
    "scrolled": true
   },
   "outputs": [
    {
     "data": {
      "text/plain": [
       "<matplotlib.image.AxesImage at 0x233a3d08fd0>"
      ]
     },
     "execution_count": 12,
     "metadata": {},
     "output_type": "execute_result"
    },
    {
     "data": {
      "image/png": "[encoded data removed]",
      "text/plain": [
       "<Figure size 432x288 with 1 Axes>"
      ]
     },
     "metadata": {
      "needs_background": "light"
     },
     "output_type": "display_data"
    }
   ],
   "source": [
    "plt.imshow(data[1])"
   ]
  },
  {
   "cell_type": "code",
   "execution_count": null,
   "id": "c4120256",
   "metadata": {},
   "outputs": [],
   "source": []
  },
  {
   "cell_type": "code",
   "execution_count": null,
   "id": "7b4f8028",
   "metadata": {},
   "outputs": [],
   "source": []
  },
  {
   "cell_type": "code",
   "execution_count": 13,
   "id": "7211c77b",
   "metadata": {},
   "outputs": [
    {
     "name": "stdout",
     "output_type": "stream",
     "text": [
      "[[1 0 0]\n",
      " [1 0 0]\n",
      " [1 0 0]\n",
      " [1 0 0]\n",
      " [1 0 0]\n",
      " [1 0 0]\n",
      " [1 0 0]\n",
      " [1 0 0]\n",
      " [1 0 0]\n",
      " [0 1 0]\n",
      " [0 1 0]\n",
      " [0 1 0]\n",
      " [0 0 1]\n",
      " [0 0 1]\n",
      " [0 0 1]\n",
      " [0 0 1]\n",
      " [0 0 1]\n",
      " [0 0 1]\n",
      " [1 0 0]\n",
      " [1 0 0]\n",
      " [1 0 0]\n",
      " [1 0 0]\n",
      " [1 0 0]\n",
      " [1 0 0]\n",
      " [1 0 0]\n",
      " [1 0 0]\n",
      " [1 0 0]\n",
      " [0 1 0]\n",
      " [0 1 0]\n",
      " [0 1 0]\n",
      " [0 1 0]\n",
      " [0 0 1]\n",
      " [0 0 1]\n",
      " [0 0 1]\n",
      " [0 0 1]\n",
      " [0 0 1]\n",
      " [0 0 1]\n",
      " [1 0 0]\n",
      " [1 0 0]\n",
      " [1 0 0]\n",
      " [1 0 0]\n",
      " [1 0 0]\n",
      " [1 0 0]\n",
      " [1 0 0]\n",
      " [1 0 0]\n",
      " [1 0 0]\n",
      " [0 1 0]\n",
      " [0 1 0]\n",
      " [0 1 0]\n",
      " [0 0 1]\n",
      " [0 0 1]\n",
      " [0 0 1]\n",
      " [0 0 1]\n",
      " [0 0 1]\n",
      " [0 0 1]\n",
      " [1 0 0]\n",
      " [1 0 0]\n",
      " [1 0 0]\n",
      " [1 0 0]\n",
      " [1 0 0]\n",
      " [1 0 0]\n",
      " [1 0 0]\n",
      " [1 0 0]\n",
      " [1 0 0]\n",
      " [0 1 0]\n",
      " [0 1 0]\n",
      " [0 1 0]\n",
      " [0 0 1]\n",
      " [0 0 1]\n",
      " [0 0 1]\n",
      " [0 0 1]\n",
      " [0 0 1]\n",
      " [0 0 1]\n",
      " [1 0 0]\n",
      " [1 0 0]\n",
      " [1 0 0]\n",
      " [1 0 0]\n",
      " [1 0 0]\n",
      " [1 0 0]\n",
      " [1 0 0]\n",
      " [1 0 0]\n",
      " [0 1 0]\n",
      " [0 1 0]\n",
      " [0 1 0]\n",
      " [0 0 1]\n",
      " [0 0 1]\n",
      " [0 0 1]\n",
      " [0 0 1]\n",
      " [0 0 1]\n",
      " [0 0 1]]\n"
     ]
    }
   ],
   "source": [
    "# Perform the one-hot encoding on the labels\n",
    "# 레이블에 대해 원핫 인코딩 수행\n",
    "lb = LabelBinarizer()\n",
    "labels = lb.fit_transform(labels)\n",
    "print(labels)"
   ]
  },
  {
   "cell_type": "code",
   "execution_count": 15,
   "id": "ff5db2c8",
   "metadata": {},
   "outputs": [],
   "source": [
    "# Initialize the training data augmentation\n",
    "# 교육 데이터 억멘테이션 초기화\n",
    "trainAug = ImageDataGenerator(rotation_range=40, zoom_range=0.15, width_shift_range=0.2, height_shift_range=0.2,\n",
    "\t\tshear_range=0.15,fill_mode=\"nearest\", rescale=1./255 ,horizontal_flip=True)"
   ]
  },
  {
   "cell_type": "code",
   "execution_count": 16,
   "id": "29189ce7",
   "metadata": {},
   "outputs": [
    {
     "data": {
      "text/plain": [
       "(90, 3)"
      ]
     },
     "execution_count": 16,
     "metadata": {},
     "output_type": "execute_result"
    }
   ],
   "source": [
    "labels.shape"
   ]
  },
  {
   "cell_type": "code",
   "execution_count": 17,
   "id": "d9a6a874",
   "metadata": {},
   "outputs": [],
   "source": [
    "# Partition the data into training and testing splits using 80% of the training data and the remaining 20% for testing\n",
    "# 교육 데이터의 80%, 테스트에 20%를 사용하여 데이터를 교육 및 테스트 분할로 분할\n",
    "(trainX, testX, trainY, testY) = train_test_split(data, labels, test_size=0.20, stratify=labels, random_state=42)"
   ]
  },
  {
   "cell_type": "code",
   "execution_count": 18,
   "id": "63f69234",
   "metadata": {},
   "outputs": [],
   "source": [
    "# Load the network, ensuring the Head-FC layer sets are left off\n",
    "# Head-FC 레이어 세트가 포함되지 않도록 네트워크를 로드한다\n",
    "baseModel = Xception(weights=\"imagenet\", include_top=False, input_tensor=Input(shape=(224,224,3)))"
   ]
  },
  {
   "cell_type": "code",
   "execution_count": 19,
   "id": "5afca810",
   "metadata": {},
   "outputs": [],
   "source": [
    "# Construct the head model that will be placed on the top of the base model\n",
    "# 보디 모델의 맨 위에 배치할 헤드 모델 구성\n",
    "headModel = baseModel.output\n",
    "headModel = AveragePooling2D(pool_size=(4,4))(headModel)\n",
    "headModel = Flatten(name=\"flatten\")(headModel)\n",
    "headModel = Dense(64, activation=\"relu\")(headModel)\n",
    "headModel = Dropout(0.7)(headModel)\n",
    "headModel = Dense(3, activation=\"softmax\")(headModel)"
   ]
  },
  {
   "cell_type": "code",
   "execution_count": 20,
   "id": "46169eab",
   "metadata": {},
   "outputs": [],
   "source": [
    "# Place the Head-FC model on top of the Base model - This become the actual model that we will train\n",
    "# Head-FC 모델을 보디 모델 위에 배치한다. 이것이 우리가 교육할 실제 모델이 될 것이다.\n",
    "model = Model(inputs=baseModel.input, outputs=headModel)"
   ]
  },
  {
   "cell_type": "code",
   "execution_count": 21,
   "id": "c5790d68",
   "metadata": {},
   "outputs": [],
   "source": [
    "# Make sure that the basemodel layers will not be trained and only head model will be trained.\n",
    "# 보디 모델 레이어가 훈련되지 않고 헤드 모델만 훈련되는지 확인한다.\n",
    "for layer in baseModel.layers:\n",
    "    layer.trainable = False"
   ]
  },
  {
   "cell_type": "code",
   "execution_count": 22,
   "id": "6e4f5a99",
   "metadata": {
    "scrolled": true
   },
   "outputs": [
    {
     "data": {
      "text/plain": [
       "(72, 224, 224, 3)"
      ]
     },
     "execution_count": 22,
     "metadata": {},
     "output_type": "execute_result"
    }
   ],
   "source": [
    "trainX.shape"
   ]
  },
  {
   "cell_type": "code",
   "execution_count": 23,
   "id": "df5bfbe7",
   "metadata": {},
   "outputs": [],
   "source": [
    "# Set the hyper-parameters\n",
    "# 하이퍼 파라미터 설정\n",
    "# INIT_LR = 1e-3\n",
    "INIT_LR = 0.001\n",
    "EPOCHS = 200\n",
    "BS = 16"
   ]
  },
  {
   "cell_type": "code",
   "execution_count": 24,
   "id": "7582c7c7",
   "metadata": {},
   "outputs": [],
   "source": [
    "# Compile the Model\n",
    "# 모델 컴파일\n",
    "opt = Adam(learning_rate=INIT_LR, decay=INIT_LR / EPOCHS)\n",
    "model.compile(loss=\"binary_crossentropy\", optimizer=opt, metrics=[\"accuracy\"])"
   ]
  },
  {
   "cell_type": "code",
   "execution_count": 25,
   "id": "1a5c47b4",
   "metadata": {},
   "outputs": [
    {
     "name": "stdout",
     "output_type": "stream",
     "text": [
      "[INFO] Model Training\n",
      "Epoch 1/200\n",
      "9/9 [==============================] - 9s 387ms/step - loss: 0.6717 - accuracy: 0.4167 - val_loss: 0.5496 - val_accuracy: 0.5000\n",
      "Epoch 2/200\n",
      "9/9 [==============================] - 1s 96ms/step - loss: 0.6902 - accuracy: 0.5278 - val_loss: 0.5278 - val_accuracy: 0.6111\n",
      "Epoch 3/200\n",
      "9/9 [==============================] - 1s 97ms/step - loss: 0.6234 - accuracy: 0.5278 - val_loss: 0.5189 - val_accuracy: 0.6667\n",
      "Epoch 4/200\n",
      "9/9 [==============================] - 1s 101ms/step - loss: 0.5660 - accuracy: 0.5833 - val_loss: 0.5085 - val_accuracy: 0.7778\n",
      "Epoch 5/200\n",
      "9/9 [==============================] - 1s 94ms/step - loss: 0.5421 - accuracy: 0.6389 - val_loss: 0.5031 - val_accuracy: 0.7778\n",
      "Epoch 6/200\n",
      "9/9 [==============================] - 1s 99ms/step - loss: 0.5461 - accuracy: 0.6111 - val_loss: 0.4702 - val_accuracy: 0.7778\n",
      "Epoch 7/200\n",
      "9/9 [==============================] - 1s 95ms/step - loss: 0.4901 - accuracy: 0.6806 - val_loss: 0.4665 - val_accuracy: 0.7778\n",
      "Epoch 8/200\n",
      "9/9 [==============================] - 1s 96ms/step - loss: 0.5101 - accuracy: 0.6667 - val_loss: 0.4639 - val_accuracy: 0.7778\n",
      "Epoch 9/200\n",
      "9/9 [==============================] - 1s 93ms/step - loss: 0.5981 - accuracy: 0.6389 - val_loss: 0.4918 - val_accuracy: 0.6667\n",
      "Epoch 10/200\n",
      "9/9 [==============================] - 1s 93ms/step - loss: 0.5276 - accuracy: 0.6389 - val_loss: 0.4789 - val_accuracy: 0.7222\n",
      "Epoch 11/200\n",
      "9/9 [==============================] - 1s 94ms/step - loss: 0.5223 - accuracy: 0.6528 - val_loss: 0.4939 - val_accuracy: 0.7222\n",
      "Epoch 12/200\n",
      "9/9 [==============================] - 1s 92ms/step - loss: 0.5685 - accuracy: 0.6250 - val_loss: 0.4672 - val_accuracy: 0.7778\n",
      "Epoch 13/200\n",
      "9/9 [==============================] - 1s 98ms/step - loss: 0.5363 - accuracy: 0.7083 - val_loss: 0.4694 - val_accuracy: 0.7778\n",
      "Epoch 14/200\n",
      "9/9 [==============================] - 1s 94ms/step - loss: 0.5132 - accuracy: 0.6944 - val_loss: 0.4509 - val_accuracy: 0.7778\n",
      "Epoch 15/200\n",
      "9/9 [==============================] - 1s 100ms/step - loss: 0.5063 - accuracy: 0.6111 - val_loss: 0.4692 - val_accuracy: 0.7778\n",
      "Epoch 16/200\n",
      "9/9 [==============================] - 1s 102ms/step - loss: 0.4989 - accuracy: 0.6944 - val_loss: 0.4527 - val_accuracy: 0.7222\n",
      "Epoch 17/200\n",
      "9/9 [==============================] - 1s 98ms/step - loss: 0.4648 - accuracy: 0.6667 - val_loss: 0.4397 - val_accuracy: 0.7778\n",
      "Epoch 18/200\n",
      "9/9 [==============================] - 1s 93ms/step - loss: 0.4987 - accuracy: 0.6250 - val_loss: 0.4416 - val_accuracy: 0.7778\n",
      "Epoch 19/200\n",
      "9/9 [==============================] - 1s 93ms/step - loss: 0.4692 - accuracy: 0.6944 - val_loss: 0.4349 - val_accuracy: 0.7778\n",
      "Epoch 20/200\n",
      "9/9 [==============================] - 1s 96ms/step - loss: 0.4404 - accuracy: 0.7500 - val_loss: 0.4394 - val_accuracy: 0.7778\n",
      "Epoch 21/200\n",
      "9/9 [==============================] - 1s 91ms/step - loss: 0.4920 - accuracy: 0.6528 - val_loss: 0.4304 - val_accuracy: 0.7778\n",
      "Epoch 22/200\n",
      "9/9 [==============================] - 1s 96ms/step - loss: 0.4537 - accuracy: 0.7222 - val_loss: 0.4302 - val_accuracy: 0.7778\n",
      "Epoch 23/200\n",
      "9/9 [==============================] - 1s 94ms/step - loss: 0.4911 - accuracy: 0.6944 - val_loss: 0.4449 - val_accuracy: 0.7778\n",
      "Epoch 24/200\n",
      "9/9 [==============================] - 1s 96ms/step - loss: 0.5009 - accuracy: 0.6667 - val_loss: 0.4296 - val_accuracy: 0.7778\n",
      "Epoch 25/200\n",
      "9/9 [==============================] - 1s 93ms/step - loss: 0.4187 - accuracy: 0.7361 - val_loss: 0.4224 - val_accuracy: 0.7778\n",
      "Epoch 26/200\n",
      "9/9 [==============================] - 1s 95ms/step - loss: 0.4405 - accuracy: 0.7500 - val_loss: 0.4374 - val_accuracy: 0.7778\n",
      "Epoch 27/200\n",
      "9/9 [==============================] - 1s 97ms/step - loss: 0.4377 - accuracy: 0.7222 - val_loss: 0.4271 - val_accuracy: 0.8333\n",
      "Epoch 28/200\n",
      "9/9 [==============================] - 1s 96ms/step - loss: 0.4573 - accuracy: 0.7222 - val_loss: 0.4364 - val_accuracy: 0.8333\n",
      "Epoch 29/200\n",
      "9/9 [==============================] - 1s 95ms/step - loss: 0.4160 - accuracy: 0.7361 - val_loss: 0.4287 - val_accuracy: 0.7778\n",
      "Epoch 30/200\n",
      "9/9 [==============================] - 1s 96ms/step - loss: 0.4580 - accuracy: 0.7083 - val_loss: 0.4315 - val_accuracy: 0.7778\n",
      "Epoch 31/200\n",
      "9/9 [==============================] - 1s 99ms/step - loss: 0.4490 - accuracy: 0.6806 - val_loss: 0.4034 - val_accuracy: 0.7778\n",
      "Epoch 32/200\n",
      "9/9 [==============================] - 1s 94ms/step - loss: 0.5010 - accuracy: 0.6389 - val_loss: 0.4700 - val_accuracy: 0.7778\n",
      "Epoch 33/200\n",
      "9/9 [==============================] - 1s 102ms/step - loss: 0.4530 - accuracy: 0.6806 - val_loss: 0.4327 - val_accuracy: 0.8333\n",
      "Epoch 34/200\n",
      "9/9 [==============================] - 1s 98ms/step - loss: 0.4832 - accuracy: 0.6944 - val_loss: 0.4463 - val_accuracy: 0.7778\n",
      "Epoch 35/200\n",
      "9/9 [==============================] - 1s 95ms/step - loss: 0.4416 - accuracy: 0.7083 - val_loss: 0.4430 - val_accuracy: 0.7778\n",
      "Epoch 36/200\n",
      "9/9 [==============================] - 1s 95ms/step - loss: 0.4487 - accuracy: 0.6806 - val_loss: 0.4522 - val_accuracy: 0.7778\n",
      "Epoch 37/200\n",
      "9/9 [==============================] - 1s 104ms/step - loss: 0.4183 - accuracy: 0.6944 - val_loss: 0.4577 - val_accuracy: 0.7778\n",
      "Epoch 38/200\n",
      "9/9 [==============================] - 1s 95ms/step - loss: 0.4734 - accuracy: 0.6806 - val_loss: 0.4895 - val_accuracy: 0.7778\n",
      "Epoch 39/200\n",
      "9/9 [==============================] - 1s 94ms/step - loss: 0.4183 - accuracy: 0.7083 - val_loss: 0.4751 - val_accuracy: 0.6667\n",
      "Epoch 40/200\n",
      "9/9 [==============================] - 1s 95ms/step - loss: 0.4412 - accuracy: 0.7083 - val_loss: 0.4829 - val_accuracy: 0.7222\n",
      "Epoch 41/200\n",
      "9/9 [==============================] - 1s 95ms/step - loss: 0.4647 - accuracy: 0.7361 - val_loss: 0.4586 - val_accuracy: 0.7778\n",
      "Epoch 42/200\n",
      "9/9 [==============================] - 1s 96ms/step - loss: 0.4209 - accuracy: 0.7361 - val_loss: 0.4282 - val_accuracy: 0.7778\n",
      "Epoch 43/200\n",
      "9/9 [==============================] - 1s 96ms/step - loss: 0.4335 - accuracy: 0.6944 - val_loss: 0.4315 - val_accuracy: 0.7778\n",
      "Epoch 44/200\n",
      "9/9 [==============================] - 1s 100ms/step - loss: 0.4247 - accuracy: 0.7778 - val_loss: 0.4200 - val_accuracy: 0.7778\n",
      "Epoch 45/200\n",
      "9/9 [==============================] - 1s 93ms/step - loss: 0.3777 - accuracy: 0.7361 - val_loss: 0.4070 - val_accuracy: 0.7222\n",
      "Epoch 46/200\n",
      "9/9 [==============================] - 1s 93ms/step - loss: 0.4102 - accuracy: 0.8056 - val_loss: 0.3836 - val_accuracy: 0.8333\n",
      "Epoch 47/200\n",
      "9/9 [==============================] - 1s 96ms/step - loss: 0.4901 - accuracy: 0.6806 - val_loss: 0.3725 - val_accuracy: 0.8333\n",
      "Epoch 48/200\n",
      "9/9 [==============================] - 1s 94ms/step - loss: 0.3770 - accuracy: 0.7778 - val_loss: 0.3878 - val_accuracy: 0.7778\n",
      "Epoch 49/200\n",
      "9/9 [==============================] - 1s 94ms/step - loss: 0.4170 - accuracy: 0.7639 - val_loss: 0.3872 - val_accuracy: 0.7778\n",
      "Epoch 50/200\n",
      "9/9 [==============================] - 1s 98ms/step - loss: 0.3720 - accuracy: 0.8194 - val_loss: 0.3857 - val_accuracy: 0.8333\n",
      "Epoch 51/200\n",
      "9/9 [==============================] - 1s 105ms/step - loss: 0.4108 - accuracy: 0.7222 - val_loss: 0.3886 - val_accuracy: 0.8333\n",
      "Epoch 52/200\n",
      "9/9 [==============================] - 1s 92ms/step - loss: 0.3661 - accuracy: 0.7639 - val_loss: 0.4140 - val_accuracy: 0.7778\n",
      "Epoch 53/200\n",
      "9/9 [==============================] - 1s 95ms/step - loss: 0.3901 - accuracy: 0.7917 - val_loss: 0.4181 - val_accuracy: 0.7778\n",
      "Epoch 54/200\n",
      "9/9 [==============================] - 1s 96ms/step - loss: 0.4091 - accuracy: 0.7500 - val_loss: 0.4393 - val_accuracy: 0.7222\n",
      "Epoch 55/200\n",
      "9/9 [==============================] - 1s 94ms/step - loss: 0.3713 - accuracy: 0.7222 - val_loss: 0.4318 - val_accuracy: 0.7778\n",
      "Epoch 56/200\n",
      "9/9 [==============================] - 1s 95ms/step - loss: 0.3603 - accuracy: 0.7778 - val_loss: 0.4190 - val_accuracy: 0.8333\n",
      "Epoch 57/200\n",
      "9/9 [==============================] - 1s 94ms/step - loss: 0.3094 - accuracy: 0.8611 - val_loss: 0.4517 - val_accuracy: 0.7778\n",
      "Epoch 58/200\n",
      "9/9 [==============================] - 1s 93ms/step - loss: 0.4300 - accuracy: 0.7083 - val_loss: 0.4630 - val_accuracy: 0.6667\n"
     ]
    },
    {
     "name": "stdout",
     "output_type": "stream",
     "text": [
      "Epoch 59/200\n",
      "9/9 [==============================] - 1s 95ms/step - loss: 0.3996 - accuracy: 0.7639 - val_loss: 0.4195 - val_accuracy: 0.7778\n",
      "Epoch 60/200\n",
      "9/9 [==============================] - 1s 94ms/step - loss: 0.3600 - accuracy: 0.8333 - val_loss: 0.4072 - val_accuracy: 0.8333\n",
      "Epoch 61/200\n",
      "9/9 [==============================] - 1s 93ms/step - loss: 0.3626 - accuracy: 0.8333 - val_loss: 0.4514 - val_accuracy: 0.7222\n",
      "Epoch 62/200\n",
      "9/9 [==============================] - 1s 95ms/step - loss: 0.3961 - accuracy: 0.7222 - val_loss: 0.4273 - val_accuracy: 0.8333\n",
      "Epoch 63/200\n",
      "9/9 [==============================] - 1s 98ms/step - loss: 0.3024 - accuracy: 0.7917 - val_loss: 0.4300 - val_accuracy: 0.8333\n",
      "Epoch 64/200\n",
      "9/9 [==============================] - 1s 92ms/step - loss: 0.3648 - accuracy: 0.7639 - val_loss: 0.4289 - val_accuracy: 0.8333\n",
      "Epoch 65/200\n",
      "9/9 [==============================] - 1s 96ms/step - loss: 0.3848 - accuracy: 0.8194 - val_loss: 0.4365 - val_accuracy: 0.8333\n",
      "Epoch 66/200\n",
      "9/9 [==============================] - 1s 90ms/step - loss: 0.4035 - accuracy: 0.6806 - val_loss: 0.4496 - val_accuracy: 0.8333\n",
      "Epoch 67/200\n",
      "9/9 [==============================] - 1s 93ms/step - loss: 0.3095 - accuracy: 0.8472 - val_loss: 0.4354 - val_accuracy: 0.8333\n",
      "Epoch 68/200\n",
      "9/9 [==============================] - 1s 99ms/step - loss: 0.4079 - accuracy: 0.7500 - val_loss: 0.4869 - val_accuracy: 0.6667\n",
      "Epoch 69/200\n",
      "9/9 [==============================] - 1s 98ms/step - loss: 0.3732 - accuracy: 0.8194 - val_loss: 0.4227 - val_accuracy: 0.8333\n",
      "Epoch 70/200\n",
      "9/9 [==============================] - 1s 92ms/step - loss: 0.4203 - accuracy: 0.6528 - val_loss: 0.4108 - val_accuracy: 0.8333\n",
      "Epoch 71/200\n",
      "9/9 [==============================] - 1s 95ms/step - loss: 0.4038 - accuracy: 0.7500 - val_loss: 0.4325 - val_accuracy: 0.8333\n",
      "Epoch 72/200\n",
      "9/9 [==============================] - 1s 93ms/step - loss: 0.3734 - accuracy: 0.7083 - val_loss: 0.4489 - val_accuracy: 0.8333\n",
      "Epoch 73/200\n",
      "9/9 [==============================] - 1s 95ms/step - loss: 0.3455 - accuracy: 0.8194 - val_loss: 0.4092 - val_accuracy: 0.8333\n",
      "Epoch 74/200\n",
      "9/9 [==============================] - 1s 98ms/step - loss: 0.3609 - accuracy: 0.7639 - val_loss: 0.4429 - val_accuracy: 0.7778\n",
      "Epoch 75/200\n",
      "9/9 [==============================] - 1s 97ms/step - loss: 0.3691 - accuracy: 0.7361 - val_loss: 0.4412 - val_accuracy: 0.8333\n",
      "Epoch 76/200\n",
      "9/9 [==============================] - 1s 95ms/step - loss: 0.3661 - accuracy: 0.7778 - val_loss: 0.4428 - val_accuracy: 0.8333\n",
      "Epoch 77/200\n",
      "9/9 [==============================] - 1s 94ms/step - loss: 0.3467 - accuracy: 0.8194 - val_loss: 0.4195 - val_accuracy: 0.8333\n",
      "Epoch 78/200\n",
      "9/9 [==============================] - 1s 95ms/step - loss: 0.2841 - accuracy: 0.8611 - val_loss: 0.4403 - val_accuracy: 0.7222\n",
      "Epoch 79/200\n",
      "9/9 [==============================] - 1s 94ms/step - loss: 0.3758 - accuracy: 0.7361 - val_loss: 0.4113 - val_accuracy: 0.8889\n",
      "Epoch 80/200\n",
      "9/9 [==============================] - 1s 93ms/step - loss: 0.3456 - accuracy: 0.7917 - val_loss: 0.4061 - val_accuracy: 0.8333\n",
      "Epoch 81/200\n",
      "9/9 [==============================] - 1s 91ms/step - loss: 0.3531 - accuracy: 0.7639 - val_loss: 0.4404 - val_accuracy: 0.7778\n",
      "Epoch 82/200\n",
      "9/9 [==============================] - 1s 96ms/step - loss: 0.3193 - accuracy: 0.7500 - val_loss: 0.4741 - val_accuracy: 0.8333\n",
      "Epoch 83/200\n",
      "9/9 [==============================] - 1s 94ms/step - loss: 0.3768 - accuracy: 0.7500 - val_loss: 0.4447 - val_accuracy: 0.7222\n",
      "Epoch 84/200\n",
      "9/9 [==============================] - 1s 97ms/step - loss: 0.3589 - accuracy: 0.7639 - val_loss: 0.5258 - val_accuracy: 0.6667\n",
      "Epoch 85/200\n",
      "9/9 [==============================] - 1s 94ms/step - loss: 0.3706 - accuracy: 0.7222 - val_loss: 0.4866 - val_accuracy: 0.6667\n",
      "Epoch 86/200\n",
      "9/9 [==============================] - 1s 101ms/step - loss: 0.3361 - accuracy: 0.7639 - val_loss: 0.4515 - val_accuracy: 0.7222\n",
      "Epoch 87/200\n",
      "9/9 [==============================] - 1s 98ms/step - loss: 0.3581 - accuracy: 0.7083 - val_loss: 0.4515 - val_accuracy: 0.7778\n",
      "Epoch 88/200\n",
      "9/9 [==============================] - 1s 93ms/step - loss: 0.3182 - accuracy: 0.7917 - val_loss: 0.4095 - val_accuracy: 0.8889\n",
      "Epoch 89/200\n",
      "9/9 [==============================] - 1s 94ms/step - loss: 0.3393 - accuracy: 0.7917 - val_loss: 0.4110 - val_accuracy: 0.7778\n",
      "Epoch 90/200\n",
      "9/9 [==============================] - 1s 97ms/step - loss: 0.3328 - accuracy: 0.7639 - val_loss: 0.4078 - val_accuracy: 0.8333\n",
      "Epoch 91/200\n",
      "9/9 [==============================] - 1s 93ms/step - loss: 0.3415 - accuracy: 0.8333 - val_loss: 0.4428 - val_accuracy: 0.7778\n",
      "Epoch 92/200\n",
      "9/9 [==============================] - 1s 95ms/step - loss: 0.3694 - accuracy: 0.7361 - val_loss: 0.4359 - val_accuracy: 0.8333\n",
      "Epoch 93/200\n",
      "9/9 [==============================] - 1s 92ms/step - loss: 0.3920 - accuracy: 0.7778 - val_loss: 0.4223 - val_accuracy: 0.7778\n",
      "Epoch 94/200\n",
      "9/9 [==============================] - 1s 94ms/step - loss: 0.3432 - accuracy: 0.7639 - val_loss: 0.5077 - val_accuracy: 0.7222\n",
      "Epoch 95/200\n",
      "9/9 [==============================] - 1s 95ms/step - loss: 0.3477 - accuracy: 0.7639 - val_loss: 0.4988 - val_accuracy: 0.6667\n",
      "Epoch 96/200\n",
      "9/9 [==============================] - 1s 95ms/step - loss: 0.2650 - accuracy: 0.8889 - val_loss: 0.4498 - val_accuracy: 0.8333\n",
      "Epoch 97/200\n",
      "9/9 [==============================] - 1s 93ms/step - loss: 0.2867 - accuracy: 0.8056 - val_loss: 0.4329 - val_accuracy: 0.8889\n",
      "Epoch 98/200\n",
      "9/9 [==============================] - 1s 93ms/step - loss: 0.3413 - accuracy: 0.7917 - val_loss: 0.4175 - val_accuracy: 0.8889\n",
      "Epoch 99/200\n",
      "9/9 [==============================] - 1s 96ms/step - loss: 0.2957 - accuracy: 0.8333 - val_loss: 0.3971 - val_accuracy: 0.8333\n",
      "Epoch 100/200\n",
      "9/9 [==============================] - 1s 92ms/step - loss: 0.3811 - accuracy: 0.7222 - val_loss: 0.4069 - val_accuracy: 0.8333\n",
      "Epoch 101/200\n",
      "9/9 [==============================] - 1s 94ms/step - loss: 0.3234 - accuracy: 0.7778 - val_loss: 0.4641 - val_accuracy: 0.7778\n",
      "Epoch 102/200\n",
      "9/9 [==============================] - 1s 95ms/step - loss: 0.3319 - accuracy: 0.8056 - val_loss: 0.4315 - val_accuracy: 0.8889\n",
      "Epoch 103/200\n",
      "9/9 [==============================] - 1s 101ms/step - loss: 0.3520 - accuracy: 0.7778 - val_loss: 0.4255 - val_accuracy: 0.8889\n",
      "Epoch 104/200\n",
      "9/9 [==============================] - 1s 97ms/step - loss: 0.2939 - accuracy: 0.8333 - val_loss: 0.4312 - val_accuracy: 0.8889\n",
      "Epoch 105/200\n",
      "9/9 [==============================] - 1s 92ms/step - loss: 0.3410 - accuracy: 0.7778 - val_loss: 0.4642 - val_accuracy: 0.8333\n",
      "Epoch 106/200\n",
      "9/9 [==============================] - 1s 99ms/step - loss: 0.2906 - accuracy: 0.8194 - val_loss: 0.4443 - val_accuracy: 0.8333\n",
      "Epoch 107/200\n",
      "9/9 [==============================] - 1s 94ms/step - loss: 0.2672 - accuracy: 0.8194 - val_loss: 0.4258 - val_accuracy: 0.8333\n",
      "Epoch 108/200\n",
      "9/9 [==============================] - 1s 92ms/step - loss: 0.2931 - accuracy: 0.8611 - val_loss: 0.3952 - val_accuracy: 0.8333\n",
      "Epoch 109/200\n",
      "9/9 [==============================] - 1s 92ms/step - loss: 0.3183 - accuracy: 0.8194 - val_loss: 0.4107 - val_accuracy: 0.7778\n",
      "Epoch 110/200\n",
      "9/9 [==============================] - 1s 96ms/step - loss: 0.2694 - accuracy: 0.8333 - val_loss: 0.4187 - val_accuracy: 0.8333\n",
      "Epoch 111/200\n",
      "9/9 [==============================] - 1s 94ms/step - loss: 0.2169 - accuracy: 0.9306 - val_loss: 0.4752 - val_accuracy: 0.8333\n",
      "Epoch 112/200\n",
      "9/9 [==============================] - 1s 94ms/step - loss: 0.2813 - accuracy: 0.7917 - val_loss: 0.4981 - val_accuracy: 0.7778\n",
      "Epoch 113/200\n",
      "9/9 [==============================] - 1s 94ms/step - loss: 0.2707 - accuracy: 0.8333 - val_loss: 0.4387 - val_accuracy: 0.7222\n",
      "Epoch 114/200\n",
      "9/9 [==============================] - 1s 92ms/step - loss: 0.2147 - accuracy: 0.8611 - val_loss: 0.4401 - val_accuracy: 0.8333\n",
      "Epoch 115/200\n",
      "9/9 [==============================] - 1s 96ms/step - loss: 0.3336 - accuracy: 0.7917 - val_loss: 0.4795 - val_accuracy: 0.8333\n",
      "Epoch 116/200\n",
      "9/9 [==============================] - 1s 95ms/step - loss: 0.3492 - accuracy: 0.7778 - val_loss: 0.5261 - val_accuracy: 0.6667\n"
     ]
    },
    {
     "name": "stdout",
     "output_type": "stream",
     "text": [
      "Epoch 117/200\n",
      "9/9 [==============================] - 1s 99ms/step - loss: 0.3176 - accuracy: 0.8056 - val_loss: 0.4569 - val_accuracy: 0.8333\n",
      "Epoch 118/200\n",
      "9/9 [==============================] - 1s 93ms/step - loss: 0.2261 - accuracy: 0.8889 - val_loss: 0.4386 - val_accuracy: 0.8333\n",
      "Epoch 119/200\n",
      "9/9 [==============================] - 1s 93ms/step - loss: 0.2921 - accuracy: 0.8333 - val_loss: 0.4144 - val_accuracy: 0.8889\n",
      "Epoch 120/200\n",
      "9/9 [==============================] - 1s 96ms/step - loss: 0.2704 - accuracy: 0.8333 - val_loss: 0.4347 - val_accuracy: 0.8333\n",
      "Epoch 121/200\n",
      "9/9 [==============================] - 1s 97ms/step - loss: 0.3212 - accuracy: 0.8194 - val_loss: 0.4446 - val_accuracy: 0.8333\n",
      "Epoch 122/200\n",
      "9/9 [==============================] - 1s 97ms/step - loss: 0.3089 - accuracy: 0.7917 - val_loss: 0.4241 - val_accuracy: 0.8333\n",
      "Epoch 123/200\n",
      "9/9 [==============================] - 1s 95ms/step - loss: 0.2659 - accuracy: 0.8472 - val_loss: 0.4150 - val_accuracy: 0.8889\n",
      "Epoch 124/200\n",
      "9/9 [==============================] - 1s 93ms/step - loss: 0.3152 - accuracy: 0.8194 - val_loss: 0.4167 - val_accuracy: 0.8333\n",
      "Epoch 125/200\n",
      "9/9 [==============================] - 1s 96ms/step - loss: 0.2801 - accuracy: 0.7917 - val_loss: 0.4722 - val_accuracy: 0.8333\n",
      "Epoch 126/200\n",
      "9/9 [==============================] - 1s 94ms/step - loss: 0.3124 - accuracy: 0.8333 - val_loss: 0.5255 - val_accuracy: 0.7222\n",
      "Epoch 127/200\n",
      "9/9 [==============================] - 1s 96ms/step - loss: 0.3498 - accuracy: 0.8333 - val_loss: 0.4439 - val_accuracy: 0.8333\n",
      "Epoch 128/200\n",
      "9/9 [==============================] - 1s 94ms/step - loss: 0.2745 - accuracy: 0.8333 - val_loss: 0.4713 - val_accuracy: 0.7778\n",
      "Epoch 129/200\n",
      "9/9 [==============================] - 1s 95ms/step - loss: 0.3007 - accuracy: 0.8333 - val_loss: 0.4628 - val_accuracy: 0.8333\n",
      "Epoch 130/200\n",
      "9/9 [==============================] - 1s 94ms/step - loss: 0.2485 - accuracy: 0.8889 - val_loss: 0.4564 - val_accuracy: 0.8889\n",
      "Epoch 131/200\n",
      "9/9 [==============================] - 1s 93ms/step - loss: 0.2538 - accuracy: 0.9028 - val_loss: 0.4420 - val_accuracy: 0.8889\n",
      "Epoch 132/200\n",
      "9/9 [==============================] - 1s 90ms/step - loss: 0.3260 - accuracy: 0.8333 - val_loss: 0.4763 - val_accuracy: 0.8889\n",
      "Epoch 133/200\n",
      "9/9 [==============================] - 1s 92ms/step - loss: 0.2612 - accuracy: 0.8333 - val_loss: 0.4640 - val_accuracy: 0.7778\n",
      "Epoch 134/200\n",
      "9/9 [==============================] - 1s 97ms/step - loss: 0.3059 - accuracy: 0.8194 - val_loss: 0.4441 - val_accuracy: 0.8333\n",
      "Epoch 135/200\n",
      "9/9 [==============================] - 1s 97ms/step - loss: 0.2280 - accuracy: 0.8611 - val_loss: 0.4613 - val_accuracy: 0.7778\n",
      "Epoch 136/200\n",
      "9/9 [==============================] - 1s 94ms/step - loss: 0.2780 - accuracy: 0.8194 - val_loss: 0.4717 - val_accuracy: 0.7222\n",
      "Epoch 137/200\n",
      "9/9 [==============================] - 1s 92ms/step - loss: 0.2993 - accuracy: 0.7917 - val_loss: 0.4806 - val_accuracy: 0.8333\n",
      "Epoch 138/200\n",
      "9/9 [==============================] - 1s 93ms/step - loss: 0.2690 - accuracy: 0.7917 - val_loss: 0.4911 - val_accuracy: 0.8333\n",
      "Epoch 139/200\n",
      "9/9 [==============================] - 1s 97ms/step - loss: 0.2641 - accuracy: 0.8472 - val_loss: 0.4745 - val_accuracy: 0.8333\n",
      "Epoch 140/200\n",
      "9/9 [==============================] - 1s 97ms/step - loss: 0.2470 - accuracy: 0.9167 - val_loss: 0.4352 - val_accuracy: 0.8333\n",
      "Epoch 141/200\n",
      "9/9 [==============================] - 1s 95ms/step - loss: 0.3480 - accuracy: 0.8194 - val_loss: 0.4590 - val_accuracy: 0.8333\n",
      "Epoch 142/200\n",
      "9/9 [==============================] - 1s 92ms/step - loss: 0.3082 - accuracy: 0.7639 - val_loss: 0.3938 - val_accuracy: 0.8889\n",
      "Epoch 143/200\n",
      "9/9 [==============================] - 1s 95ms/step - loss: 0.2555 - accuracy: 0.8750 - val_loss: 0.4208 - val_accuracy: 0.8889\n",
      "Epoch 144/200\n",
      "9/9 [==============================] - 1s 92ms/step - loss: 0.3408 - accuracy: 0.7917 - val_loss: 0.4669 - val_accuracy: 0.7778\n",
      "Epoch 145/200\n",
      "9/9 [==============================] - 1s 93ms/step - loss: 0.2277 - accuracy: 0.9028 - val_loss: 0.4313 - val_accuracy: 0.7778\n",
      "Epoch 146/200\n",
      "9/9 [==============================] - 1s 92ms/step - loss: 0.2989 - accuracy: 0.8194 - val_loss: 0.4334 - val_accuracy: 0.7778\n",
      "Epoch 147/200\n",
      "9/9 [==============================] - 1s 97ms/step - loss: 0.2213 - accuracy: 0.9167 - val_loss: 0.4829 - val_accuracy: 0.7778\n",
      "Epoch 148/200\n",
      "9/9 [==============================] - 1s 98ms/step - loss: 0.2531 - accuracy: 0.8472 - val_loss: 0.4415 - val_accuracy: 0.8333\n",
      "Epoch 149/200\n",
      "9/9 [==============================] - 1s 91ms/step - loss: 0.2878 - accuracy: 0.8333 - val_loss: 0.4435 - val_accuracy: 0.8333\n",
      "Epoch 150/200\n",
      "9/9 [==============================] - 1s 94ms/step - loss: 0.2976 - accuracy: 0.8333 - val_loss: 0.4697 - val_accuracy: 0.7222\n",
      "Epoch 151/200\n",
      "9/9 [==============================] - 1s 91ms/step - loss: 0.2847 - accuracy: 0.7917 - val_loss: 0.4936 - val_accuracy: 0.7778\n",
      "Epoch 152/200\n",
      "9/9 [==============================] - 1s 91ms/step - loss: 0.2392 - accuracy: 0.8611 - val_loss: 0.4745 - val_accuracy: 0.7222\n",
      "Epoch 153/200\n",
      "9/9 [==============================] - 1s 92ms/step - loss: 0.3011 - accuracy: 0.8472 - val_loss: 0.4529 - val_accuracy: 0.7778\n",
      "Epoch 154/200\n",
      "9/9 [==============================] - 1s 93ms/step - loss: 0.2224 - accuracy: 0.9028 - val_loss: 0.3920 - val_accuracy: 0.8889\n",
      "Epoch 155/200\n",
      "9/9 [==============================] - 1s 93ms/step - loss: 0.2220 - accuracy: 0.8889 - val_loss: 0.3878 - val_accuracy: 0.9444\n",
      "Epoch 156/200\n",
      "9/9 [==============================] - 1s 99ms/step - loss: 0.2505 - accuracy: 0.8750 - val_loss: 0.4144 - val_accuracy: 0.8889\n",
      "Epoch 157/200\n",
      "9/9 [==============================] - 1s 100ms/step - loss: 0.2488 - accuracy: 0.8611 - val_loss: 0.4215 - val_accuracy: 0.8333\n",
      "Epoch 158/200\n",
      "9/9 [==============================] - 1s 96ms/step - loss: 0.2616 - accuracy: 0.8472 - val_loss: 0.4349 - val_accuracy: 0.8333\n",
      "Epoch 159/200\n",
      "9/9 [==============================] - 1s 95ms/step - loss: 0.2906 - accuracy: 0.8472 - val_loss: 0.4284 - val_accuracy: 0.7778\n",
      "Epoch 160/200\n",
      "9/9 [==============================] - 1s 92ms/step - loss: 0.1739 - accuracy: 0.9583 - val_loss: 0.4151 - val_accuracy: 0.9444\n",
      "Epoch 161/200\n",
      "9/9 [==============================] - 1s 95ms/step - loss: 0.2703 - accuracy: 0.8333 - val_loss: 0.5045 - val_accuracy: 0.7778\n",
      "Epoch 162/200\n",
      "9/9 [==============================] - 1s 93ms/step - loss: 0.2232 - accuracy: 0.9028 - val_loss: 0.4967 - val_accuracy: 0.7778\n",
      "Epoch 163/200\n",
      "9/9 [==============================] - 1s 94ms/step - loss: 0.2363 - accuracy: 0.8889 - val_loss: 0.4878 - val_accuracy: 0.8333\n",
      "Epoch 164/200\n",
      "9/9 [==============================] - 1s 93ms/step - loss: 0.2034 - accuracy: 0.9167 - val_loss: 0.4992 - val_accuracy: 0.7222\n",
      "Epoch 165/200\n",
      "9/9 [==============================] - 1s 98ms/step - loss: 0.2286 - accuracy: 0.9028 - val_loss: 0.4499 - val_accuracy: 0.7778\n",
      "Epoch 166/200\n",
      "9/9 [==============================] - 1s 91ms/step - loss: 0.2647 - accuracy: 0.8333 - val_loss: 0.4319 - val_accuracy: 0.8333\n",
      "Epoch 167/200\n",
      "9/9 [==============================] - 1s 92ms/step - loss: 0.2607 - accuracy: 0.8333 - val_loss: 0.4223 - val_accuracy: 0.8333\n",
      "Epoch 168/200\n",
      "9/9 [==============================] - 1s 94ms/step - loss: 0.2973 - accuracy: 0.8333 - val_loss: 0.4253 - val_accuracy: 0.8333\n",
      "Epoch 169/200\n",
      "9/9 [==============================] - 1s 93ms/step - loss: 0.2423 - accuracy: 0.8611 - val_loss: 0.4062 - val_accuracy: 0.8889\n",
      "Epoch 170/200\n",
      "9/9 [==============================] - 1s 94ms/step - loss: 0.3026 - accuracy: 0.7778 - val_loss: 0.4216 - val_accuracy: 0.7778\n",
      "Epoch 171/200\n",
      "9/9 [==============================] - 1s 94ms/step - loss: 0.2721 - accuracy: 0.8333 - val_loss: 0.4162 - val_accuracy: 0.8333\n",
      "Epoch 172/200\n",
      "9/9 [==============================] - 1s 96ms/step - loss: 0.2293 - accuracy: 0.8889 - val_loss: 0.4113 - val_accuracy: 0.8333\n",
      "Epoch 173/200\n",
      "9/9 [==============================] - 1s 98ms/step - loss: 0.2329 - accuracy: 0.8472 - val_loss: 0.4256 - val_accuracy: 0.8889\n",
      "Epoch 174/200\n",
      "9/9 [==============================] - 1s 99ms/step - loss: 0.3202 - accuracy: 0.8056 - val_loss: 0.4258 - val_accuracy: 0.8333\n"
     ]
    },
    {
     "name": "stdout",
     "output_type": "stream",
     "text": [
      "Epoch 175/200\n",
      "9/9 [==============================] - 1s 98ms/step - loss: 0.2281 - accuracy: 0.8611 - val_loss: 0.3988 - val_accuracy: 0.8889\n",
      "Epoch 176/200\n",
      "9/9 [==============================] - 1s 96ms/step - loss: 0.2449 - accuracy: 0.8194 - val_loss: 0.4403 - val_accuracy: 0.8333\n",
      "Epoch 177/200\n",
      "9/9 [==============================] - 1s 91ms/step - loss: 0.2296 - accuracy: 0.8333 - val_loss: 0.5264 - val_accuracy: 0.8333\n",
      "Epoch 178/200\n",
      "9/9 [==============================] - 1s 92ms/step - loss: 0.3174 - accuracy: 0.8611 - val_loss: 0.4551 - val_accuracy: 0.8333\n",
      "Epoch 179/200\n",
      "9/9 [==============================] - 1s 97ms/step - loss: 0.2977 - accuracy: 0.8333 - val_loss: 0.4621 - val_accuracy: 0.7778\n",
      "Epoch 180/200\n",
      "9/9 [==============================] - 1s 91ms/step - loss: 0.2233 - accuracy: 0.8611 - val_loss: 0.4376 - val_accuracy: 0.7778\n",
      "Epoch 181/200\n",
      "9/9 [==============================] - 1s 97ms/step - loss: 0.1825 - accuracy: 0.9583 - val_loss: 0.4126 - val_accuracy: 0.8889\n",
      "Epoch 182/200\n",
      "9/9 [==============================] - 1s 93ms/step - loss: 0.3014 - accuracy: 0.7778 - val_loss: 0.4104 - val_accuracy: 0.7778\n",
      "Epoch 183/200\n",
      "9/9 [==============================] - 1s 93ms/step - loss: 0.2770 - accuracy: 0.8194 - val_loss: 0.3925 - val_accuracy: 0.8889\n",
      "Epoch 184/200\n",
      "9/9 [==============================] - 1s 93ms/step - loss: 0.2996 - accuracy: 0.7639 - val_loss: 0.3942 - val_accuracy: 0.8889\n",
      "Epoch 185/200\n",
      "9/9 [==============================] - 1s 91ms/step - loss: 0.3070 - accuracy: 0.7917 - val_loss: 0.4254 - val_accuracy: 0.7778\n",
      "Epoch 186/200\n",
      "9/9 [==============================] - 1s 94ms/step - loss: 0.2558 - accuracy: 0.8333 - val_loss: 0.4278 - val_accuracy: 0.8333\n",
      "Epoch 187/200\n",
      "9/9 [==============================] - 1s 93ms/step - loss: 0.2045 - accuracy: 0.9028 - val_loss: 0.5038 - val_accuracy: 0.8333\n",
      "Epoch 188/200\n",
      "9/9 [==============================] - 1s 98ms/step - loss: 0.3262 - accuracy: 0.8750 - val_loss: 0.4474 - val_accuracy: 0.8333\n",
      "Epoch 189/200\n",
      "9/9 [==============================] - 1s 92ms/step - loss: 0.2745 - accuracy: 0.8472 - val_loss: 0.3927 - val_accuracy: 0.8889\n",
      "Epoch 190/200\n",
      "9/9 [==============================] - 1s 97ms/step - loss: 0.2426 - accuracy: 0.8472 - val_loss: 0.4391 - val_accuracy: 0.7778\n",
      "Epoch 191/200\n",
      "9/9 [==============================] - 1s 99ms/step - loss: 0.3364 - accuracy: 0.8056 - val_loss: 0.4506 - val_accuracy: 0.8333\n",
      "Epoch 192/200\n",
      "9/9 [==============================] - 1s 97ms/step - loss: 0.2766 - accuracy: 0.8194 - val_loss: 0.4264 - val_accuracy: 0.8889\n",
      "Epoch 193/200\n",
      "9/9 [==============================] - 1s 103ms/step - loss: 0.2529 - accuracy: 0.8472 - val_loss: 0.3979 - val_accuracy: 0.8889\n",
      "Epoch 194/200\n",
      "9/9 [==============================] - 1s 93ms/step - loss: 0.3045 - accuracy: 0.8333 - val_loss: 0.4254 - val_accuracy: 0.7778\n",
      "Epoch 195/200\n",
      "9/9 [==============================] - 1s 96ms/step - loss: 0.2233 - accuracy: 0.8611 - val_loss: 0.3977 - val_accuracy: 0.7778\n",
      "Epoch 196/200\n",
      "9/9 [==============================] - 1s 99ms/step - loss: 0.3609 - accuracy: 0.7917 - val_loss: 0.3868 - val_accuracy: 0.8889\n",
      "Epoch 197/200\n",
      "9/9 [==============================] - 1s 92ms/step - loss: 0.1927 - accuracy: 0.9028 - val_loss: 0.3760 - val_accuracy: 0.8889\n",
      "Epoch 198/200\n",
      "9/9 [==============================] - 1s 94ms/step - loss: 0.2525 - accuracy: 0.7778 - val_loss: 0.4511 - val_accuracy: 0.7778\n",
      "Epoch 199/200\n",
      "9/9 [==============================] - 1s 95ms/step - loss: 0.2441 - accuracy: 0.8611 - val_loss: 0.4770 - val_accuracy: 0.7778\n",
      "Epoch 200/200\n",
      "9/9 [==============================] - 1s 95ms/step - loss: 0.2313 - accuracy: 0.8611 - val_loss: 0.4623 - val_accuracy: 0.7222\n"
     ]
    }
   ],
   "source": [
    "# Train the Network Model\n",
    "# 모델 교육\n",
    "print(\"[INFO] Model Training\")\n",
    "start = timeit.default_timer()\n",
    "H = model.fit(\n",
    "        trainAug.flow(trainX, trainY, batch_size=BS),\n",
    "        steps_per_epoch=len(trainX) // BS,\n",
    "        validation_data=(testX, testY),\n",
    "        validation_steps=len(testX) // BS,\n",
    "        epochs=EPOCHS)"
   ]
  },
  {
   "cell_type": "code",
   "execution_count": 26,
   "id": "c287ab9b",
   "metadata": {},
   "outputs": [
    {
     "name": "stdout",
     "output_type": "stream",
     "text": [
      "Total Training Time:  190.3445304\n"
     ]
    }
   ],
   "source": [
    "stop = timeit.default_timer()\n",
    "print('Total Training Time: ', stop - start) "
   ]
  },
  {
   "cell_type": "code",
   "execution_count": 27,
   "id": "ebd52999",
   "metadata": {},
   "outputs": [
    {
     "data": {
      "text/plain": [
       "(18, 224, 224, 3)"
      ]
     },
     "execution_count": 27,
     "metadata": {},
     "output_type": "execute_result"
    }
   ],
   "source": [
    "testX.shape"
   ]
  },
  {
   "cell_type": "code",
   "execution_count": 28,
   "id": "cba2aa2a",
   "metadata": {},
   "outputs": [
    {
     "name": "stdout",
     "output_type": "stream",
     "text": [
      "Making Predictions on the Test Set\n",
      "Classification Report\n",
      "              precision    recall  f1-score   support\n",
      "\n",
      "           0       0.80      0.89      0.84         9\n",
      "           1       0.33      0.33      0.33         3\n",
      "           2       0.80      0.67      0.73         6\n",
      "\n",
      "    accuracy                           0.72        18\n",
      "   macro avg       0.64      0.63      0.63        18\n",
      "weighted avg       0.72      0.72      0.72        18\n",
      "\n"
     ]
    }
   ],
   "source": [
    "# Make predictions on the testing set\n",
    "# 테스트 세트에서 예측한다\n",
    "print(\"Making Predictions on the Test Set\")\n",
    "predIdxs = model.predict(testX, batch_size=BS)\n",
    "\n",
    "predIdxs = np.argmax(predIdxs, axis=1)\n",
    "print(\"Classification Report\")\n",
    "print(classification_report(testY.argmax(axis=1), predIdxs, target_names=lb.classes_))"
   ]
  },
  {
   "cell_type": "code",
   "execution_count": 29,
   "id": "62354ab6",
   "metadata": {},
   "outputs": [
    {
     "data": {
      "text/plain": [
       "array([0, 2, 2, 2, 1, 0, 2, 0, 0, 0, 0, 0, 0, 0, 1, 0, 2, 1], dtype=int64)"
      ]
     },
     "execution_count": 29,
     "metadata": {},
     "output_type": "execute_result"
    }
   ],
   "source": [
    "predIdxs"
   ]
  },
  {
   "cell_type": "code",
   "execution_count": 30,
   "id": "d36e048e",
   "metadata": {},
   "outputs": [
    {
     "name": "stdout",
     "output_type": "stream",
     "text": [
      "Confusion Matrix and its Derrivatives\n",
      "[[8 0 1]\n",
      " [2 1 0]\n",
      " [0 2 4]]\n",
      "acc: 0.7222\n",
      "sensitivity: 1.0000\n",
      "specificity: 0.3333\n"
     ]
    }
   ],
   "source": [
    "# Compute Confusion Matrix and derrive raw, accuracy, sensitivity, specificity from it\n",
    "# 혼란 매트릭스\n",
    "cm= confusion_matrix(testY.argmax(axis=1), predIdxs)\n",
    "total = sum(sum(cm))\n",
    "acc = (cm[0,0] + cm[1,1] + cm[2,2]) / total\n",
    "\n",
    "sensitivity = cm[0, 0] / (cm[0, 0] + cm[0, 1])\n",
    "specificity = cm[1, 1] / (cm[1, 0] + cm[1, 1])\n",
    "# show the confusion matrix, accuracy, sensitivity, and specificity\n",
    "# 혼란 매트릭스 보기\n",
    "print(\"Confusion Matrix and its Derrivatives\")\n",
    "print(cm)\n",
    "print(\"acc: {:.4f}\".format(acc))\n",
    "print(\"sensitivity: {:.4f}\".format(sensitivity))\n",
    "print(\"specificity: {:.4f}\".format(specificity))"
   ]
  },
  {
   "cell_type": "code",
   "execution_count": 31,
   "id": "4b099c6f",
   "metadata": {},
   "outputs": [
    {
     "data": {
      "text/plain": [
       "[0.4166666567325592,\n",
       " 0.5277777910232544,\n",
       " 0.5277777910232544,\n",
       " 0.5833333134651184,\n",
       " 0.6388888955116272,\n",
       " 0.6111111044883728,\n",
       " 0.6805555820465088,\n",
       " 0.6666666865348816,\n",
       " 0.6388888955116272,\n",
       " 0.6388888955116272,\n",
       " 0.6527777910232544,\n",
       " 0.625,\n",
       " 0.7083333134651184,\n",
       " 0.6944444179534912,\n",
       " 0.6111111044883728,\n",
       " 0.6944444179534912,\n",
       " 0.6666666865348816,\n",
       " 0.625,\n",
       " 0.6944444179534912,\n",
       " 0.75,\n",
       " 0.6527777910232544,\n",
       " 0.7222222089767456,\n",
       " 0.6944444179534912,\n",
       " 0.6666666865348816,\n",
       " 0.7361111044883728,\n",
       " 0.75,\n",
       " 0.7222222089767456,\n",
       " 0.7222222089767456,\n",
       " 0.7361111044883728,\n",
       " 0.7083333134651184,\n",
       " 0.6805555820465088,\n",
       " 0.6388888955116272,\n",
       " 0.6805555820465088,\n",
       " 0.6944444179534912,\n",
       " 0.7083333134651184,\n",
       " 0.6805555820465088,\n",
       " 0.6944444179534912,\n",
       " 0.6805555820465088,\n",
       " 0.7083333134651184,\n",
       " 0.7083333134651184,\n",
       " 0.7361111044883728,\n",
       " 0.7361111044883728,\n",
       " 0.6944444179534912,\n",
       " 0.7777777910232544,\n",
       " 0.7361111044883728,\n",
       " 0.8055555820465088,\n",
       " 0.6805555820465088,\n",
       " 0.7777777910232544,\n",
       " 0.7638888955116272,\n",
       " 0.8194444179534912,\n",
       " 0.7222222089767456,\n",
       " 0.7638888955116272,\n",
       " 0.7916666865348816,\n",
       " 0.75,\n",
       " 0.7222222089767456,\n",
       " 0.7777777910232544,\n",
       " 0.8611111044883728,\n",
       " 0.7083333134651184,\n",
       " 0.7638888955116272,\n",
       " 0.8333333134651184,\n",
       " 0.8333333134651184,\n",
       " 0.7222222089767456,\n",
       " 0.7916666865348816,\n",
       " 0.7638888955116272,\n",
       " 0.8194444179534912,\n",
       " 0.6805555820465088,\n",
       " 0.8472222089767456,\n",
       " 0.75,\n",
       " 0.8194444179534912,\n",
       " 0.6527777910232544,\n",
       " 0.75,\n",
       " 0.7083333134651184,\n",
       " 0.8194444179534912,\n",
       " 0.7638888955116272,\n",
       " 0.7361111044883728,\n",
       " 0.7777777910232544,\n",
       " 0.8194444179534912,\n",
       " 0.8611111044883728,\n",
       " 0.7361111044883728,\n",
       " 0.7916666865348816,\n",
       " 0.7638888955116272,\n",
       " 0.75,\n",
       " 0.75,\n",
       " 0.7638888955116272,\n",
       " 0.7222222089767456,\n",
       " 0.7638888955116272,\n",
       " 0.7083333134651184,\n",
       " 0.7916666865348816,\n",
       " 0.7916666865348816,\n",
       " 0.7638888955116272,\n",
       " 0.8333333134651184,\n",
       " 0.7361111044883728,\n",
       " 0.7777777910232544,\n",
       " 0.7638888955116272,\n",
       " 0.7638888955116272,\n",
       " 0.8888888955116272,\n",
       " 0.8055555820465088,\n",
       " 0.7916666865348816,\n",
       " 0.8333333134651184,\n",
       " 0.7222222089767456,\n",
       " 0.7777777910232544,\n",
       " 0.8055555820465088,\n",
       " 0.7777777910232544,\n",
       " 0.8333333134651184,\n",
       " 0.7777777910232544,\n",
       " 0.8194444179534912,\n",
       " 0.8194444179534912,\n",
       " 0.8611111044883728,\n",
       " 0.8194444179534912,\n",
       " 0.8333333134651184,\n",
       " 0.9305555820465088,\n",
       " 0.7916666865348816,\n",
       " 0.8333333134651184,\n",
       " 0.8611111044883728,\n",
       " 0.7916666865348816,\n",
       " 0.7777777910232544,\n",
       " 0.8055555820465088,\n",
       " 0.8888888955116272,\n",
       " 0.8333333134651184,\n",
       " 0.8333333134651184,\n",
       " 0.8194444179534912,\n",
       " 0.7916666865348816,\n",
       " 0.8472222089767456,\n",
       " 0.8194444179534912,\n",
       " 0.7916666865348816,\n",
       " 0.8333333134651184,\n",
       " 0.8333333134651184,\n",
       " 0.8333333134651184,\n",
       " 0.8333333134651184,\n",
       " 0.8888888955116272,\n",
       " 0.9027777910232544,\n",
       " 0.8333333134651184,\n",
       " 0.8333333134651184,\n",
       " 0.8194444179534912,\n",
       " 0.8611111044883728,\n",
       " 0.8194444179534912,\n",
       " 0.7916666865348816,\n",
       " 0.7916666865348816,\n",
       " 0.8472222089767456,\n",
       " 0.9166666865348816,\n",
       " 0.8194444179534912,\n",
       " 0.7638888955116272,\n",
       " 0.875,\n",
       " 0.7916666865348816,\n",
       " 0.9027777910232544,\n",
       " 0.8194444179534912,\n",
       " 0.9166666865348816,\n",
       " 0.8472222089767456,\n",
       " 0.8333333134651184,\n",
       " 0.8333333134651184,\n",
       " 0.7916666865348816,\n",
       " 0.8611111044883728,\n",
       " 0.8472222089767456,\n",
       " 0.9027777910232544,\n",
       " 0.8888888955116272,\n",
       " 0.875,\n",
       " 0.8611111044883728,\n",
       " 0.8472222089767456,\n",
       " 0.8472222089767456,\n",
       " 0.9583333134651184,\n",
       " 0.8333333134651184,\n",
       " 0.9027777910232544,\n",
       " 0.8888888955116272,\n",
       " 0.9166666865348816,\n",
       " 0.9027777910232544,\n",
       " 0.8333333134651184,\n",
       " 0.8333333134651184,\n",
       " 0.8333333134651184,\n",
       " 0.8611111044883728,\n",
       " 0.7777777910232544,\n",
       " 0.8333333134651184,\n",
       " 0.8888888955116272,\n",
       " 0.8472222089767456,\n",
       " 0.8055555820465088,\n",
       " 0.8611111044883728,\n",
       " 0.8194444179534912,\n",
       " 0.8333333134651184,\n",
       " 0.8611111044883728,\n",
       " 0.8333333134651184,\n",
       " 0.8611111044883728,\n",
       " 0.9583333134651184,\n",
       " 0.7777777910232544,\n",
       " 0.8194444179534912,\n",
       " 0.7638888955116272,\n",
       " 0.7916666865348816,\n",
       " 0.8333333134651184,\n",
       " 0.9027777910232544,\n",
       " 0.875,\n",
       " 0.8472222089767456,\n",
       " 0.8472222089767456,\n",
       " 0.8055555820465088,\n",
       " 0.8194444179534912,\n",
       " 0.8472222089767456,\n",
       " 0.8333333134651184,\n",
       " 0.8611111044883728,\n",
       " 0.7916666865348816,\n",
       " 0.9027777910232544,\n",
       " 0.7777777910232544,\n",
       " 0.8611111044883728,\n",
       " 0.8611111044883728]"
      ]
     },
     "execution_count": 31,
     "metadata": {},
     "output_type": "execute_result"
    }
   ],
   "source": [
    "H.history[\"accuracy\"]"
   ]
  },
  {
   "cell_type": "code",
   "execution_count": 33,
   "id": "5de6d696",
   "metadata": {},
   "outputs": [
    {
     "name": "stdout",
     "output_type": "stream",
     "text": [
      "Final Plot Generated.\n"
     ]
    },
    {
     "data": {
      "image/png": "[encoded data removed]",
      "text/plain": [
       "<Figure size 432x288 with 1 Axes>"
      ]
     },
     "metadata": {},
     "output_type": "display_data"
    }
   ],
   "source": [
    "# plot the training loss and accuracy\n",
    "# 플롯 그래프\n",
    "print(\"Final Plot Generated.\")\n",
    "N = EPOCHS\n",
    "plt.style.use(\"ggplot\")\n",
    "plt.figure()\n",
    "plt.plot(np.arange(0, N), H.history[\"loss\"], label=\"train_loss\")\n",
    "plt.plot(np.arange(0, N), H.history[\"val_loss\"], label=\"val_loss\")\n",
    "plt.plot(np.arange(0, N), H.history[\"accuracy\"], label=\"train_acc\")\n",
    "plt.plot(np.arange(0, N), H.history[\"val_accuracy\"], label=\"val_acc\")\n",
    "plt.title(\"Allergic Rhinitis XceptNet - without Rotation\")\n",
    "plt.xlabel(\"Epoch #\")\n",
    "plt.ylabel(\"Loss/Accuracy\")\n",
    "plt.legend(loc=\"lower left\")\n",
    "plt.savefig(\"[iter-3] [XCEPTN] plot-rotate\")"
   ]
  },
  {
   "cell_type": "markdown",
   "id": "3e1e9f07",
   "metadata": {},
   "source": [
    "model.output_shape # model summary representation\n",
    "model.summary() # model configuration\n",
    "model.get_config() # list all weight tensors in the model"
   ]
  },
  {
   "cell_type": "code",
   "execution_count": null,
   "id": "8d7c1b75",
   "metadata": {},
   "outputs": [],
   "source": []
  },
  {
   "cell_type": "code",
   "execution_count": null,
   "id": "b834c81a",
   "metadata": {},
   "outputs": [],
   "source": []
  },
  {
   "cell_type": "code",
   "execution_count": null,
   "id": "9ab71213",
   "metadata": {},
   "outputs": [],
   "source": []
  },
  {
   "cell_type": "code",
   "execution_count": null,
   "id": "09990552",
   "metadata": {},
   "outputs": [],
   "source": []
  },
  {
   "cell_type": "code",
   "execution_count": null,
   "id": "ae1ece74",
   "metadata": {},
   "outputs": [],
   "source": []
  },
  {
   "cell_type": "markdown",
   "id": "3977cc16",
   "metadata": {},
   "source": [
    "print(\"[INFO] saving Allergic Rhinitis detector model...\")\n",
    "model.save(\"ARhinitisModel\", save_format=\"h5\")\n",
    "model_json = model.to_json()\n",
    "with open(\"model.json\", \"w\") as json_file:\n",
    "    json_file.write(model_json)"
   ]
  },
  {
   "cell_type": "code",
   "execution_count": null,
   "id": "94190b68",
   "metadata": {},
   "outputs": [],
   "source": []
  },
  {
   "cell_type": "code",
   "execution_count": null,
   "id": "f32cac89",
   "metadata": {},
   "outputs": [],
   "source": []
  },
  {
   "cell_type": "code",
   "execution_count": null,
   "id": "92645574",
   "metadata": {},
   "outputs": [],
   "source": []
  },
  {
   "cell_type": "code",
   "execution_count": null,
   "id": "4b3a1312",
   "metadata": {},
   "outputs": [],
   "source": []
  },
  {
   "cell_type": "code",
   "execution_count": null,
   "id": "59325887",
   "metadata": {},
   "outputs": [],
   "source": []
  },
  {
   "cell_type": "code",
   "execution_count": null,
   "id": "1ce1c375",
   "metadata": {},
   "outputs": [],
   "source": []
  },
  {
   "cell_type": "code",
   "execution_count": null,
   "id": "6e5f4709",
   "metadata": {},
   "outputs": [],
   "source": [
    " "
   ]
  }
 ],
 "metadata": {
  "kernelspec": {
   "display_name": "Python 3 (ipykernel)",
   "language": "python",
   "name": "python3"
  },
  "language_info": {
   "codemirror_mode": {
    "name": "ipython",
    "version": 3
   },
   "file_extension": ".py",
   "mimetype": "text/x-python",
   "name": "python",
   "nbconvert_exporter": "python",
   "pygments_lexer": "ipython3",
   "version": "3.9.12"
  }
 },
 "nbformat": 4,
 "nbformat_minor": 5
}
