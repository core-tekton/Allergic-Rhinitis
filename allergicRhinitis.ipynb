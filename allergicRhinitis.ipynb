{
 "cells": [
  {
   "cell_type": "code",
   "execution_count": 3,
   "id": "e37bca3e",
   "metadata": {},
   "outputs": [],
   "source": [
    "from imutils import paths\n",
    "import os\n",
    "import cv2\n",
    "import numpy as np\n",
    "import matplotlib.pyplot as plt\n",
    "import timeit\n",
    "\n",
    "from sklearn.preprocessing import LabelBinarizer\n",
    "from sklearn.model_selection import train_test_split\n",
    "from sklearn.metrics import classification_report\n",
    "from sklearn.metrics import confusion_matrix\n",
    "\n",
    "from tensorflow.keras.utils import to_categorical\n",
    "from tensorflow.keras.preprocessing.image import ImageDataGenerator\n",
    "from tensorflow.keras.applications import Xception\n",
    "from tensorflow.keras.layers import AveragePooling2D, Dropout, Flatten, Dense, Input\n",
    "from tensorflow.keras.models import Model, model_from_json\n",
    "from tensorflow.keras.optimizers import Adam\n",
    "\n",
    "from tensorflow.keras.applications import imagenet_utils\n",
    "from tensorflow.keras.applications.xception import decode_predictions"
   ]
  },
  {
   "cell_type": "code",
   "execution_count": 4,
   "id": "2fbda915",
   "metadata": {},
   "outputs": [
    {
     "name": "stdout",
     "output_type": "stream",
     "text": [
      "[INFO]: Trying to Read the images\n"
     ]
    }
   ],
   "source": [
    "print(\"[INFO]: Trying to Read the images\")\n",
    "#  Configure the Image Location\n",
    "# 이미지 위치 구성하기\n",
    "imagePaths = list(paths.list_images(r'C:\\Users\\cvpr\\Documents\\Bishal\\Allergic Rhinitis\\Dataset\\non_rotate'))"
   ]
  },
  {
   "cell_type": "code",
   "execution_count": 5,
   "id": "9bd0c101",
   "metadata": {},
   "outputs": [
    {
     "data": {
      "text/plain": [
       "['Dataset/non_rotate\\\\dataset0\\\\0\\\\n13_1_00002_right.tif',\n",
       " 'Dataset/non_rotate\\\\dataset0\\\\0\\\\n13_1_00003_left.tif',\n",
       " 'Dataset/non_rotate\\\\dataset0\\\\0\\\\n13_2_00001_right.tif',\n",
       " 'Dataset/non_rotate\\\\dataset0\\\\0\\\\n14_1_00001_right.tif',\n",
       " 'Dataset/non_rotate\\\\dataset0\\\\0\\\\n14_1_00007_left.tif',\n",
       " 'Dataset/non_rotate\\\\dataset0\\\\0\\\\n15_2_00005_left.tif',\n",
       " 'Dataset/non_rotate\\\\dataset0\\\\0\\\\n1_1_00001_right.tif',\n",
       " 'Dataset/non_rotate\\\\dataset0\\\\0\\\\n6_1_00004_right.tif',\n",
       " 'Dataset/non_rotate\\\\dataset0\\\\0\\\\n6_1_00006_left.tif',\n",
       " 'Dataset/non_rotate\\\\dataset0\\\\1\\\\14_1_00002_right.tif',\n",
       " 'Dataset/non_rotate\\\\dataset0\\\\1\\\\7_1_00001_right.tif',\n",
       " 'Dataset/non_rotate\\\\dataset0\\\\1\\\\7_1_00005_left.tif',\n",
       " 'Dataset/non_rotate\\\\dataset0\\\\2\\\\2_1_00002_right.tif',\n",
       " 'Dataset/non_rotate\\\\dataset0\\\\2\\\\2_1_00005_left.tif',\n",
       " 'Dataset/non_rotate\\\\dataset0\\\\2\\\\3_1_00003_left.tif',\n",
       " 'Dataset/non_rotate\\\\dataset0\\\\2\\\\4_1_00002_right.tif',\n",
       " 'Dataset/non_rotate\\\\dataset0\\\\2\\\\6_1_00001_right.tif',\n",
       " 'Dataset/non_rotate\\\\dataset0\\\\2\\\\6_1_00006_left.tif',\n",
       " 'Dataset/non_rotate\\\\dataset1\\\\0\\\\n17_4_00006_left.tif',\n",
       " 'Dataset/non_rotate\\\\dataset1\\\\0\\\\n17_5_00003_left.tif',\n",
       " 'Dataset/non_rotate\\\\dataset1\\\\0\\\\n17_7_00013_left.tif',\n",
       " 'Dataset/non_rotate\\\\dataset1\\\\0\\\\n18_2_00002_right.tif',\n",
       " 'Dataset/non_rotate\\\\dataset1\\\\0\\\\n18_2_00003_left.tif',\n",
       " 'Dataset/non_rotate\\\\dataset1\\\\0\\\\n19_2_00003_right.tif',\n",
       " 'Dataset/non_rotate\\\\dataset1\\\\0\\\\n19_3_00001_right.tif',\n",
       " 'Dataset/non_rotate\\\\dataset1\\\\0\\\\n19_4_00001_right.tif',\n",
       " 'Dataset/non_rotate\\\\dataset1\\\\0\\\\n19_4_00003_left.tif',\n",
       " 'Dataset/non_rotate\\\\dataset1\\\\1\\\\13_1_00002_right.tif',\n",
       " 'Dataset/non_rotate\\\\dataset1\\\\1\\\\13_1_00005_left.tif',\n",
       " 'Dataset/non_rotate\\\\dataset1\\\\1\\\\13_2_00002_right.tif',\n",
       " 'Dataset/non_rotate\\\\dataset1\\\\1\\\\13_2_00004_left.tif',\n",
       " 'Dataset/non_rotate\\\\dataset1\\\\2\\\\16_1_00003_left.tif',\n",
       " 'Dataset/non_rotate\\\\dataset1\\\\2\\\\18_1_00005_left.tif',\n",
       " 'Dataset/non_rotate\\\\dataset1\\\\2\\\\18_2_00003_right.tif',\n",
       " 'Dataset/non_rotate\\\\dataset1\\\\2\\\\18_2_00005_left.tif',\n",
       " 'Dataset/non_rotate\\\\dataset1\\\\2\\\\18_3_00002_right.tif',\n",
       " 'Dataset/non_rotate\\\\dataset1\\\\2\\\\18_3_000050003_left.tif',\n",
       " 'Dataset/non_rotate\\\\dataset2\\\\0\\\\n16_1_00004_left.tif',\n",
       " 'Dataset/non_rotate\\\\dataset2\\\\0\\\\n20_2_00001_right.tif',\n",
       " 'Dataset/non_rotate\\\\dataset2\\\\0\\\\n21_1_00002_right.tif',\n",
       " 'Dataset/non_rotate\\\\dataset2\\\\0\\\\n22_1_00003_left.tif',\n",
       " 'Dataset/non_rotate\\\\dataset2\\\\0\\\\n22_2_00001_right.tif',\n",
       " 'Dataset/non_rotate\\\\dataset2\\\\0\\\\n22_2_00005_left.tif',\n",
       " 'Dataset/non_rotate\\\\dataset2\\\\0\\\\n23_2_00002_right.tif',\n",
       " 'Dataset/non_rotate\\\\dataset2\\\\0\\\\n23_2_00009_left.tif',\n",
       " 'Dataset/non_rotate\\\\dataset2\\\\0\\\\n28_4_00001_right.tif',\n",
       " 'Dataset/non_rotate\\\\dataset2\\\\1\\\\19_1_00002_right.tif',\n",
       " 'Dataset/non_rotate\\\\dataset2\\\\1\\\\19_1_00003_left.tif',\n",
       " 'Dataset/non_rotate\\\\dataset2\\\\1\\\\19_2_00004_left.tif',\n",
       " 'Dataset/non_rotate\\\\dataset2\\\\2\\\\11_1_00002_right.tif',\n",
       " 'Dataset/non_rotate\\\\dataset2\\\\2\\\\15_1_00006_left.tif',\n",
       " 'Dataset/non_rotate\\\\dataset2\\\\2\\\\15_2_00004_left.tif',\n",
       " 'Dataset/non_rotate\\\\dataset2\\\\2\\\\26_1_00001_right.tif',\n",
       " 'Dataset/non_rotate\\\\dataset2\\\\2\\\\26_1_00002_right.tif',\n",
       " 'Dataset/non_rotate\\\\dataset2\\\\2\\\\26_1_00003_left.tif',\n",
       " 'Dataset/non_rotate\\\\dataset3\\\\0\\\\n29_1_00004_left.tif',\n",
       " 'Dataset/non_rotate\\\\dataset3\\\\0\\\\n29_3_00002_right.tif',\n",
       " 'Dataset/non_rotate\\\\dataset3\\\\0\\\\n29_3_00005_left.tif',\n",
       " 'Dataset/non_rotate\\\\dataset3\\\\0\\\\n32_1_00001_right.tif',\n",
       " 'Dataset/non_rotate\\\\dataset3\\\\0\\\\n32_2_00001_right.tif',\n",
       " 'Dataset/non_rotate\\\\dataset3\\\\0\\\\n32_3_00003_right.tif',\n",
       " 'Dataset/non_rotate\\\\dataset3\\\\0\\\\n32_3_00004_left.tif',\n",
       " 'Dataset/non_rotate\\\\dataset3\\\\0\\\\n32_4_00001_right.tif',\n",
       " 'Dataset/non_rotate\\\\dataset3\\\\0\\\\n32_4_00004_left.tif',\n",
       " 'Dataset/non_rotate\\\\dataset3\\\\1\\\\28_1_00003_left.tif',\n",
       " 'Dataset/non_rotate\\\\dataset3\\\\1\\\\33_1_00002_right.tif',\n",
       " 'Dataset/non_rotate\\\\dataset3\\\\1\\\\33_1_00005_left.tif',\n",
       " 'Dataset/non_rotate\\\\dataset3\\\\2\\\\20_1_00006_left.tif',\n",
       " 'Dataset/non_rotate\\\\dataset3\\\\2\\\\20_1_00009_left.tif',\n",
       " 'Dataset/non_rotate\\\\dataset3\\\\2\\\\20_2_00002_right.tif',\n",
       " 'Dataset/non_rotate\\\\dataset3\\\\2\\\\20_2_00008_left.tif',\n",
       " 'Dataset/non_rotate\\\\dataset3\\\\2\\\\20_3_00001_right.tif',\n",
       " 'Dataset/non_rotate\\\\dataset3\\\\2\\\\21_1_00002_right.tif',\n",
       " 'Dataset/non_rotate\\\\dataset4\\\\0\\\\n34_2_00001_right.tif',\n",
       " 'Dataset/non_rotate\\\\dataset4\\\\0\\\\n35_1_00009_left.tif',\n",
       " 'Dataset/non_rotate\\\\dataset4\\\\0\\\\n35_1_00010_left.tif',\n",
       " 'Dataset/non_rotate\\\\dataset4\\\\0\\\\n35_1_00011_right.tif',\n",
       " 'Dataset/non_rotate\\\\dataset4\\\\0\\\\n35_1_00012_right.tif',\n",
       " 'Dataset/non_rotate\\\\dataset4\\\\0\\\\n35_2_00001_right.tif',\n",
       " 'Dataset/non_rotate\\\\dataset4\\\\0\\\\n35_2_00002_right.tif',\n",
       " 'Dataset/non_rotate\\\\dataset4\\\\0\\\\n35_2_00007_left.tif',\n",
       " 'Dataset/non_rotate\\\\dataset4\\\\1\\\\30_1_00011_right.tif',\n",
       " 'Dataset/non_rotate\\\\dataset4\\\\1\\\\30_1_00013_left.tif',\n",
       " 'Dataset/non_rotate\\\\dataset4\\\\1\\\\34_1_00002_right.tif',\n",
       " 'Dataset/non_rotate\\\\dataset4\\\\2\\\\22_1_00005_left.tif',\n",
       " 'Dataset/non_rotate\\\\dataset4\\\\2\\\\27_1_00005_left.tif',\n",
       " 'Dataset/non_rotate\\\\dataset4\\\\2\\\\35_1_00002_right.tif',\n",
       " 'Dataset/non_rotate\\\\dataset4\\\\2\\\\35_2_00003_left.tif',\n",
       " 'Dataset/non_rotate\\\\dataset4\\\\2\\\\35_3_00001_right.tif',\n",
       " 'Dataset/non_rotate\\\\dataset4\\\\2\\\\35_3_00004_left.tif']"
      ]
     },
     "execution_count": 5,
     "metadata": {},
     "output_type": "execute_result"
    }
   ],
   "source": [
    "imagePaths = list(paths.list_images(\"Dataset/non_rotate\"))\n",
    "len(imagePaths)\n",
    "imagePaths"
   ]
  },
  {
   "cell_type": "code",
   "execution_count": 6,
   "id": "0bbfc861",
   "metadata": {
    "scrolled": true
   },
   "outputs": [],
   "source": [
    "# Initialize data and labels\n",
    "# 데이터 및 레이블 초기화\n",
    "data = []\n",
    "labels = []"
   ]
  },
  {
   "cell_type": "code",
   "execution_count": 7,
   "id": "a8207bc5",
   "metadata": {},
   "outputs": [],
   "source": [
    "# Formatting data and labels\n",
    "for imagePath in imagePaths:\n",
    "    # Extract the class label from file name and append to labels\n",
    "    # 파일 이름에서 클래스 레이블을 추출하고 레이블에 추가함\n",
    "    label = imagePath.split(os.path.sep)[-2]\n",
    "    labels.append(label)\n",
    "    # Load the image, swap color channels, and resize it to be a fixed 224x224 pixels while ignoring the aspect ratio\n",
    "    # 이미지를 로드하고, 컬러 채널을 스왑하고, 가로 세로 비율을 무시하고 고정 224x224 픽셀로 크기를 조정함\n",
    "    image = cv2.imread(imagePath)\n",
    "    image = cv2.cvtColor(image, cv2.COLOR_BGR2RGB)\n",
    "    image = cv2.resize(image, (224,224))\n",
    "    # Append to data\n",
    "    # 데이터에 추가\n",
    "    data.append(image)\n",
    "\n",
    "# Convert the data and labels to NumPy arrays while scaling the pixel intensities to the range [0,1]\n",
    "# 픽셀 강도를 [0,1] 범위로 조정하면서 데이터와 레이블을 NumPy 배열로 변환\n",
    "data = np.array(data) / 255.0\n",
    "labels = np.array(labels)"
   ]
  },
  {
   "cell_type": "code",
   "execution_count": 8,
   "id": "9799a052",
   "metadata": {},
   "outputs": [
    {
     "data": {
      "text/plain": [
       "(90,)"
      ]
     },
     "execution_count": 8,
     "metadata": {},
     "output_type": "execute_result"
    }
   ],
   "source": [
    "labels.shape"
   ]
  },
  {
   "cell_type": "code",
   "execution_count": 9,
   "id": "b1334c77",
   "metadata": {},
   "outputs": [
    {
     "data": {
      "text/plain": [
       "array(['0', '0', '0', '0', '0', '0', '0', '0', '0', '1', '1', '1', '2',\n",
       "       '2', '2', '2', '2', '2', '0', '0', '0', '0', '0', '0', '0', '0',\n",
       "       '0', '1', '1', '1', '1', '2', '2', '2', '2', '2', '2', '0', '0',\n",
       "       '0', '0', '0', '0', '0', '0', '0', '1', '1', '1', '2', '2', '2',\n",
       "       '2', '2', '2', '0', '0', '0', '0', '0', '0', '0', '0', '0', '1',\n",
       "       '1', '1', '2', '2', '2', '2', '2', '2', '0', '0', '0', '0', '0',\n",
       "       '0', '0', '0', '1', '1', '1', '2', '2', '2', '2', '2', '2'],\n",
       "      dtype='<U1')"
      ]
     },
     "execution_count": 9,
     "metadata": {},
     "output_type": "execute_result"
    }
   ],
   "source": [
    "labels"
   ]
  },
  {
   "cell_type": "code",
   "execution_count": 10,
   "id": "9db5e0a6",
   "metadata": {},
   "outputs": [
    {
     "data": {
      "text/plain": [
       "(90, 224, 224, 3)"
      ]
     },
     "execution_count": 10,
     "metadata": {},
     "output_type": "execute_result"
    }
   ],
   "source": [
    "data.shape"
   ]
  },
  {
   "cell_type": "code",
   "execution_count": 11,
   "id": "d43e520d",
   "metadata": {
    "scrolled": true
   },
   "outputs": [
    {
     "data": {
      "text/plain": [
       "<matplotlib.image.AxesImage at 0x208d43ec670>"
      ]
     },
     "execution_count": 11,
     "metadata": {},
     "output_type": "execute_result"
    },
    {
     "data": {
      "image/png": "[encoded data removed]",
      "text/plain": [
       "<Figure size 432x288 with 1 Axes>"
      ]
     },
     "metadata": {
      "needs_background": "light"
     },
     "output_type": "display_data"
    }
   ],
   "source": [
    "plt.imshow(data[1])"
   ]
  },
  {
   "cell_type": "code",
   "execution_count": null,
   "id": "c4120256",
   "metadata": {},
   "outputs": [],
   "source": []
  },
  {
   "cell_type": "code",
   "execution_count": null,
   "id": "7b4f8028",
   "metadata": {},
   "outputs": [],
   "source": []
  },
  {
   "cell_type": "code",
   "execution_count": 12,
   "id": "7211c77b",
   "metadata": {},
   "outputs": [
    {
     "name": "stdout",
     "output_type": "stream",
     "text": [
      "[[1 0 0]\n",
      " [1 0 0]\n",
      " [1 0 0]\n",
      " [1 0 0]\n",
      " [1 0 0]\n",
      " [1 0 0]\n",
      " [1 0 0]\n",
      " [1 0 0]\n",
      " [1 0 0]\n",
      " [0 1 0]\n",
      " [0 1 0]\n",
      " [0 1 0]\n",
      " [0 0 1]\n",
      " [0 0 1]\n",
      " [0 0 1]\n",
      " [0 0 1]\n",
      " [0 0 1]\n",
      " [0 0 1]\n",
      " [1 0 0]\n",
      " [1 0 0]\n",
      " [1 0 0]\n",
      " [1 0 0]\n",
      " [1 0 0]\n",
      " [1 0 0]\n",
      " [1 0 0]\n",
      " [1 0 0]\n",
      " [1 0 0]\n",
      " [0 1 0]\n",
      " [0 1 0]\n",
      " [0 1 0]\n",
      " [0 1 0]\n",
      " [0 0 1]\n",
      " [0 0 1]\n",
      " [0 0 1]\n",
      " [0 0 1]\n",
      " [0 0 1]\n",
      " [0 0 1]\n",
      " [1 0 0]\n",
      " [1 0 0]\n",
      " [1 0 0]\n",
      " [1 0 0]\n",
      " [1 0 0]\n",
      " [1 0 0]\n",
      " [1 0 0]\n",
      " [1 0 0]\n",
      " [1 0 0]\n",
      " [0 1 0]\n",
      " [0 1 0]\n",
      " [0 1 0]\n",
      " [0 0 1]\n",
      " [0 0 1]\n",
      " [0 0 1]\n",
      " [0 0 1]\n",
      " [0 0 1]\n",
      " [0 0 1]\n",
      " [1 0 0]\n",
      " [1 0 0]\n",
      " [1 0 0]\n",
      " [1 0 0]\n",
      " [1 0 0]\n",
      " [1 0 0]\n",
      " [1 0 0]\n",
      " [1 0 0]\n",
      " [1 0 0]\n",
      " [0 1 0]\n",
      " [0 1 0]\n",
      " [0 1 0]\n",
      " [0 0 1]\n",
      " [0 0 1]\n",
      " [0 0 1]\n",
      " [0 0 1]\n",
      " [0 0 1]\n",
      " [0 0 1]\n",
      " [1 0 0]\n",
      " [1 0 0]\n",
      " [1 0 0]\n",
      " [1 0 0]\n",
      " [1 0 0]\n",
      " [1 0 0]\n",
      " [1 0 0]\n",
      " [1 0 0]\n",
      " [0 1 0]\n",
      " [0 1 0]\n",
      " [0 1 0]\n",
      " [0 0 1]\n",
      " [0 0 1]\n",
      " [0 0 1]\n",
      " [0 0 1]\n",
      " [0 0 1]\n",
      " [0 0 1]]\n"
     ]
    }
   ],
   "source": [
    "# Perform the one-hot encoding on the labels\n",
    "# 레이블에 대해 원핫 인코딩 수행\n",
    "lb = LabelBinarizer()\n",
    "labels = lb.fit_transform(labels)\n",
    "print(labels)"
   ]
  },
  {
   "cell_type": "code",
   "execution_count": 13,
   "id": "ff5db2c8",
   "metadata": {},
   "outputs": [],
   "source": [
    "# Initialize the training data augmentation\n",
    "# 교육 데이터 억멘테이션 초기화\n",
    "trainAug = ImageDataGenerator(rotation_range=40, zoom_range=0.15, width_shift_range=0.2, height_shift_range=0.2,\n",
    "\t\tshear_range=0.15,fill_mode=\"nearest\", horizontal_flip=True)"
   ]
  },
  {
   "cell_type": "code",
   "execution_count": 14,
   "id": "29189ce7",
   "metadata": {},
   "outputs": [
    {
     "data": {
      "text/plain": [
       "(90, 3)"
      ]
     },
     "execution_count": 14,
     "metadata": {},
     "output_type": "execute_result"
    }
   ],
   "source": [
    "labels.shape"
   ]
  },
  {
   "cell_type": "code",
   "execution_count": 15,
   "id": "d9a6a874",
   "metadata": {},
   "outputs": [],
   "source": [
    "# Partition the data into training and testing splits using 80% of the training data and the remaining 20% for testing\n",
    "# 교육 데이터의 80%, 테스트에 20%를 사용하여 데이터를 교육 및 테스트 분할로 분할\n",
    "(trainX, testX, trainY, testY) = train_test_split(data, labels, test_size=0.20, stratify=labels, random_state=42)"
   ]
  },
  {
   "cell_type": "code",
   "execution_count": 16,
   "id": "63f69234",
   "metadata": {},
   "outputs": [],
   "source": [
    "# Load the network, ensuring the Head-FC layer sets are left off\n",
    "# Head-FC 레이어 세트가 포함되지 않도록 네트워크를 로드한다\n",
    "baseModel = Xception(weights=\"imagenet\", include_top=False, input_tensor=Input(shape=(224,224,3)))"
   ]
  },
  {
   "cell_type": "code",
   "execution_count": 17,
   "id": "5afca810",
   "metadata": {},
   "outputs": [],
   "source": [
    "# Construct the head model that will be placed on the top of the base model\n",
    "# 보디 모델의 맨 위에 배치할 헤드 모델 구성\n",
    "headModel = baseModel.output\n",
    "headModel = AveragePooling2D(pool_size=(4,4))(headModel)\n",
    "headModel = Flatten(name=\"flatten\")(headModel)\n",
    "headModel = Dense(64, activation=\"relu\")(headModel)\n",
    "headModel = Dropout(0.8)(headModel)\n",
    "headModel = Dense(3, activation=\"softmax\")(headModel)"
   ]
  },
  {
   "cell_type": "code",
   "execution_count": 18,
   "id": "46169eab",
   "metadata": {},
   "outputs": [],
   "source": [
    "# Place the Head-FC model on top of the Base model - This become the actual model that we will train\n",
    "# Head-FC 모델을 보디 모델 위에 배치한다. 이것이 우리가 교육할 실제 모델이 될 것이다.\n",
    "model = Model(inputs=baseModel.input, outputs=headModel)"
   ]
  },
  {
   "cell_type": "code",
   "execution_count": 19,
   "id": "c5790d68",
   "metadata": {},
   "outputs": [],
   "source": [
    "# Make sure that the basemodel layers will not be trained and only head model will be trained.\n",
    "# 보디 모델 레이어가 훈련되지 않고 헤드 모델만 훈련되는지 확인한다.\n",
    "for layer in baseModel.layers:\n",
    "    layer.trainable = False"
   ]
  },
  {
   "cell_type": "code",
   "execution_count": 20,
   "id": "6e4f5a99",
   "metadata": {
    "scrolled": true
   },
   "outputs": [
    {
     "data": {
      "text/plain": [
       "(72, 224, 224, 3)"
      ]
     },
     "execution_count": 20,
     "metadata": {},
     "output_type": "execute_result"
    }
   ],
   "source": [
    "trainX.shape"
   ]
  },
  {
   "cell_type": "code",
   "execution_count": 21,
   "id": "b1ff0dac",
   "metadata": {},
   "outputs": [
    {
     "data": {
      "text/plain": [
       "(18, 224, 224, 3)"
      ]
     },
     "execution_count": 21,
     "metadata": {},
     "output_type": "execute_result"
    }
   ],
   "source": [
    "testX.shape"
   ]
  },
  {
   "cell_type": "code",
   "execution_count": 22,
   "id": "df5bfbe7",
   "metadata": {},
   "outputs": [],
   "source": [
    "# Set the hyper-parameters\n",
    "# 하이퍼 파라미터 설정\n",
    "# INIT_LR = 1e-3\n",
    "INIT_LR = 0.0005\n",
    "EPOCHS = 200\n",
    "BS = 8"
   ]
  },
  {
   "cell_type": "code",
   "execution_count": 23,
   "id": "7582c7c7",
   "metadata": {},
   "outputs": [],
   "source": [
    "# Compile the Model\n",
    "# 모델 컴파일\n",
    "opt = Adam(learning_rate=INIT_LR, decay=INIT_LR / EPOCHS)\n",
    "model.compile(loss=\"binary_crossentropy\", optimizer=opt, metrics=[\"accuracy\"])"
   ]
  },
  {
   "cell_type": "code",
   "execution_count": 24,
   "id": "1a5c47b4",
   "metadata": {},
   "outputs": [
    {
     "name": "stdout",
     "output_type": "stream",
     "text": [
      "[INFO] Model Training\n",
      "Epoch 1/200\n",
      "9/9 [==============================] - 9s 385ms/step - loss: 0.7391 - accuracy: 0.3889 - val_loss: 0.5894 - val_accuracy: 0.5000\n",
      "Epoch 2/200\n",
      "9/9 [==============================] - 1s 93ms/step - loss: 0.7492 - accuracy: 0.4444 - val_loss: 0.5319 - val_accuracy: 0.6111\n",
      "Epoch 3/200\n",
      "9/9 [==============================] - 1s 93ms/step - loss: 0.7011 - accuracy: 0.3750 - val_loss: 0.5388 - val_accuracy: 0.6667\n",
      "Epoch 4/200\n",
      "9/9 [==============================] - 1s 96ms/step - loss: 0.6644 - accuracy: 0.4444 - val_loss: 0.5555 - val_accuracy: 0.7778\n",
      "Epoch 5/200\n",
      "9/9 [==============================] - 1s 99ms/step - loss: 0.6936 - accuracy: 0.3611 - val_loss: 0.5766 - val_accuracy: 0.6111\n",
      "Epoch 6/200\n",
      "9/9 [==============================] - 1s 92ms/step - loss: 0.6292 - accuracy: 0.4444 - val_loss: 0.5801 - val_accuracy: 0.6111\n",
      "Epoch 7/200\n",
      "9/9 [==============================] - 1s 92ms/step - loss: 0.6401 - accuracy: 0.4167 - val_loss: 0.5667 - val_accuracy: 0.5000\n",
      "Epoch 8/200\n",
      "9/9 [==============================] - 1s 94ms/step - loss: 0.6078 - accuracy: 0.4306 - val_loss: 0.5723 - val_accuracy: 0.5000\n",
      "Epoch 9/200\n",
      "9/9 [==============================] - 1s 91ms/step - loss: 0.6529 - accuracy: 0.4722 - val_loss: 0.5820 - val_accuracy: 0.5556\n",
      "Epoch 10/200\n",
      "9/9 [==============================] - 1s 91ms/step - loss: 0.6303 - accuracy: 0.5139 - val_loss: 0.5798 - val_accuracy: 0.7222\n",
      "Epoch 11/200\n",
      "9/9 [==============================] - 1s 92ms/step - loss: 0.6099 - accuracy: 0.5139 - val_loss: 0.5455 - val_accuracy: 0.7778\n",
      "Epoch 12/200\n",
      "9/9 [==============================] - 1s 94ms/step - loss: 0.6078 - accuracy: 0.5000 - val_loss: 0.5209 - val_accuracy: 0.7778\n",
      "Epoch 13/200\n",
      "9/9 [==============================] - 1s 93ms/step - loss: 0.6263 - accuracy: 0.4583 - val_loss: 0.5078 - val_accuracy: 0.7222\n",
      "Epoch 14/200\n",
      "9/9 [==============================] - 1s 93ms/step - loss: 0.5569 - accuracy: 0.5833 - val_loss: 0.5117 - val_accuracy: 0.7222\n",
      "Epoch 15/200\n",
      "9/9 [==============================] - 1s 91ms/step - loss: 0.5670 - accuracy: 0.4861 - val_loss: 0.5026 - val_accuracy: 0.7222\n",
      "Epoch 16/200\n",
      "9/9 [==============================] - 1s 90ms/step - loss: 0.6152 - accuracy: 0.5417 - val_loss: 0.5181 - val_accuracy: 0.7222\n",
      "Epoch 17/200\n",
      "9/9 [==============================] - 1s 94ms/step - loss: 0.6062 - accuracy: 0.5139 - val_loss: 0.5282 - val_accuracy: 0.7222\n",
      "Epoch 18/200\n",
      "9/9 [==============================] - 1s 92ms/step - loss: 0.5717 - accuracy: 0.5694 - val_loss: 0.5154 - val_accuracy: 0.6667\n",
      "Epoch 19/200\n",
      "9/9 [==============================] - 1s 93ms/step - loss: 0.6326 - accuracy: 0.6250 - val_loss: 0.5051 - val_accuracy: 0.7222\n",
      "Epoch 20/200\n",
      "9/9 [==============================] - 1s 91ms/step - loss: 0.5907 - accuracy: 0.5556 - val_loss: 0.4982 - val_accuracy: 0.7778\n",
      "Epoch 21/200\n",
      "9/9 [==============================] - 1s 94ms/step - loss: 0.5911 - accuracy: 0.5556 - val_loss: 0.4916 - val_accuracy: 0.7778\n",
      "Epoch 22/200\n",
      "9/9 [==============================] - 1s 99ms/step - loss: 0.6239 - accuracy: 0.4444 - val_loss: 0.4979 - val_accuracy: 0.7778\n",
      "Epoch 23/200\n",
      "9/9 [==============================] - 1s 100ms/step - loss: 0.5564 - accuracy: 0.5972 - val_loss: 0.4935 - val_accuracy: 0.7222\n",
      "Epoch 24/200\n",
      "9/9 [==============================] - 1s 94ms/step - loss: 0.5986 - accuracy: 0.5417 - val_loss: 0.4985 - val_accuracy: 0.7778\n",
      "Epoch 25/200\n",
      "9/9 [==============================] - 1s 92ms/step - loss: 0.5879 - accuracy: 0.5972 - val_loss: 0.5068 - val_accuracy: 0.7778\n",
      "Epoch 26/200\n",
      "9/9 [==============================] - 1s 96ms/step - loss: 0.5742 - accuracy: 0.5417 - val_loss: 0.4964 - val_accuracy: 0.7778\n",
      "Epoch 27/200\n",
      "9/9 [==============================] - 1s 93ms/step - loss: 0.5889 - accuracy: 0.5139 - val_loss: 0.4919 - val_accuracy: 0.7778\n",
      "Epoch 28/200\n",
      "9/9 [==============================] - 1s 90ms/step - loss: 0.5243 - accuracy: 0.6111 - val_loss: 0.4832 - val_accuracy: 0.7778\n",
      "Epoch 29/200\n",
      "9/9 [==============================] - 1s 91ms/step - loss: 0.5100 - accuracy: 0.6111 - val_loss: 0.4591 - val_accuracy: 0.7778\n",
      "Epoch 30/200\n",
      "9/9 [==============================] - 1s 93ms/step - loss: 0.5283 - accuracy: 0.6806 - val_loss: 0.4505 - val_accuracy: 0.7778\n",
      "Epoch 31/200\n",
      "9/9 [==============================] - 1s 93ms/step - loss: 0.5642 - accuracy: 0.6111 - val_loss: 0.4517 - val_accuracy: 0.7778\n",
      "Epoch 32/200\n",
      "9/9 [==============================] - 1s 92ms/step - loss: 0.5506 - accuracy: 0.5972 - val_loss: 0.4665 - val_accuracy: 0.7778\n",
      "Epoch 33/200\n",
      "9/9 [==============================] - 1s 95ms/step - loss: 0.6314 - accuracy: 0.4861 - val_loss: 0.4737 - val_accuracy: 0.7778\n",
      "Epoch 34/200\n",
      "9/9 [==============================] - 1s 92ms/step - loss: 0.5660 - accuracy: 0.5556 - val_loss: 0.4775 - val_accuracy: 0.7778\n",
      "Epoch 35/200\n",
      "9/9 [==============================] - 1s 92ms/step - loss: 0.5192 - accuracy: 0.6389 - val_loss: 0.4732 - val_accuracy: 0.7778\n",
      "Epoch 36/200\n",
      "9/9 [==============================] - 1s 90ms/step - loss: 0.5497 - accuracy: 0.5139 - val_loss: 0.4635 - val_accuracy: 0.7778\n",
      "Epoch 37/200\n",
      "9/9 [==============================] - 1s 92ms/step - loss: 0.5639 - accuracy: 0.5000 - val_loss: 0.4623 - val_accuracy: 0.7778\n",
      "Epoch 38/200\n",
      "9/9 [==============================] - 1s 92ms/step - loss: 0.5945 - accuracy: 0.5278 - val_loss: 0.4571 - val_accuracy: 0.7778\n",
      "Epoch 39/200\n",
      "9/9 [==============================] - 1s 93ms/step - loss: 0.5212 - accuracy: 0.5972 - val_loss: 0.4564 - val_accuracy: 0.7778\n",
      "Epoch 40/200\n",
      "9/9 [==============================] - 1s 99ms/step - loss: 0.5621 - accuracy: 0.5833 - val_loss: 0.4651 - val_accuracy: 0.7778\n",
      "Epoch 41/200\n",
      "9/9 [==============================] - 1s 97ms/step - loss: 0.5806 - accuracy: 0.5833 - val_loss: 0.4850 - val_accuracy: 0.7222\n",
      "Epoch 42/200\n",
      "9/9 [==============================] - 1s 92ms/step - loss: 0.5485 - accuracy: 0.5278 - val_loss: 0.4868 - val_accuracy: 0.6111\n",
      "Epoch 43/200\n",
      "9/9 [==============================] - 1s 91ms/step - loss: 0.5228 - accuracy: 0.5833 - val_loss: 0.4649 - val_accuracy: 0.7778\n",
      "Epoch 44/200\n",
      "9/9 [==============================] - 1s 94ms/step - loss: 0.5486 - accuracy: 0.5278 - val_loss: 0.4656 - val_accuracy: 0.7778\n",
      "Epoch 45/200\n",
      "9/9 [==============================] - 1s 92ms/step - loss: 0.5298 - accuracy: 0.6250 - val_loss: 0.4613 - val_accuracy: 0.7778\n",
      "Epoch 46/200\n",
      "9/9 [==============================] - 1s 90ms/step - loss: 0.5435 - accuracy: 0.5417 - val_loss: 0.4634 - val_accuracy: 0.7778\n",
      "Epoch 47/200\n",
      "9/9 [==============================] - 1s 93ms/step - loss: 0.5763 - accuracy: 0.6111 - val_loss: 0.4779 - val_accuracy: 0.7778\n",
      "Epoch 48/200\n",
      "9/9 [==============================] - 1s 92ms/step - loss: 0.6137 - accuracy: 0.5833 - val_loss: 0.4831 - val_accuracy: 0.7778\n",
      "Epoch 49/200\n",
      "9/9 [==============================] - 1s 93ms/step - loss: 0.5664 - accuracy: 0.6111 - val_loss: 0.4885 - val_accuracy: 0.7778\n",
      "Epoch 50/200\n",
      "9/9 [==============================] - 1s 93ms/step - loss: 0.5362 - accuracy: 0.5556 - val_loss: 0.4745 - val_accuracy: 0.7222\n",
      "Epoch 51/200\n",
      "9/9 [==============================] - 1s 96ms/step - loss: 0.5786 - accuracy: 0.5972 - val_loss: 0.4721 - val_accuracy: 0.7778\n",
      "Epoch 52/200\n",
      "9/9 [==============================] - 1s 94ms/step - loss: 0.5130 - accuracy: 0.5972 - val_loss: 0.4707 - val_accuracy: 0.7778\n",
      "Epoch 53/200\n",
      "9/9 [==============================] - 1s 96ms/step - loss: 0.5123 - accuracy: 0.6528 - val_loss: 0.4635 - val_accuracy: 0.7778\n",
      "Epoch 54/200\n",
      "9/9 [==============================] - 1s 93ms/step - loss: 0.5415 - accuracy: 0.5694 - val_loss: 0.4573 - val_accuracy: 0.7778\n",
      "Epoch 55/200\n",
      "9/9 [==============================] - 1s 93ms/step - loss: 0.5012 - accuracy: 0.6111 - val_loss: 0.4579 - val_accuracy: 0.7222\n",
      "Epoch 56/200\n",
      "9/9 [==============================] - 1s 93ms/step - loss: 0.5080 - accuracy: 0.6111 - val_loss: 0.4533 - val_accuracy: 0.7778\n",
      "Epoch 57/200\n",
      "9/9 [==============================] - 1s 96ms/step - loss: 0.5528 - accuracy: 0.5417 - val_loss: 0.4578 - val_accuracy: 0.7778\n",
      "Epoch 58/200\n",
      "9/9 [==============================] - 1s 99ms/step - loss: 0.5936 - accuracy: 0.5417 - val_loss: 0.4842 - val_accuracy: 0.7778\n"
     ]
    },
    {
     "name": "stdout",
     "output_type": "stream",
     "text": [
      "Epoch 59/200\n",
      "9/9 [==============================] - 1s 95ms/step - loss: 0.5762 - accuracy: 0.5694 - val_loss: 0.4897 - val_accuracy: 0.7222\n",
      "Epoch 60/200\n",
      "9/9 [==============================] - 1s 91ms/step - loss: 0.5511 - accuracy: 0.5278 - val_loss: 0.4825 - val_accuracy: 0.7222\n",
      "Epoch 61/200\n",
      "9/9 [==============================] - 1s 99ms/step - loss: 0.4919 - accuracy: 0.7083 - val_loss: 0.4628 - val_accuracy: 0.7222\n",
      "Epoch 62/200\n",
      "9/9 [==============================] - 1s 92ms/step - loss: 0.5054 - accuracy: 0.6250 - val_loss: 0.4573 - val_accuracy: 0.7778\n",
      "Epoch 63/200\n",
      "9/9 [==============================] - 1s 92ms/step - loss: 0.5043 - accuracy: 0.5556 - val_loss: 0.4564 - val_accuracy: 0.7778\n",
      "Epoch 64/200\n",
      "9/9 [==============================] - 1s 99ms/step - loss: 0.5464 - accuracy: 0.5972 - val_loss: 0.4575 - val_accuracy: 0.7778\n",
      "Epoch 65/200\n",
      "9/9 [==============================] - 1s 92ms/step - loss: 0.5512 - accuracy: 0.6250 - val_loss: 0.4417 - val_accuracy: 0.7778\n",
      "Epoch 66/200\n",
      "9/9 [==============================] - 1s 94ms/step - loss: 0.4972 - accuracy: 0.6667 - val_loss: 0.4469 - val_accuracy: 0.7778\n",
      "Epoch 67/200\n",
      "9/9 [==============================] - 1s 94ms/step - loss: 0.5220 - accuracy: 0.6389 - val_loss: 0.4606 - val_accuracy: 0.7778\n",
      "Epoch 68/200\n",
      "9/9 [==============================] - 1s 96ms/step - loss: 0.5353 - accuracy: 0.5694 - val_loss: 0.4678 - val_accuracy: 0.7222\n",
      "Epoch 69/200\n",
      "9/9 [==============================] - 1s 93ms/step - loss: 0.5043 - accuracy: 0.6667 - val_loss: 0.4733 - val_accuracy: 0.6667\n",
      "Epoch 70/200\n",
      "9/9 [==============================] - 1s 97ms/step - loss: 0.5200 - accuracy: 0.5694 - val_loss: 0.4544 - val_accuracy: 0.7778\n",
      "Epoch 71/200\n",
      "9/9 [==============================] - 1s 93ms/step - loss: 0.5368 - accuracy: 0.5833 - val_loss: 0.4371 - val_accuracy: 0.7778\n",
      "Epoch 72/200\n",
      "9/9 [==============================] - 1s 92ms/step - loss: 0.5031 - accuracy: 0.6250 - val_loss: 0.4269 - val_accuracy: 0.7778\n",
      "Epoch 73/200\n",
      "9/9 [==============================] - 1s 91ms/step - loss: 0.5618 - accuracy: 0.5972 - val_loss: 0.4345 - val_accuracy: 0.7778\n",
      "Epoch 74/200\n",
      "9/9 [==============================] - 1s 92ms/step - loss: 0.5620 - accuracy: 0.5972 - val_loss: 0.4674 - val_accuracy: 0.7778\n",
      "Epoch 75/200\n",
      "9/9 [==============================] - 1s 96ms/step - loss: 0.4574 - accuracy: 0.8056 - val_loss: 0.4529 - val_accuracy: 0.7778\n",
      "Epoch 76/200\n",
      "9/9 [==============================] - 1s 99ms/step - loss: 0.4774 - accuracy: 0.5833 - val_loss: 0.4380 - val_accuracy: 0.7778\n",
      "Epoch 77/200\n",
      "9/9 [==============================] - 1s 91ms/step - loss: 0.5623 - accuracy: 0.5417 - val_loss: 0.4235 - val_accuracy: 0.7778\n",
      "Epoch 78/200\n",
      "9/9 [==============================] - 1s 94ms/step - loss: 0.5076 - accuracy: 0.5833 - val_loss: 0.4261 - val_accuracy: 0.8889\n",
      "Epoch 79/200\n",
      "9/9 [==============================] - 1s 91ms/step - loss: 0.5742 - accuracy: 0.5694 - val_loss: 0.4306 - val_accuracy: 0.8889\n",
      "Epoch 80/200\n",
      "9/9 [==============================] - 1s 93ms/step - loss: 0.4961 - accuracy: 0.5833 - val_loss: 0.4450 - val_accuracy: 0.8333\n",
      "Epoch 81/200\n",
      "9/9 [==============================] - 1s 93ms/step - loss: 0.5194 - accuracy: 0.6250 - val_loss: 0.4474 - val_accuracy: 0.7778\n",
      "Epoch 82/200\n",
      "9/9 [==============================] - 1s 92ms/step - loss: 0.4874 - accuracy: 0.7083 - val_loss: 0.4281 - val_accuracy: 0.7778\n",
      "Epoch 83/200\n",
      "9/9 [==============================] - 1s 92ms/step - loss: 0.5155 - accuracy: 0.6528 - val_loss: 0.4246 - val_accuracy: 0.8333\n",
      "Epoch 84/200\n",
      "9/9 [==============================] - 1s 93ms/step - loss: 0.5500 - accuracy: 0.6806 - val_loss: 0.4216 - val_accuracy: 0.7778\n",
      "Epoch 85/200\n",
      "9/9 [==============================] - 1s 99ms/step - loss: 0.5059 - accuracy: 0.6389 - val_loss: 0.4298 - val_accuracy: 0.7778\n",
      "Epoch 86/200\n",
      "9/9 [==============================] - 1s 90ms/step - loss: 0.5030 - accuracy: 0.6667 - val_loss: 0.4237 - val_accuracy: 0.7778\n",
      "Epoch 87/200\n",
      "9/9 [==============================] - 1s 93ms/step - loss: 0.4835 - accuracy: 0.6111 - val_loss: 0.4113 - val_accuracy: 0.8333\n",
      "Epoch 88/200\n",
      "9/9 [==============================] - 1s 91ms/step - loss: 0.4816 - accuracy: 0.6250 - val_loss: 0.4135 - val_accuracy: 0.7778\n",
      "Epoch 89/200\n",
      "9/9 [==============================] - 1s 93ms/step - loss: 0.5080 - accuracy: 0.6667 - val_loss: 0.4210 - val_accuracy: 0.8333\n",
      "Epoch 90/200\n",
      "9/9 [==============================] - 1s 92ms/step - loss: 0.4745 - accuracy: 0.6806 - val_loss: 0.4243 - val_accuracy: 0.7222\n",
      "Epoch 91/200\n",
      "9/9 [==============================] - 1s 92ms/step - loss: 0.4833 - accuracy: 0.6528 - val_loss: 0.4202 - val_accuracy: 0.7778\n",
      "Epoch 92/200\n",
      "9/9 [==============================] - 1s 91ms/step - loss: 0.5137 - accuracy: 0.6389 - val_loss: 0.4157 - val_accuracy: 0.8333\n",
      "Epoch 93/200\n",
      "9/9 [==============================] - 1s 98ms/step - loss: 0.4754 - accuracy: 0.6944 - val_loss: 0.4175 - val_accuracy: 0.7778\n",
      "Epoch 94/200\n",
      "9/9 [==============================] - 1s 100ms/step - loss: 0.4813 - accuracy: 0.6528 - val_loss: 0.4182 - val_accuracy: 0.7778\n",
      "Epoch 95/200\n",
      "9/9 [==============================] - 1s 94ms/step - loss: 0.4804 - accuracy: 0.6389 - val_loss: 0.4194 - val_accuracy: 0.7778\n",
      "Epoch 96/200\n",
      "9/9 [==============================] - 1s 93ms/step - loss: 0.4978 - accuracy: 0.6111 - val_loss: 0.4262 - val_accuracy: 0.8333\n",
      "Epoch 97/200\n",
      "9/9 [==============================] - 1s 93ms/step - loss: 0.4677 - accuracy: 0.7083 - val_loss: 0.4196 - val_accuracy: 0.7778\n",
      "Epoch 98/200\n",
      "9/9 [==============================] - 1s 95ms/step - loss: 0.4782 - accuracy: 0.6667 - val_loss: 0.4063 - val_accuracy: 0.7778\n",
      "Epoch 99/200\n",
      "9/9 [==============================] - 1s 93ms/step - loss: 0.4452 - accuracy: 0.6944 - val_loss: 0.4034 - val_accuracy: 0.8333\n",
      "Epoch 100/200\n",
      "9/9 [==============================] - 1s 93ms/step - loss: 0.4713 - accuracy: 0.5972 - val_loss: 0.4015 - val_accuracy: 0.7778\n",
      "Epoch 101/200\n",
      "9/9 [==============================] - 1s 92ms/step - loss: 0.5450 - accuracy: 0.6667 - val_loss: 0.4058 - val_accuracy: 0.8333\n",
      "Epoch 102/200\n",
      "9/9 [==============================] - 1s 92ms/step - loss: 0.5060 - accuracy: 0.6111 - val_loss: 0.4060 - val_accuracy: 0.7778\n",
      "Epoch 103/200\n",
      "9/9 [==============================] - 1s 97ms/step - loss: 0.4913 - accuracy: 0.5833 - val_loss: 0.4028 - val_accuracy: 0.8333\n",
      "Epoch 104/200\n",
      "9/9 [==============================] - 1s 91ms/step - loss: 0.4679 - accuracy: 0.6111 - val_loss: 0.3995 - val_accuracy: 0.8333\n",
      "Epoch 105/200\n",
      "9/9 [==============================] - 1s 93ms/step - loss: 0.4827 - accuracy: 0.6667 - val_loss: 0.4103 - val_accuracy: 0.7778\n",
      "Epoch 106/200\n",
      "9/9 [==============================] - 1s 93ms/step - loss: 0.4787 - accuracy: 0.6667 - val_loss: 0.4223 - val_accuracy: 0.7778\n",
      "Epoch 107/200\n",
      "9/9 [==============================] - 1s 94ms/step - loss: 0.4664 - accuracy: 0.7361 - val_loss: 0.4152 - val_accuracy: 0.7778\n",
      "Epoch 108/200\n",
      "9/9 [==============================] - 1s 92ms/step - loss: 0.5019 - accuracy: 0.6250 - val_loss: 0.4139 - val_accuracy: 0.7778\n",
      "Epoch 109/200\n",
      "9/9 [==============================] - 1s 93ms/step - loss: 0.5029 - accuracy: 0.5972 - val_loss: 0.4142 - val_accuracy: 0.8333\n",
      "Epoch 110/200\n",
      "9/9 [==============================] - 1s 95ms/step - loss: 0.4735 - accuracy: 0.6528 - val_loss: 0.4108 - val_accuracy: 0.8333\n",
      "Epoch 111/200\n",
      "9/9 [==============================] - 1s 100ms/step - loss: 0.4773 - accuracy: 0.5833 - val_loss: 0.4220 - val_accuracy: 0.7778\n",
      "Epoch 112/200\n",
      "9/9 [==============================] - 1s 99ms/step - loss: 0.4434 - accuracy: 0.6528 - val_loss: 0.4111 - val_accuracy: 0.8333\n",
      "Epoch 113/200\n",
      "9/9 [==============================] - 1s 93ms/step - loss: 0.4617 - accuracy: 0.6528 - val_loss: 0.4122 - val_accuracy: 0.7778\n",
      "Epoch 114/200\n",
      "9/9 [==============================] - 1s 95ms/step - loss: 0.4178 - accuracy: 0.6806 - val_loss: 0.3966 - val_accuracy: 0.7778\n",
      "Epoch 115/200\n",
      "9/9 [==============================] - 1s 93ms/step - loss: 0.4506 - accuracy: 0.6806 - val_loss: 0.3940 - val_accuracy: 0.7778\n",
      "Epoch 116/200\n",
      "9/9 [==============================] - 1s 94ms/step - loss: 0.4338 - accuracy: 0.6806 - val_loss: 0.3981 - val_accuracy: 0.7778\n"
     ]
    },
    {
     "name": "stdout",
     "output_type": "stream",
     "text": [
      "Epoch 117/200\n",
      "9/9 [==============================] - 1s 97ms/step - loss: 0.4725 - accuracy: 0.6389 - val_loss: 0.4031 - val_accuracy: 0.7778\n",
      "Epoch 118/200\n",
      "9/9 [==============================] - 1s 90ms/step - loss: 0.4237 - accuracy: 0.7083 - val_loss: 0.4000 - val_accuracy: 0.7222\n",
      "Epoch 119/200\n",
      "9/9 [==============================] - 1s 90ms/step - loss: 0.4409 - accuracy: 0.5972 - val_loss: 0.4040 - val_accuracy: 0.7778\n",
      "Epoch 120/200\n",
      "9/9 [==============================] - 1s 91ms/step - loss: 0.4696 - accuracy: 0.6667 - val_loss: 0.4139 - val_accuracy: 0.7778\n",
      "Epoch 121/200\n",
      "9/9 [==============================] - 1s 94ms/step - loss: 0.4710 - accuracy: 0.6667 - val_loss: 0.4209 - val_accuracy: 0.7778\n",
      "Epoch 122/200\n",
      "9/9 [==============================] - 1s 93ms/step - loss: 0.4521 - accuracy: 0.7083 - val_loss: 0.4192 - val_accuracy: 0.7778\n",
      "Epoch 123/200\n",
      "9/9 [==============================] - 1s 92ms/step - loss: 0.4742 - accuracy: 0.6250 - val_loss: 0.4082 - val_accuracy: 0.8333\n",
      "Epoch 124/200\n",
      "9/9 [==============================] - 1s 94ms/step - loss: 0.4855 - accuracy: 0.6250 - val_loss: 0.4064 - val_accuracy: 0.8333\n",
      "Epoch 125/200\n",
      "9/9 [==============================] - 1s 94ms/step - loss: 0.4789 - accuracy: 0.6250 - val_loss: 0.4185 - val_accuracy: 0.7778\n",
      "Epoch 126/200\n",
      "9/9 [==============================] - 1s 92ms/step - loss: 0.4849 - accuracy: 0.6389 - val_loss: 0.4172 - val_accuracy: 0.7778\n",
      "Epoch 127/200\n",
      "9/9 [==============================] - 1s 93ms/step - loss: 0.4548 - accuracy: 0.6389 - val_loss: 0.4072 - val_accuracy: 0.7778\n",
      "Epoch 128/200\n",
      "9/9 [==============================] - 1s 94ms/step - loss: 0.4987 - accuracy: 0.7083 - val_loss: 0.4078 - val_accuracy: 0.8333\n",
      "Epoch 129/200\n",
      "9/9 [==============================] - 1s 98ms/step - loss: 0.4975 - accuracy: 0.5972 - val_loss: 0.3914 - val_accuracy: 0.8333\n",
      "Epoch 130/200\n",
      "9/9 [==============================] - 1s 96ms/step - loss: 0.4555 - accuracy: 0.5833 - val_loss: 0.4053 - val_accuracy: 0.8333\n",
      "Epoch 131/200\n",
      "9/9 [==============================] - 1s 94ms/step - loss: 0.4700 - accuracy: 0.5833 - val_loss: 0.4140 - val_accuracy: 0.7778\n",
      "Epoch 132/200\n",
      "9/9 [==============================] - 1s 92ms/step - loss: 0.4525 - accuracy: 0.6111 - val_loss: 0.4142 - val_accuracy: 0.7778\n",
      "Epoch 133/200\n",
      "9/9 [==============================] - 1s 93ms/step - loss: 0.4049 - accuracy: 0.6528 - val_loss: 0.4065 - val_accuracy: 0.8333\n",
      "Epoch 134/200\n",
      "9/9 [==============================] - 1s 97ms/step - loss: 0.4388 - accuracy: 0.7222 - val_loss: 0.4054 - val_accuracy: 0.7778\n",
      "Epoch 135/200\n",
      "9/9 [==============================] - 1s 98ms/step - loss: 0.4511 - accuracy: 0.6806 - val_loss: 0.4003 - val_accuracy: 0.8333\n",
      "Epoch 136/200\n",
      "9/9 [==============================] - 1s 92ms/step - loss: 0.4295 - accuracy: 0.6944 - val_loss: 0.3975 - val_accuracy: 0.8333\n",
      "Epoch 137/200\n",
      "9/9 [==============================] - 1s 95ms/step - loss: 0.4221 - accuracy: 0.7361 - val_loss: 0.3973 - val_accuracy: 0.8333\n",
      "Epoch 138/200\n",
      "9/9 [==============================] - 1s 95ms/step - loss: 0.4259 - accuracy: 0.7083 - val_loss: 0.4343 - val_accuracy: 0.7778\n",
      "Epoch 139/200\n",
      "9/9 [==============================] - 1s 94ms/step - loss: 0.4847 - accuracy: 0.6389 - val_loss: 0.4421 - val_accuracy: 0.7778\n",
      "Epoch 140/200\n",
      "9/9 [==============================] - 1s 91ms/step - loss: 0.4354 - accuracy: 0.7361 - val_loss: 0.4378 - val_accuracy: 0.7778\n",
      "Epoch 141/200\n",
      "9/9 [==============================] - 1s 92ms/step - loss: 0.4996 - accuracy: 0.6667 - val_loss: 0.4168 - val_accuracy: 0.8333\n",
      "Epoch 142/200\n",
      "9/9 [==============================] - 1s 94ms/step - loss: 0.3973 - accuracy: 0.7222 - val_loss: 0.4257 - val_accuracy: 0.7778\n",
      "Epoch 143/200\n",
      "9/9 [==============================] - 1s 92ms/step - loss: 0.4024 - accuracy: 0.6806 - val_loss: 0.4192 - val_accuracy: 0.7778\n",
      "Epoch 144/200\n",
      "9/9 [==============================] - 1s 93ms/step - loss: 0.4181 - accuracy: 0.7222 - val_loss: 0.4122 - val_accuracy: 0.7778\n",
      "Epoch 145/200\n",
      "9/9 [==============================] - 1s 94ms/step - loss: 0.3709 - accuracy: 0.8194 - val_loss: 0.4122 - val_accuracy: 0.7778\n",
      "Epoch 146/200\n",
      "9/9 [==============================] - 1s 94ms/step - loss: 0.4757 - accuracy: 0.6111 - val_loss: 0.4035 - val_accuracy: 0.7778\n",
      "Epoch 147/200\n",
      "9/9 [==============================] - 1s 98ms/step - loss: 0.4663 - accuracy: 0.6528 - val_loss: 0.3981 - val_accuracy: 0.7778\n",
      "Epoch 148/200\n",
      "9/9 [==============================] - 1s 96ms/step - loss: 0.5331 - accuracy: 0.6389 - val_loss: 0.4092 - val_accuracy: 0.8333\n",
      "Epoch 149/200\n",
      "9/9 [==============================] - 1s 95ms/step - loss: 0.4447 - accuracy: 0.6528 - val_loss: 0.4061 - val_accuracy: 0.7778\n",
      "Epoch 150/200\n",
      "9/9 [==============================] - 1s 91ms/step - loss: 0.4247 - accuracy: 0.6944 - val_loss: 0.3945 - val_accuracy: 0.7778\n",
      "Epoch 151/200\n",
      "9/9 [==============================] - 1s 97ms/step - loss: 0.5279 - accuracy: 0.7222 - val_loss: 0.4090 - val_accuracy: 0.7222\n",
      "Epoch 152/200\n",
      "9/9 [==============================] - 1s 99ms/step - loss: 0.4533 - accuracy: 0.6806 - val_loss: 0.3995 - val_accuracy: 0.7778\n",
      "Epoch 153/200\n",
      "9/9 [==============================] - 1s 91ms/step - loss: 0.4241 - accuracy: 0.6806 - val_loss: 0.4004 - val_accuracy: 0.7778\n",
      "Epoch 154/200\n",
      "9/9 [==============================] - 1s 92ms/step - loss: 0.4812 - accuracy: 0.6389 - val_loss: 0.4047 - val_accuracy: 0.7778\n",
      "Epoch 155/200\n",
      "9/9 [==============================] - 1s 95ms/step - loss: 0.4088 - accuracy: 0.6944 - val_loss: 0.4150 - val_accuracy: 0.7222\n",
      "Epoch 156/200\n",
      "9/9 [==============================] - 1s 95ms/step - loss: 0.4165 - accuracy: 0.6667 - val_loss: 0.4132 - val_accuracy: 0.7222\n",
      "Epoch 157/200\n",
      "9/9 [==============================] - 1s 94ms/step - loss: 0.3882 - accuracy: 0.6667 - val_loss: 0.4029 - val_accuracy: 0.7778\n",
      "Epoch 158/200\n",
      "9/9 [==============================] - 1s 91ms/step - loss: 0.4947 - accuracy: 0.6111 - val_loss: 0.4107 - val_accuracy: 0.7778\n",
      "Epoch 159/200\n",
      "9/9 [==============================] - 1s 94ms/step - loss: 0.4377 - accuracy: 0.6806 - val_loss: 0.4034 - val_accuracy: 0.8333\n",
      "Epoch 160/200\n",
      "9/9 [==============================] - 1s 95ms/step - loss: 0.4163 - accuracy: 0.6806 - val_loss: 0.3941 - val_accuracy: 0.8333\n",
      "Epoch 161/200\n",
      "9/9 [==============================] - 1s 93ms/step - loss: 0.4745 - accuracy: 0.7361 - val_loss: 0.3907 - val_accuracy: 0.7778\n",
      "Epoch 162/200\n",
      "9/9 [==============================] - 1s 94ms/step - loss: 0.4161 - accuracy: 0.7639 - val_loss: 0.3816 - val_accuracy: 0.7778\n",
      "Epoch 163/200\n",
      "9/9 [==============================] - 1s 93ms/step - loss: 0.4683 - accuracy: 0.6528 - val_loss: 0.3817 - val_accuracy: 0.8333\n",
      "Epoch 164/200\n",
      "9/9 [==============================] - 1s 96ms/step - loss: 0.4841 - accuracy: 0.6389 - val_loss: 0.3899 - val_accuracy: 0.8333\n",
      "Epoch 165/200\n",
      "9/9 [==============================] - 1s 98ms/step - loss: 0.4056 - accuracy: 0.7222 - val_loss: 0.3792 - val_accuracy: 0.7778\n",
      "Epoch 166/200\n",
      "9/9 [==============================] - 1s 97ms/step - loss: 0.4238 - accuracy: 0.7222 - val_loss: 0.3900 - val_accuracy: 0.7778\n",
      "Epoch 167/200\n",
      "9/9 [==============================] - 1s 93ms/step - loss: 0.3648 - accuracy: 0.7361 - val_loss: 0.3889 - val_accuracy: 0.8333\n",
      "Epoch 168/200\n",
      "9/9 [==============================] - 1s 92ms/step - loss: 0.4523 - accuracy: 0.7083 - val_loss: 0.3964 - val_accuracy: 0.7778\n",
      "Epoch 169/200\n",
      "9/9 [==============================] - 1s 93ms/step - loss: 0.4168 - accuracy: 0.6667 - val_loss: 0.4023 - val_accuracy: 0.8333\n",
      "Epoch 170/200\n",
      "9/9 [==============================] - 1s 96ms/step - loss: 0.3971 - accuracy: 0.7222 - val_loss: 0.3975 - val_accuracy: 0.7778\n",
      "Epoch 171/200\n",
      "9/9 [==============================] - 1s 92ms/step - loss: 0.4141 - accuracy: 0.6944 - val_loss: 0.4037 - val_accuracy: 0.8333\n",
      "Epoch 172/200\n",
      "9/9 [==============================] - 1s 93ms/step - loss: 0.4463 - accuracy: 0.6667 - val_loss: 0.4086 - val_accuracy: 0.8333\n",
      "Epoch 173/200\n",
      "9/9 [==============================] - 1s 96ms/step - loss: 0.5145 - accuracy: 0.5972 - val_loss: 0.4052 - val_accuracy: 0.8333\n",
      "Epoch 174/200\n",
      "9/9 [==============================] - 1s 93ms/step - loss: 0.4276 - accuracy: 0.7083 - val_loss: 0.4060 - val_accuracy: 0.8333\n"
     ]
    },
    {
     "name": "stdout",
     "output_type": "stream",
     "text": [
      "Epoch 175/200\n",
      "9/9 [==============================] - 1s 91ms/step - loss: 0.4526 - accuracy: 0.7083 - val_loss: 0.4175 - val_accuracy: 0.8333\n",
      "Epoch 176/200\n",
      "9/9 [==============================] - 1s 94ms/step - loss: 0.3789 - accuracy: 0.7917 - val_loss: 0.4075 - val_accuracy: 0.8333\n",
      "Epoch 177/200\n",
      "9/9 [==============================] - 1s 92ms/step - loss: 0.4239 - accuracy: 0.6667 - val_loss: 0.3981 - val_accuracy: 0.7778\n",
      "Epoch 178/200\n",
      "9/9 [==============================] - 1s 91ms/step - loss: 0.4239 - accuracy: 0.6806 - val_loss: 0.3922 - val_accuracy: 0.8333\n",
      "Epoch 179/200\n",
      "9/9 [==============================] - 1s 94ms/step - loss: 0.4311 - accuracy: 0.6250 - val_loss: 0.3853 - val_accuracy: 0.8333\n",
      "Epoch 180/200\n",
      "9/9 [==============================] - 1s 96ms/step - loss: 0.3889 - accuracy: 0.7083 - val_loss: 0.3926 - val_accuracy: 0.7778\n",
      "Epoch 181/200\n",
      "9/9 [==============================] - 1s 90ms/step - loss: 0.4381 - accuracy: 0.7222 - val_loss: 0.3957 - val_accuracy: 0.7778\n",
      "Epoch 182/200\n",
      "9/9 [==============================] - 1s 96ms/step - loss: 0.5025 - accuracy: 0.5972 - val_loss: 0.4060 - val_accuracy: 0.7222\n",
      "Epoch 183/200\n",
      "9/9 [==============================] - 1s 99ms/step - loss: 0.4256 - accuracy: 0.6806 - val_loss: 0.4128 - val_accuracy: 0.8333\n",
      "Epoch 184/200\n",
      "9/9 [==============================] - 1s 92ms/step - loss: 0.3951 - accuracy: 0.6806 - val_loss: 0.4118 - val_accuracy: 0.8333\n",
      "Epoch 185/200\n",
      "9/9 [==============================] - 1s 95ms/step - loss: 0.4464 - accuracy: 0.6389 - val_loss: 0.3983 - val_accuracy: 0.8333\n",
      "Epoch 186/200\n",
      "9/9 [==============================] - 1s 92ms/step - loss: 0.5040 - accuracy: 0.7083 - val_loss: 0.3958 - val_accuracy: 0.8333\n",
      "Epoch 187/200\n",
      "9/9 [==============================] - 1s 98ms/step - loss: 0.4306 - accuracy: 0.7083 - val_loss: 0.4077 - val_accuracy: 0.8333\n",
      "Epoch 188/200\n",
      "9/9 [==============================] - 1s 91ms/step - loss: 0.4178 - accuracy: 0.6528 - val_loss: 0.4076 - val_accuracy: 0.8333\n",
      "Epoch 189/200\n",
      "9/9 [==============================] - 1s 95ms/step - loss: 0.3874 - accuracy: 0.7500 - val_loss: 0.4155 - val_accuracy: 0.8333\n",
      "Epoch 190/200\n",
      "9/9 [==============================] - 1s 93ms/step - loss: 0.3758 - accuracy: 0.7778 - val_loss: 0.4109 - val_accuracy: 0.8333\n",
      "Epoch 191/200\n",
      "9/9 [==============================] - 1s 92ms/step - loss: 0.3975 - accuracy: 0.7639 - val_loss: 0.4061 - val_accuracy: 0.8333\n",
      "Epoch 192/200\n",
      "9/9 [==============================] - 1s 93ms/step - loss: 0.3779 - accuracy: 0.8056 - val_loss: 0.3931 - val_accuracy: 0.8333\n",
      "Epoch 193/200\n",
      "9/9 [==============================] - 1s 94ms/step - loss: 0.3851 - accuracy: 0.7222 - val_loss: 0.3891 - val_accuracy: 0.8333\n",
      "Epoch 194/200\n",
      "9/9 [==============================] - 1s 97ms/step - loss: 0.4529 - accuracy: 0.6944 - val_loss: 0.3949 - val_accuracy: 0.8333\n",
      "Epoch 195/200\n",
      "9/9 [==============================] - 1s 93ms/step - loss: 0.4638 - accuracy: 0.6528 - val_loss: 0.4020 - val_accuracy: 0.8333\n",
      "Epoch 196/200\n",
      "9/9 [==============================] - 1s 92ms/step - loss: 0.3418 - accuracy: 0.7778 - val_loss: 0.4040 - val_accuracy: 0.8333\n",
      "Epoch 197/200\n",
      "9/9 [==============================] - 1s 90ms/step - loss: 0.3687 - accuracy: 0.7639 - val_loss: 0.3985 - val_accuracy: 0.8333\n",
      "Epoch 198/200\n",
      "9/9 [==============================] - 1s 94ms/step - loss: 0.4464 - accuracy: 0.7083 - val_loss: 0.3936 - val_accuracy: 0.8333\n",
      "Epoch 199/200\n",
      "9/9 [==============================] - 1s 95ms/step - loss: 0.4550 - accuracy: 0.6944 - val_loss: 0.4058 - val_accuracy: 0.7778\n",
      "Epoch 200/200\n",
      "9/9 [==============================] - 1s 93ms/step - loss: 0.3534 - accuracy: 0.7917 - val_loss: 0.3931 - val_accuracy: 0.7778\n"
     ]
    }
   ],
   "source": [
    "# Train the Network Model\n",
    "# 모델 교육\n",
    "print(\"[INFO] Model Training\")\n",
    "start = timeit.default_timer()\n",
    "H = model.fit(\n",
    "        trainAug.flow(trainX, trainY, batch_size=BS),\n",
    "        steps_per_epoch=len(trainX) // BS,\n",
    "        validation_data=(testX, testY),\n",
    "        validation_steps=len(testX) // BS,\n",
    "        epochs=EPOCHS)"
   ]
  },
  {
   "cell_type": "code",
   "execution_count": 25,
   "id": "c287ab9b",
   "metadata": {
    "scrolled": true
   },
   "outputs": [
    {
     "name": "stdout",
     "output_type": "stream",
     "text": [
      "Total Training Time:  187.72934759999998\n"
     ]
    }
   ],
   "source": [
    "stop = timeit.default_timer()\n",
    "print('Total Training Time: ', stop - start) "
   ]
  },
  {
   "cell_type": "code",
   "execution_count": null,
   "id": "d689ae66",
   "metadata": {},
   "outputs": [],
   "source": []
  },
  {
   "cell_type": "code",
   "execution_count": 26,
   "id": "ebd52999",
   "metadata": {},
   "outputs": [
    {
     "data": {
      "text/plain": [
       "(18, 224, 224, 3)"
      ]
     },
     "execution_count": 26,
     "metadata": {},
     "output_type": "execute_result"
    }
   ],
   "source": [
    "testX.shape"
   ]
  },
  {
   "cell_type": "code",
   "execution_count": null,
   "id": "54faf525",
   "metadata": {},
   "outputs": [],
   "source": []
  },
  {
   "cell_type": "code",
   "execution_count": 31,
   "id": "cba2aa2a",
   "metadata": {},
   "outputs": [
    {
     "name": "stdout",
     "output_type": "stream",
     "text": [
      "Making Predictions on the Test Set\n",
      "Classification Report\n",
      "              precision    recall  f1-score   support\n",
      "\n",
      "           0       0.73      0.89      0.80         9\n",
      "           1       0.00      0.00      0.00         3\n",
      "           2       0.86      1.00      0.92         6\n",
      "\n",
      "    accuracy                           0.78        18\n",
      "   macro avg       0.53      0.63      0.57        18\n",
      "weighted avg       0.65      0.78      0.71        18\n",
      "\n"
     ]
    },
    {
     "name": "stderr",
     "output_type": "stream",
     "text": [
      "C:\\Users\\cvpr\\anaconda3\\lib\\site-packages\\sklearn\\metrics\\_classification.py:1327: UndefinedMetricWarning: Precision and F-score are ill-defined and being set to 0.0 in labels with no predicted samples. Use `zero_division` parameter to control this behavior.\n",
      "  _warn_prf(average, modifier, msg_start, len(result))\n",
      "C:\\Users\\cvpr\\anaconda3\\lib\\site-packages\\sklearn\\metrics\\_classification.py:1327: UndefinedMetricWarning: Precision and F-score are ill-defined and being set to 0.0 in labels with no predicted samples. Use `zero_division` parameter to control this behavior.\n",
      "  _warn_prf(average, modifier, msg_start, len(result))\n",
      "C:\\Users\\cvpr\\anaconda3\\lib\\site-packages\\sklearn\\metrics\\_classification.py:1327: UndefinedMetricWarning: Precision and F-score are ill-defined and being set to 0.0 in labels with no predicted samples. Use `zero_division` parameter to control this behavior.\n",
      "  _warn_prf(average, modifier, msg_start, len(result))\n"
     ]
    }
   ],
   "source": [
    "# Make predictions on the testing set\n",
    "# 테스트 세트에서 예측한다\n",
    "print(\"Making Predictions on the Test Set\")\n",
    "predIdxs = model.predict(testX, batch_size=BS)\n",
    "preds = predIdxs\n",
    "predIdxs = np.argmax(predIdxs, axis=1)\n",
    "print(\"Classification Report\")\n",
    "print(classification_report(testY.argmax(axis=1), predIdxs, target_names=lb.classes_))"
   ]
  },
  {
   "cell_type": "code",
   "execution_count": 32,
   "id": "62354ab6",
   "metadata": {},
   "outputs": [
    {
     "data": {
      "text/plain": [
       "array([[6.7665344e-01, 6.1392397e-02, 2.6195410e-01],\n",
       "       [8.8178046e-02, 7.8781046e-02, 8.3304095e-01],\n",
       "       [4.0834792e-02, 3.4841102e-02, 9.2432410e-01],\n",
       "       [1.5690053e-01, 4.3971993e-02, 7.9912752e-01],\n",
       "       [5.8102101e-01, 3.5178420e-01, 6.7194775e-02],\n",
       "       [9.6635991e-01, 1.5935674e-02, 1.7704370e-02],\n",
       "       [1.7239696e-01, 1.0772405e-01, 7.1987897e-01],\n",
       "       [9.9676871e-01, 1.4535846e-03, 1.7777567e-03],\n",
       "       [9.9446243e-01, 1.2759479e-03, 4.2615798e-03],\n",
       "       [9.9262446e-01, 9.2285319e-04, 6.4526931e-03],\n",
       "       [6.6700882e-01, 2.7433202e-01, 5.8659144e-02],\n",
       "       [8.5803354e-01, 2.6607346e-02, 1.1535911e-01],\n",
       "       [9.9382621e-01, 1.4951765e-03, 4.6786005e-03],\n",
       "       [4.7754747e-01, 2.8895877e-02, 4.9355668e-01],\n",
       "       [1.5137527e-02, 1.9333386e-01, 7.9152864e-01],\n",
       "       [9.9726796e-01, 4.3431894e-04, 2.2977979e-03],\n",
       "       [6.1182749e-01, 6.2397148e-02, 3.2577536e-01],\n",
       "       [1.3286086e-02, 2.4324822e-01, 7.4346566e-01]], dtype=float32)"
      ]
     },
     "execution_count": 32,
     "metadata": {},
     "output_type": "execute_result"
    }
   ],
   "source": [
    "preds"
   ]
  },
  {
   "cell_type": "code",
   "execution_count": 33,
   "id": "745a4933",
   "metadata": {},
   "outputs": [
    {
     "data": {
      "text/plain": [
       "18"
      ]
     },
     "execution_count": 33,
     "metadata": {},
     "output_type": "execute_result"
    }
   ],
   "source": [
    "len(predIdxs)"
   ]
  },
  {
   "cell_type": "code",
   "execution_count": 34,
   "id": "d36e048e",
   "metadata": {},
   "outputs": [
    {
     "name": "stdout",
     "output_type": "stream",
     "text": [
      "Confusion Matrix and its Derrivatives\n",
      "[[8 0 1]\n",
      " [3 0 0]\n",
      " [0 0 6]]\n",
      "acc: 0.7778\n",
      "sensitivity: 1.0000\n",
      "specificity: 0.0000\n"
     ]
    }
   ],
   "source": [
    "# Compute Confusion Matrix and derrive raw, accuracy, sensitivity, specificity from it\n",
    "# 혼란 매트릭스\n",
    "cm= confusion_matrix(testY.argmax(axis=1), predIdxs)\n",
    "total = sum(sum(cm))\n",
    "acc = (cm[0,0] + cm[1,1] + cm[2,2]) / total\n",
    "\n",
    "sensitivity = cm[0, 0] / (cm[0, 0] + cm[0, 1])\n",
    "specificity = cm[1, 1] / (cm[1, 0] + cm[1, 1])\n",
    "# show the confusion matrix, accuracy, sensitivity, and specificity\n",
    "# 혼란 매트릭스 보기\n",
    "print(\"Confusion Matrix and its Derrivatives\")\n",
    "print(cm)\n",
    "print(\"acc: {:.4f}\".format(acc))\n",
    "print(\"sensitivity: {:.4f}\".format(sensitivity))\n",
    "print(\"specificity: {:.4f}\".format(specificity))"
   ]
  },
  {
   "cell_type": "code",
   "execution_count": 35,
   "id": "4b099c6f",
   "metadata": {},
   "outputs": [
    {
     "data": {
      "text/plain": [
       "[0.3888888955116272,\n",
       " 0.4444444477558136,\n",
       " 0.375,\n",
       " 0.4444444477558136,\n",
       " 0.3611111044883728,\n",
       " 0.4444444477558136,\n",
       " 0.4166666567325592,\n",
       " 0.4305555522441864,\n",
       " 0.4722222089767456,\n",
       " 0.5138888955116272,\n",
       " 0.5138888955116272,\n",
       " 0.5,\n",
       " 0.4583333432674408,\n",
       " 0.5833333134651184,\n",
       " 0.4861111044883728,\n",
       " 0.5416666865348816,\n",
       " 0.5138888955116272,\n",
       " 0.5694444179534912,\n",
       " 0.625,\n",
       " 0.5555555820465088,\n",
       " 0.5555555820465088,\n",
       " 0.4444444477558136,\n",
       " 0.5972222089767456,\n",
       " 0.5416666865348816,\n",
       " 0.5972222089767456,\n",
       " 0.5416666865348816,\n",
       " 0.5138888955116272,\n",
       " 0.6111111044883728,\n",
       " 0.6111111044883728,\n",
       " 0.6805555820465088,\n",
       " 0.6111111044883728,\n",
       " 0.5972222089767456,\n",
       " 0.4861111044883728,\n",
       " 0.5555555820465088,\n",
       " 0.6388888955116272,\n",
       " 0.5138888955116272,\n",
       " 0.5,\n",
       " 0.5277777910232544,\n",
       " 0.5972222089767456,\n",
       " 0.5833333134651184,\n",
       " 0.5833333134651184,\n",
       " 0.5277777910232544,\n",
       " 0.5833333134651184,\n",
       " 0.5277777910232544,\n",
       " 0.625,\n",
       " 0.5416666865348816,\n",
       " 0.6111111044883728,\n",
       " 0.5833333134651184,\n",
       " 0.6111111044883728,\n",
       " 0.5555555820465088,\n",
       " 0.5972222089767456,\n",
       " 0.5972222089767456,\n",
       " 0.6527777910232544,\n",
       " 0.5694444179534912,\n",
       " 0.6111111044883728,\n",
       " 0.6111111044883728,\n",
       " 0.5416666865348816,\n",
       " 0.5416666865348816,\n",
       " 0.5694444179534912,\n",
       " 0.5277777910232544,\n",
       " 0.7083333134651184,\n",
       " 0.625,\n",
       " 0.5555555820465088,\n",
       " 0.5972222089767456,\n",
       " 0.625,\n",
       " 0.6666666865348816,\n",
       " 0.6388888955116272,\n",
       " 0.5694444179534912,\n",
       " 0.6666666865348816,\n",
       " 0.5694444179534912,\n",
       " 0.5833333134651184,\n",
       " 0.625,\n",
       " 0.5972222089767456,\n",
       " 0.5972222089767456,\n",
       " 0.8055555820465088,\n",
       " 0.5833333134651184,\n",
       " 0.5416666865348816,\n",
       " 0.5833333134651184,\n",
       " 0.5694444179534912,\n",
       " 0.5833333134651184,\n",
       " 0.625,\n",
       " 0.7083333134651184,\n",
       " 0.6527777910232544,\n",
       " 0.6805555820465088,\n",
       " 0.6388888955116272,\n",
       " 0.6666666865348816,\n",
       " 0.6111111044883728,\n",
       " 0.625,\n",
       " 0.6666666865348816,\n",
       " 0.6805555820465088,\n",
       " 0.6527777910232544,\n",
       " 0.6388888955116272,\n",
       " 0.6944444179534912,\n",
       " 0.6527777910232544,\n",
       " 0.6388888955116272,\n",
       " 0.6111111044883728,\n",
       " 0.7083333134651184,\n",
       " 0.6666666865348816,\n",
       " 0.6944444179534912,\n",
       " 0.5972222089767456,\n",
       " 0.6666666865348816,\n",
       " 0.6111111044883728,\n",
       " 0.5833333134651184,\n",
       " 0.6111111044883728,\n",
       " 0.6666666865348816,\n",
       " 0.6666666865348816,\n",
       " 0.7361111044883728,\n",
       " 0.625,\n",
       " 0.5972222089767456,\n",
       " 0.6527777910232544,\n",
       " 0.5833333134651184,\n",
       " 0.6527777910232544,\n",
       " 0.6527777910232544,\n",
       " 0.6805555820465088,\n",
       " 0.6805555820465088,\n",
       " 0.6805555820465088,\n",
       " 0.6388888955116272,\n",
       " 0.7083333134651184,\n",
       " 0.5972222089767456,\n",
       " 0.6666666865348816,\n",
       " 0.6666666865348816,\n",
       " 0.7083333134651184,\n",
       " 0.625,\n",
       " 0.625,\n",
       " 0.625,\n",
       " 0.6388888955116272,\n",
       " 0.6388888955116272,\n",
       " 0.7083333134651184,\n",
       " 0.5972222089767456,\n",
       " 0.5833333134651184,\n",
       " 0.5833333134651184,\n",
       " 0.6111111044883728,\n",
       " 0.6527777910232544,\n",
       " 0.7222222089767456,\n",
       " 0.6805555820465088,\n",
       " 0.6944444179534912,\n",
       " 0.7361111044883728,\n",
       " 0.7083333134651184,\n",
       " 0.6388888955116272,\n",
       " 0.7361111044883728,\n",
       " 0.6666666865348816,\n",
       " 0.7222222089767456,\n",
       " 0.6805555820465088,\n",
       " 0.7222222089767456,\n",
       " 0.8194444179534912,\n",
       " 0.6111111044883728,\n",
       " 0.6527777910232544,\n",
       " 0.6388888955116272,\n",
       " 0.6527777910232544,\n",
       " 0.6944444179534912,\n",
       " 0.7222222089767456,\n",
       " 0.6805555820465088,\n",
       " 0.6805555820465088,\n",
       " 0.6388888955116272,\n",
       " 0.6944444179534912,\n",
       " 0.6666666865348816,\n",
       " 0.6666666865348816,\n",
       " 0.6111111044883728,\n",
       " 0.6805555820465088,\n",
       " 0.6805555820465088,\n",
       " 0.7361111044883728,\n",
       " 0.7638888955116272,\n",
       " 0.6527777910232544,\n",
       " 0.6388888955116272,\n",
       " 0.7222222089767456,\n",
       " 0.7222222089767456,\n",
       " 0.7361111044883728,\n",
       " 0.7083333134651184,\n",
       " 0.6666666865348816,\n",
       " 0.7222222089767456,\n",
       " 0.6944444179534912,\n",
       " 0.6666666865348816,\n",
       " 0.5972222089767456,\n",
       " 0.7083333134651184,\n",
       " 0.7083333134651184,\n",
       " 0.7916666865348816,\n",
       " 0.6666666865348816,\n",
       " 0.6805555820465088,\n",
       " 0.625,\n",
       " 0.7083333134651184,\n",
       " 0.7222222089767456,\n",
       " 0.5972222089767456,\n",
       " 0.6805555820465088,\n",
       " 0.6805555820465088,\n",
       " 0.6388888955116272,\n",
       " 0.7083333134651184,\n",
       " 0.7083333134651184,\n",
       " 0.6527777910232544,\n",
       " 0.75,\n",
       " 0.7777777910232544,\n",
       " 0.7638888955116272,\n",
       " 0.8055555820465088,\n",
       " 0.7222222089767456,\n",
       " 0.6944444179534912,\n",
       " 0.6527777910232544,\n",
       " 0.7777777910232544,\n",
       " 0.7638888955116272,\n",
       " 0.7083333134651184,\n",
       " 0.6944444179534912,\n",
       " 0.7916666865348816]"
      ]
     },
     "execution_count": 35,
     "metadata": {},
     "output_type": "execute_result"
    }
   ],
   "source": [
    "H.history[\"accuracy\"]"
   ]
  },
  {
   "cell_type": "code",
   "execution_count": 30,
   "id": "5de6d696",
   "metadata": {},
   "outputs": [
    {
     "name": "stdout",
     "output_type": "stream",
     "text": [
      "Final Plot Generated.\n"
     ]
    },
    {
     "data": {
      "image/png": "[encoded data removed]",
      "text/plain": [
       "<Figure size 432x288 with 1 Axes>"
      ]
     },
     "metadata": {},
     "output_type": "display_data"
    }
   ],
   "source": [
    "# plot the training loss and accuracy\n",
    "# 플롯 그래프\n",
    "print(\"Final Plot Generated.\")\n",
    "N = EPOCHS\n",
    "plt.style.use(\"ggplot\")\n",
    "plt.figure()\n",
    "plt.plot(np.arange(0, N), H.history[\"loss\"], label=\"train_loss\")\n",
    "plt.plot(np.arange(0, N), H.history[\"val_loss\"], label=\"val_loss\")\n",
    "plt.plot(np.arange(0, N), H.history[\"accuracy\"], label=\"train_acc\")\n",
    "plt.plot(np.arange(0, N), H.history[\"val_accuracy\"], label=\"val_acc\")\n",
    "plt.title(\"Allergic Rhinitis XceptNet - without Rotation\")\n",
    "plt.xlabel(\"Epoch #\")\n",
    "plt.ylabel(\"Loss/Accuracy\")\n",
    "plt.legend(loc=\"lower left\")\n",
    "plt.savefig(\"[iter-3] [XCEPTN] plot-rotate-5e3\")"
   ]
  },
  {
   "cell_type": "markdown",
   "id": "3e1e9f07",
   "metadata": {},
   "source": [
    "model.output_shape # model summary representation\n",
    "model.summary() # model configuration\n",
    "model.get_config() # list all weight tensors in the model"
   ]
  },
  {
   "cell_type": "code",
   "execution_count": 31,
   "id": "8d7c1b75",
   "metadata": {},
   "outputs": [
    {
     "data": {
      "text/plain": [
       "(None, 3)"
      ]
     },
     "execution_count": 31,
     "metadata": {},
     "output_type": "execute_result"
    }
   ],
   "source": [
    "model.output_shape"
   ]
  },
  {
   "cell_type": "code",
   "execution_count": 32,
   "id": "b834c81a",
   "metadata": {},
   "outputs": [
    {
     "name": "stdout",
     "output_type": "stream",
     "text": [
      "Model: \"model\"\n",
      "__________________________________________________________________________________________________\n",
      "Layer (type)                    Output Shape         Param #     Connected to                     \n",
      "==================================================================================================\n",
      "input_1 (InputLayer)            [(None, 224, 224, 3) 0                                            \n",
      "__________________________________________________________________________________________________\n",
      "block1_conv1 (Conv2D)           (None, 111, 111, 32) 864         input_1[0][0]                    \n",
      "__________________________________________________________________________________________________\n",
      "block1_conv1_bn (BatchNormaliza (None, 111, 111, 32) 128         block1_conv1[0][0]               \n",
      "__________________________________________________________________________________________________\n",
      "block1_conv1_act (Activation)   (None, 111, 111, 32) 0           block1_conv1_bn[0][0]            \n",
      "__________________________________________________________________________________________________\n",
      "block1_conv2 (Conv2D)           (None, 109, 109, 64) 18432       block1_conv1_act[0][0]           \n",
      "__________________________________________________________________________________________________\n",
      "block1_conv2_bn (BatchNormaliza (None, 109, 109, 64) 256         block1_conv2[0][0]               \n",
      "__________________________________________________________________________________________________\n",
      "block1_conv2_act (Activation)   (None, 109, 109, 64) 0           block1_conv2_bn[0][0]            \n",
      "__________________________________________________________________________________________________\n",
      "block2_sepconv1 (SeparableConv2 (None, 109, 109, 128 8768        block1_conv2_act[0][0]           \n",
      "__________________________________________________________________________________________________\n",
      "block2_sepconv1_bn (BatchNormal (None, 109, 109, 128 512         block2_sepconv1[0][0]            \n",
      "__________________________________________________________________________________________________\n",
      "block2_sepconv2_act (Activation (None, 109, 109, 128 0           block2_sepconv1_bn[0][0]         \n",
      "__________________________________________________________________________________________________\n",
      "block2_sepconv2 (SeparableConv2 (None, 109, 109, 128 17536       block2_sepconv2_act[0][0]        \n",
      "__________________________________________________________________________________________________\n",
      "block2_sepconv2_bn (BatchNormal (None, 109, 109, 128 512         block2_sepconv2[0][0]            \n",
      "__________________________________________________________________________________________________\n",
      "conv2d (Conv2D)                 (None, 55, 55, 128)  8192        block1_conv2_act[0][0]           \n",
      "__________________________________________________________________________________________________\n",
      "block2_pool (MaxPooling2D)      (None, 55, 55, 128)  0           block2_sepconv2_bn[0][0]         \n",
      "__________________________________________________________________________________________________\n",
      "batch_normalization (BatchNorma (None, 55, 55, 128)  512         conv2d[0][0]                     \n",
      "__________________________________________________________________________________________________\n",
      "add (Add)                       (None, 55, 55, 128)  0           block2_pool[0][0]                \n",
      "                                                                 batch_normalization[0][0]        \n",
      "__________________________________________________________________________________________________\n",
      "block3_sepconv1_act (Activation (None, 55, 55, 128)  0           add[0][0]                        \n",
      "__________________________________________________________________________________________________\n",
      "block3_sepconv1 (SeparableConv2 (None, 55, 55, 256)  33920       block3_sepconv1_act[0][0]        \n",
      "__________________________________________________________________________________________________\n",
      "block3_sepconv1_bn (BatchNormal (None, 55, 55, 256)  1024        block3_sepconv1[0][0]            \n",
      "__________________________________________________________________________________________________\n",
      "block3_sepconv2_act (Activation (None, 55, 55, 256)  0           block3_sepconv1_bn[0][0]         \n",
      "__________________________________________________________________________________________________\n",
      "block3_sepconv2 (SeparableConv2 (None, 55, 55, 256)  67840       block3_sepconv2_act[0][0]        \n",
      "__________________________________________________________________________________________________\n",
      "block3_sepconv2_bn (BatchNormal (None, 55, 55, 256)  1024        block3_sepconv2[0][0]            \n",
      "__________________________________________________________________________________________________\n",
      "conv2d_1 (Conv2D)               (None, 28, 28, 256)  32768       add[0][0]                        \n",
      "__________________________________________________________________________________________________\n",
      "block3_pool (MaxPooling2D)      (None, 28, 28, 256)  0           block3_sepconv2_bn[0][0]         \n",
      "__________________________________________________________________________________________________\n",
      "batch_normalization_1 (BatchNor (None, 28, 28, 256)  1024        conv2d_1[0][0]                   \n",
      "__________________________________________________________________________________________________\n",
      "add_1 (Add)                     (None, 28, 28, 256)  0           block3_pool[0][0]                \n",
      "                                                                 batch_normalization_1[0][0]      \n",
      "__________________________________________________________________________________________________\n",
      "block4_sepconv1_act (Activation (None, 28, 28, 256)  0           add_1[0][0]                      \n",
      "__________________________________________________________________________________________________\n",
      "block4_sepconv1 (SeparableConv2 (None, 28, 28, 728)  188672      block4_sepconv1_act[0][0]        \n",
      "__________________________________________________________________________________________________\n",
      "block4_sepconv1_bn (BatchNormal (None, 28, 28, 728)  2912        block4_sepconv1[0][0]            \n",
      "__________________________________________________________________________________________________\n",
      "block4_sepconv2_act (Activation (None, 28, 28, 728)  0           block4_sepconv1_bn[0][0]         \n",
      "__________________________________________________________________________________________________\n",
      "block4_sepconv2 (SeparableConv2 (None, 28, 28, 728)  536536      block4_sepconv2_act[0][0]        \n",
      "__________________________________________________________________________________________________\n",
      "block4_sepconv2_bn (BatchNormal (None, 28, 28, 728)  2912        block4_sepconv2[0][0]            \n",
      "__________________________________________________________________________________________________\n",
      "conv2d_2 (Conv2D)               (None, 14, 14, 728)  186368      add_1[0][0]                      \n",
      "__________________________________________________________________________________________________\n",
      "block4_pool (MaxPooling2D)      (None, 14, 14, 728)  0           block4_sepconv2_bn[0][0]         \n",
      "__________________________________________________________________________________________________\n",
      "batch_normalization_2 (BatchNor (None, 14, 14, 728)  2912        conv2d_2[0][0]                   \n",
      "__________________________________________________________________________________________________\n",
      "add_2 (Add)                     (None, 14, 14, 728)  0           block4_pool[0][0]                \n",
      "                                                                 batch_normalization_2[0][0]      \n",
      "__________________________________________________________________________________________________\n",
      "block5_sepconv1_act (Activation (None, 14, 14, 728)  0           add_2[0][0]                      \n",
      "__________________________________________________________________________________________________\n",
      "block5_sepconv1 (SeparableConv2 (None, 14, 14, 728)  536536      block5_sepconv1_act[0][0]        \n",
      "__________________________________________________________________________________________________\n",
      "block5_sepconv1_bn (BatchNormal (None, 14, 14, 728)  2912        block5_sepconv1[0][0]            \n",
      "__________________________________________________________________________________________________\n",
      "block5_sepconv2_act (Activation (None, 14, 14, 728)  0           block5_sepconv1_bn[0][0]         \n",
      "__________________________________________________________________________________________________\n",
      "block5_sepconv2 (SeparableConv2 (None, 14, 14, 728)  536536      block5_sepconv2_act[0][0]        \n",
      "__________________________________________________________________________________________________\n",
      "block5_sepconv2_bn (BatchNormal (None, 14, 14, 728)  2912        block5_sepconv2[0][0]            \n",
      "__________________________________________________________________________________________________\n",
      "block5_sepconv3_act (Activation (None, 14, 14, 728)  0           block5_sepconv2_bn[0][0]         \n",
      "__________________________________________________________________________________________________\n",
      "block5_sepconv3 (SeparableConv2 (None, 14, 14, 728)  536536      block5_sepconv3_act[0][0]        \n",
      "__________________________________________________________________________________________________\n",
      "block5_sepconv3_bn (BatchNormal (None, 14, 14, 728)  2912        block5_sepconv3[0][0]            \n",
      "__________________________________________________________________________________________________\n",
      "add_3 (Add)                     (None, 14, 14, 728)  0           block5_sepconv3_bn[0][0]         \n",
      "                                                                 add_2[0][0]                      \n",
      "__________________________________________________________________________________________________\n",
      "block6_sepconv1_act (Activation (None, 14, 14, 728)  0           add_3[0][0]                      \n",
      "__________________________________________________________________________________________________\n",
      "block6_sepconv1 (SeparableConv2 (None, 14, 14, 728)  536536      block6_sepconv1_act[0][0]        \n",
      "__________________________________________________________________________________________________\n",
      "block6_sepconv1_bn (BatchNormal (None, 14, 14, 728)  2912        block6_sepconv1[0][0]            \n",
      "__________________________________________________________________________________________________\n",
      "block6_sepconv2_act (Activation (None, 14, 14, 728)  0           block6_sepconv1_bn[0][0]         \n",
      "__________________________________________________________________________________________________\n",
      "block6_sepconv2 (SeparableConv2 (None, 14, 14, 728)  536536      block6_sepconv2_act[0][0]        \n",
      "__________________________________________________________________________________________________\n",
      "block6_sepconv2_bn (BatchNormal (None, 14, 14, 728)  2912        block6_sepconv2[0][0]            \n",
      "__________________________________________________________________________________________________\n",
      "block6_sepconv3_act (Activation (None, 14, 14, 728)  0           block6_sepconv2_bn[0][0]         \n",
      "__________________________________________________________________________________________________\n",
      "block6_sepconv3 (SeparableConv2 (None, 14, 14, 728)  536536      block6_sepconv3_act[0][0]        \n",
      "__________________________________________________________________________________________________\n",
      "block6_sepconv3_bn (BatchNormal (None, 14, 14, 728)  2912        block6_sepconv3[0][0]            \n",
      "__________________________________________________________________________________________________\n",
      "add_4 (Add)                     (None, 14, 14, 728)  0           block6_sepconv3_bn[0][0]         \n",
      "                                                                 add_3[0][0]                      \n",
      "__________________________________________________________________________________________________\n",
      "block7_sepconv1_act (Activation (None, 14, 14, 728)  0           add_4[0][0]                      \n",
      "__________________________________________________________________________________________________\n",
      "block7_sepconv1 (SeparableConv2 (None, 14, 14, 728)  536536      block7_sepconv1_act[0][0]        \n",
      "__________________________________________________________________________________________________\n",
      "block7_sepconv1_bn (BatchNormal (None, 14, 14, 728)  2912        block7_sepconv1[0][0]            \n",
      "__________________________________________________________________________________________________\n",
      "block7_sepconv2_act (Activation (None, 14, 14, 728)  0           block7_sepconv1_bn[0][0]         \n",
      "__________________________________________________________________________________________________\n",
      "block7_sepconv2 (SeparableConv2 (None, 14, 14, 728)  536536      block7_sepconv2_act[0][0]        \n",
      "__________________________________________________________________________________________________\n",
      "block7_sepconv2_bn (BatchNormal (None, 14, 14, 728)  2912        block7_sepconv2[0][0]            \n",
      "__________________________________________________________________________________________________\n",
      "block7_sepconv3_act (Activation (None, 14, 14, 728)  0           block7_sepconv2_bn[0][0]         \n",
      "__________________________________________________________________________________________________\n",
      "block7_sepconv3 (SeparableConv2 (None, 14, 14, 728)  536536      block7_sepconv3_act[0][0]        \n",
      "__________________________________________________________________________________________________\n",
      "block7_sepconv3_bn (BatchNormal (None, 14, 14, 728)  2912        block7_sepconv3[0][0]            \n",
      "__________________________________________________________________________________________________\n",
      "add_5 (Add)                     (None, 14, 14, 728)  0           block7_sepconv3_bn[0][0]         \n",
      "                                                                 add_4[0][0]                      \n",
      "__________________________________________________________________________________________________\n",
      "block8_sepconv1_act (Activation (None, 14, 14, 728)  0           add_5[0][0]                      \n",
      "__________________________________________________________________________________________________\n",
      "block8_sepconv1 (SeparableConv2 (None, 14, 14, 728)  536536      block8_sepconv1_act[0][0]        \n",
      "__________________________________________________________________________________________________\n",
      "block8_sepconv1_bn (BatchNormal (None, 14, 14, 728)  2912        block8_sepconv1[0][0]            \n",
      "__________________________________________________________________________________________________\n",
      "block8_sepconv2_act (Activation (None, 14, 14, 728)  0           block8_sepconv1_bn[0][0]         \n",
      "__________________________________________________________________________________________________\n",
      "block8_sepconv2 (SeparableConv2 (None, 14, 14, 728)  536536      block8_sepconv2_act[0][0]        \n",
      "__________________________________________________________________________________________________\n",
      "block8_sepconv2_bn (BatchNormal (None, 14, 14, 728)  2912        block8_sepconv2[0][0]            \n",
      "__________________________________________________________________________________________________\n",
      "block8_sepconv3_act (Activation (None, 14, 14, 728)  0           block8_sepconv2_bn[0][0]         \n",
      "__________________________________________________________________________________________________\n",
      "block8_sepconv3 (SeparableConv2 (None, 14, 14, 728)  536536      block8_sepconv3_act[0][0]        \n",
      "__________________________________________________________________________________________________\n",
      "block8_sepconv3_bn (BatchNormal (None, 14, 14, 728)  2912        block8_sepconv3[0][0]            \n",
      "__________________________________________________________________________________________________\n",
      "add_6 (Add)                     (None, 14, 14, 728)  0           block8_sepconv3_bn[0][0]         \n",
      "                                                                 add_5[0][0]                      \n",
      "__________________________________________________________________________________________________\n",
      "block9_sepconv1_act (Activation (None, 14, 14, 728)  0           add_6[0][0]                      \n",
      "__________________________________________________________________________________________________\n",
      "block9_sepconv1 (SeparableConv2 (None, 14, 14, 728)  536536      block9_sepconv1_act[0][0]        \n",
      "__________________________________________________________________________________________________\n",
      "block9_sepconv1_bn (BatchNormal (None, 14, 14, 728)  2912        block9_sepconv1[0][0]            \n",
      "__________________________________________________________________________________________________\n",
      "block9_sepconv2_act (Activation (None, 14, 14, 728)  0           block9_sepconv1_bn[0][0]         \n",
      "__________________________________________________________________________________________________\n",
      "block9_sepconv2 (SeparableConv2 (None, 14, 14, 728)  536536      block9_sepconv2_act[0][0]        \n",
      "__________________________________________________________________________________________________\n",
      "block9_sepconv2_bn (BatchNormal (None, 14, 14, 728)  2912        block9_sepconv2[0][0]            \n",
      "__________________________________________________________________________________________________\n",
      "block9_sepconv3_act (Activation (None, 14, 14, 728)  0           block9_sepconv2_bn[0][0]         \n",
      "__________________________________________________________________________________________________\n",
      "block9_sepconv3 (SeparableConv2 (None, 14, 14, 728)  536536      block9_sepconv3_act[0][0]        \n",
      "__________________________________________________________________________________________________\n",
      "block9_sepconv3_bn (BatchNormal (None, 14, 14, 728)  2912        block9_sepconv3[0][0]            \n",
      "__________________________________________________________________________________________________\n",
      "add_7 (Add)                     (None, 14, 14, 728)  0           block9_sepconv3_bn[0][0]         \n",
      "                                                                 add_6[0][0]                      \n",
      "__________________________________________________________________________________________________\n",
      "block10_sepconv1_act (Activatio (None, 14, 14, 728)  0           add_7[0][0]                      \n",
      "__________________________________________________________________________________________________\n",
      "block10_sepconv1 (SeparableConv (None, 14, 14, 728)  536536      block10_sepconv1_act[0][0]       \n",
      "__________________________________________________________________________________________________\n",
      "block10_sepconv1_bn (BatchNorma (None, 14, 14, 728)  2912        block10_sepconv1[0][0]           \n",
      "__________________________________________________________________________________________________\n",
      "block10_sepconv2_act (Activatio (None, 14, 14, 728)  0           block10_sepconv1_bn[0][0]        \n",
      "__________________________________________________________________________________________________\n",
      "block10_sepconv2 (SeparableConv (None, 14, 14, 728)  536536      block10_sepconv2_act[0][0]       \n",
      "__________________________________________________________________________________________________\n",
      "block10_sepconv2_bn (BatchNorma (None, 14, 14, 728)  2912        block10_sepconv2[0][0]           \n",
      "__________________________________________________________________________________________________\n",
      "block10_sepconv3_act (Activatio (None, 14, 14, 728)  0           block10_sepconv2_bn[0][0]        \n",
      "__________________________________________________________________________________________________\n",
      "block10_sepconv3 (SeparableConv (None, 14, 14, 728)  536536      block10_sepconv3_act[0][0]       \n",
      "__________________________________________________________________________________________________\n",
      "block10_sepconv3_bn (BatchNorma (None, 14, 14, 728)  2912        block10_sepconv3[0][0]           \n",
      "__________________________________________________________________________________________________\n",
      "add_8 (Add)                     (None, 14, 14, 728)  0           block10_sepconv3_bn[0][0]        \n",
      "                                                                 add_7[0][0]                      \n",
      "__________________________________________________________________________________________________\n",
      "block11_sepconv1_act (Activatio (None, 14, 14, 728)  0           add_8[0][0]                      \n",
      "__________________________________________________________________________________________________\n",
      "block11_sepconv1 (SeparableConv (None, 14, 14, 728)  536536      block11_sepconv1_act[0][0]       \n",
      "__________________________________________________________________________________________________\n",
      "block11_sepconv1_bn (BatchNorma (None, 14, 14, 728)  2912        block11_sepconv1[0][0]           \n",
      "__________________________________________________________________________________________________\n",
      "block11_sepconv2_act (Activatio (None, 14, 14, 728)  0           block11_sepconv1_bn[0][0]        \n",
      "__________________________________________________________________________________________________\n",
      "block11_sepconv2 (SeparableConv (None, 14, 14, 728)  536536      block11_sepconv2_act[0][0]       \n",
      "__________________________________________________________________________________________________\n",
      "block11_sepconv2_bn (BatchNorma (None, 14, 14, 728)  2912        block11_sepconv2[0][0]           \n",
      "__________________________________________________________________________________________________\n",
      "block11_sepconv3_act (Activatio (None, 14, 14, 728)  0           block11_sepconv2_bn[0][0]        \n",
      "__________________________________________________________________________________________________\n",
      "block11_sepconv3 (SeparableConv (None, 14, 14, 728)  536536      block11_sepconv3_act[0][0]       \n",
      "__________________________________________________________________________________________________\n",
      "block11_sepconv3_bn (BatchNorma (None, 14, 14, 728)  2912        block11_sepconv3[0][0]           \n",
      "__________________________________________________________________________________________________\n",
      "add_9 (Add)                     (None, 14, 14, 728)  0           block11_sepconv3_bn[0][0]        \n",
      "                                                                 add_8[0][0]                      \n",
      "__________________________________________________________________________________________________\n",
      "block12_sepconv1_act (Activatio (None, 14, 14, 728)  0           add_9[0][0]                      \n",
      "__________________________________________________________________________________________________\n",
      "block12_sepconv1 (SeparableConv (None, 14, 14, 728)  536536      block12_sepconv1_act[0][0]       \n",
      "__________________________________________________________________________________________________\n",
      "block12_sepconv1_bn (BatchNorma (None, 14, 14, 728)  2912        block12_sepconv1[0][0]           \n",
      "__________________________________________________________________________________________________\n",
      "block12_sepconv2_act (Activatio (None, 14, 14, 728)  0           block12_sepconv1_bn[0][0]        \n",
      "__________________________________________________________________________________________________\n",
      "block12_sepconv2 (SeparableConv (None, 14, 14, 728)  536536      block12_sepconv2_act[0][0]       \n",
      "__________________________________________________________________________________________________\n",
      "block12_sepconv2_bn (BatchNorma (None, 14, 14, 728)  2912        block12_sepconv2[0][0]           \n",
      "__________________________________________________________________________________________________\n",
      "block12_sepconv3_act (Activatio (None, 14, 14, 728)  0           block12_sepconv2_bn[0][0]        \n",
      "__________________________________________________________________________________________________\n",
      "block12_sepconv3 (SeparableConv (None, 14, 14, 728)  536536      block12_sepconv3_act[0][0]       \n",
      "__________________________________________________________________________________________________\n",
      "block12_sepconv3_bn (BatchNorma (None, 14, 14, 728)  2912        block12_sepconv3[0][0]           \n",
      "__________________________________________________________________________________________________\n",
      "add_10 (Add)                    (None, 14, 14, 728)  0           block12_sepconv3_bn[0][0]        \n",
      "                                                                 add_9[0][0]                      \n",
      "__________________________________________________________________________________________________\n",
      "block13_sepconv1_act (Activatio (None, 14, 14, 728)  0           add_10[0][0]                     \n",
      "__________________________________________________________________________________________________\n",
      "block13_sepconv1 (SeparableConv (None, 14, 14, 728)  536536      block13_sepconv1_act[0][0]       \n",
      "__________________________________________________________________________________________________\n",
      "block13_sepconv1_bn (BatchNorma (None, 14, 14, 728)  2912        block13_sepconv1[0][0]           \n",
      "__________________________________________________________________________________________________\n",
      "block13_sepconv2_act (Activatio (None, 14, 14, 728)  0           block13_sepconv1_bn[0][0]        \n",
      "__________________________________________________________________________________________________\n",
      "block13_sepconv2 (SeparableConv (None, 14, 14, 1024) 752024      block13_sepconv2_act[0][0]       \n",
      "__________________________________________________________________________________________________\n",
      "block13_sepconv2_bn (BatchNorma (None, 14, 14, 1024) 4096        block13_sepconv2[0][0]           \n",
      "__________________________________________________________________________________________________\n",
      "conv2d_3 (Conv2D)               (None, 7, 7, 1024)   745472      add_10[0][0]                     \n",
      "__________________________________________________________________________________________________\n",
      "block13_pool (MaxPooling2D)     (None, 7, 7, 1024)   0           block13_sepconv2_bn[0][0]        \n",
      "__________________________________________________________________________________________________\n",
      "batch_normalization_3 (BatchNor (None, 7, 7, 1024)   4096        conv2d_3[0][0]                   \n",
      "__________________________________________________________________________________________________\n",
      "add_11 (Add)                    (None, 7, 7, 1024)   0           block13_pool[0][0]               \n",
      "                                                                 batch_normalization_3[0][0]      \n",
      "__________________________________________________________________________________________________\n",
      "block14_sepconv1 (SeparableConv (None, 7, 7, 1536)   1582080     add_11[0][0]                     \n",
      "__________________________________________________________________________________________________\n",
      "block14_sepconv1_bn (BatchNorma (None, 7, 7, 1536)   6144        block14_sepconv1[0][0]           \n",
      "__________________________________________________________________________________________________\n",
      "block14_sepconv1_act (Activatio (None, 7, 7, 1536)   0           block14_sepconv1_bn[0][0]        \n",
      "__________________________________________________________________________________________________\n",
      "block14_sepconv2 (SeparableConv (None, 7, 7, 2048)   3159552     block14_sepconv1_act[0][0]       \n",
      "__________________________________________________________________________________________________\n",
      "block14_sepconv2_bn (BatchNorma (None, 7, 7, 2048)   8192        block14_sepconv2[0][0]           \n",
      "__________________________________________________________________________________________________\n",
      "block14_sepconv2_act (Activatio (None, 7, 7, 2048)   0           block14_sepconv2_bn[0][0]        \n",
      "__________________________________________________________________________________________________\n",
      "average_pooling2d (AveragePooli (None, 1, 1, 2048)   0           block14_sepconv2_act[0][0]       \n",
      "__________________________________________________________________________________________________\n",
      "flatten (Flatten)               (None, 2048)         0           average_pooling2d[0][0]          \n",
      "__________________________________________________________________________________________________\n",
      "dense (Dense)                   (None, 64)           131136      flatten[0][0]                    \n",
      "__________________________________________________________________________________________________\n",
      "dropout (Dropout)               (None, 64)           0           dense[0][0]                      \n",
      "__________________________________________________________________________________________________\n",
      "dense_1 (Dense)                 (None, 3)            195         dropout[0][0]                    \n",
      "==================================================================================================\n",
      "Total params: 20,992,811\n",
      "Trainable params: 131,331\n",
      "Non-trainable params: 20,861,480\n",
      "__________________________________________________________________________________________________\n"
     ]
    }
   ],
   "source": [
    "model.summary()"
   ]
  },
  {
   "cell_type": "code",
   "execution_count": 33,
   "id": "9ab71213",
   "metadata": {},
   "outputs": [
    {
     "data": {
      "text/plain": [
       "array([[0.7516289 , 0.06192304, 0.1864481 ],\n",
       "       [0.10407793, 0.09171676, 0.80420536],\n",
       "       [0.07064211, 0.06510772, 0.86425024],\n",
       "       [0.14283405, 0.07766575, 0.77950025],\n",
       "       [0.52259326, 0.27501273, 0.20239404],\n",
       "       [0.95238346, 0.02052167, 0.02709491],\n",
       "       [0.28096455, 0.17636415, 0.5426713 ],\n",
       "       [0.98297113, 0.00585327, 0.01117557],\n",
       "       [0.9924345 , 0.00121826, 0.0063473 ],\n",
       "       [0.98637646, 0.00250489, 0.01111859],\n",
       "       [0.38327476, 0.392655  , 0.2240703 ],\n",
       "       [0.8550931 , 0.02963339, 0.11527348],\n",
       "       [0.99280715, 0.00269316, 0.00449968],\n",
       "       [0.63500684, 0.03348587, 0.3315073 ],\n",
       "       [0.01699335, 0.08483937, 0.8981673 ],\n",
       "       [0.99040926, 0.00364083, 0.00594995],\n",
       "       [0.63765   , 0.14851236, 0.21383762],\n",
       "       [0.00843361, 0.15157929, 0.83998704]], dtype=float32)"
      ]
     },
     "execution_count": 33,
     "metadata": {},
     "output_type": "execute_result"
    }
   ],
   "source": [
    "preds"
   ]
  },
  {
   "cell_type": "code",
   "execution_count": null,
   "id": "09990552",
   "metadata": {},
   "outputs": [],
   "source": []
  },
  {
   "cell_type": "code",
   "execution_count": 34,
   "id": "ae1ece74",
   "metadata": {},
   "outputs": [
    {
     "name": "stderr",
     "output_type": "stream",
     "text": [
      "C:\\Users\\cvpr\\anaconda3\\lib\\site-packages\\tensorflow\\python\\keras\\utils\\generic_utils.py:494: CustomMaskWarning: Custom mask layers require a config and must override get_config. When loading, the custom mask layer must be passed to the custom_objects argument.\n",
      "  warnings.warn('Custom mask layers require a config and must override '\n"
     ]
    }
   ],
   "source": [
    "model.save(\"ARhinitisModel\", save_format=\"h5\")\n",
    "model_json = model.to_json()\n",
    "with open(\"model.json\", \"w\") as json_file:\n",
    "    json_file.write(model_json)"
   ]
  },
  {
   "cell_type": "markdown",
   "id": "3977cc16",
   "metadata": {},
   "source": [
    "print(\"[INFO] saving Allergic Rhinitis detector model...\")\n",
    "model.save(\"ARhinitisModel\", save_format=\"h5\")\n",
    "model_json = model.to_json()\n",
    "with open(\"model.json\", \"w\") as json_file:\n",
    "    json_file.write(model_json)"
   ]
  },
  {
   "cell_type": "code",
   "execution_count": null,
   "id": "6d95b803",
   "metadata": {},
   "outputs": [],
   "source": []
  },
  {
   "cell_type": "markdown",
   "id": "bb6c66bd",
   "metadata": {},
   "source": [
    "decoded = imagenet_utils.decode_predictions(preds)"
   ]
  },
  {
   "cell_type": "markdown",
   "id": "501ae622",
   "metadata": {},
   "source": [
    "gradCAM\n"
   ]
  },
  {
   "cell_type": "code",
   "execution_count": 36,
   "id": "92645574",
   "metadata": {},
   "outputs": [],
   "source": [
    "from gradCam import GradCAM\n",
    "from tensorflow.keras.preprocessing.image import load_img\n",
    "from tensorflow.keras.preprocessing.image import img_to_array"
   ]
  },
  {
   "cell_type": "code",
   "execution_count": 37,
   "id": "0adfb986",
   "metadata": {},
   "outputs": [],
   "source": [
    "d_path = r'C:\\Users\\cvpr\\Documents\\Bishal\\Allergic Rhinitis\\Dataset\\non_rotate\\dataset0\\1\\7_1_00005_left.tif'\n",
    "orig = cv2.imread(d_path)\n",
    "resized = cv2.resize(orig, (224, 224))\n",
    "image = load_img(d_path, target_size=(224, 224))\n",
    "image = img_to_array(image)\n",
    "image = np.expand_dims(image, axis=0)\n",
    "image = imagenet_utils.preprocess_input(image)"
   ]
  },
  {
   "cell_type": "markdown",
   "id": "fbca32f9",
   "metadata": {},
   "source": [
    "cam = GradCAM(model, predIdxs)"
   ]
  },
  {
   "cell_type": "code",
   "execution_count": 38,
   "id": "b95b839c",
   "metadata": {},
   "outputs": [
    {
     "name": "stdout",
     "output_type": "stream",
     "text": [
      "(1, 224, 224, 3)\n"
     ]
    }
   ],
   "source": [
    "preds = model.predict(image)\n",
    "i = np.argmax(preds[0])\n",
    "print(image.shape)"
   ]
  },
  {
   "cell_type": "code",
   "execution_count": 39,
   "id": "5ded55fb",
   "metadata": {},
   "outputs": [
    {
     "name": "stdout",
     "output_type": "stream",
     "text": [
      "dense_1 :  (None, 3)\n",
      "dropout :  (None, 64)\n",
      "dense :  (None, 64)\n",
      "flatten :  (None, 2048)\n",
      "average_pooling2d :  (None, 1, 1, 2048)\n",
      "0\n",
      "block14_sepconv2_act :  (None, 7, 7, 2048)\n"
     ]
    }
   ],
   "source": [
    "cam = GradCAM(model, i)"
   ]
  },
  {
   "cell_type": "code",
   "execution_count": 40,
   "id": "758896dd",
   "metadata": {},
   "outputs": [],
   "source": [
    "heatmap = cam.compute_heatmap(image)"
   ]
  },
  {
   "cell_type": "code",
   "execution_count": 41,
   "id": "135aa197",
   "metadata": {},
   "outputs": [],
   "source": [
    "heatmap = cv2.resize(heatmap, (orig.shape[1], orig.shape[0]))"
   ]
  },
  {
   "cell_type": "code",
   "execution_count": 42,
   "id": "8c330587",
   "metadata": {},
   "outputs": [
    {
     "ename": "error",
     "evalue": "OpenCV(4.5.1) ..\\modules\\imgcodecs\\src\\loadsave.cpp:682: error: (-2:Unspecified error) could not find a writer for the specified extension in function 'cv::imwrite_'\n",
     "output_type": "error",
     "traceback": [
      "\u001b[1;31m---------------------------------------------------------------------------\u001b[0m",
      "\u001b[1;31merror\u001b[0m                                     Traceback (most recent call last)",
      "\u001b[1;32m~\\AppData\\Local\\Temp\\ipykernel_45992\\1841826448.py\u001b[0m in \u001b[0;36m<cell line: 2>\u001b[1;34m()\u001b[0m\n\u001b[0;32m      1\u001b[0m \u001b[0mcv2\u001b[0m\u001b[1;33m.\u001b[0m\u001b[0mimshow\u001b[0m\u001b[1;33m(\u001b[0m\u001b[1;34m\"Output\"\u001b[0m\u001b[1;33m,\u001b[0m \u001b[0mheatmap\u001b[0m\u001b[1;33m)\u001b[0m\u001b[1;33m\u001b[0m\u001b[1;33m\u001b[0m\u001b[0m\n\u001b[1;32m----> 2\u001b[1;33m \u001b[0mcv2\u001b[0m\u001b[1;33m.\u001b[0m\u001b[0mimwrite\u001b[0m\u001b[1;33m(\u001b[0m\u001b[1;34m\"heatr\"\u001b[0m\u001b[1;33m,\u001b[0m \u001b[0mheatmap\u001b[0m\u001b[1;33m)\u001b[0m\u001b[1;33m\u001b[0m\u001b[1;33m\u001b[0m\u001b[0m\n\u001b[0m",
      "\u001b[1;31merror\u001b[0m: OpenCV(4.5.1) ..\\modules\\imgcodecs\\src\\loadsave.cpp:682: error: (-2:Unspecified error) could not find a writer for the specified extension in function 'cv::imwrite_'\n"
     ]
    }
   ],
   "source": [
    "cv2.imshow(\"Output\", heatmap)\n",
    "cv2.imwrite(\"heatr\", heatmap)"
   ]
  },
  {
   "cell_type": "code",
   "execution_count": null,
   "id": "eaa67074",
   "metadata": {},
   "outputs": [],
   "source": [
    "\n",
    "(heatmap, output) = cam.overlay_heatmap(heatmap, orig, alpha=0.5)"
   ]
  },
  {
   "cell_type": "code",
   "execution_count": null,
   "id": "323efeb9",
   "metadata": {},
   "outputs": [],
   "source": []
  },
  {
   "cell_type": "code",
   "execution_count": null,
   "id": "1ce1c375",
   "metadata": {},
   "outputs": [],
   "source": [
    "for i in testX:\n",
    "    image = np.expand_dims(i, axis=0)\n",
    "    image = imagenet_utils.preprocess_input(i)\n",
    "    heatmap = cam.compute_heatmap(image)"
   ]
  },
  {
   "cell_type": "code",
   "execution_count": null,
   "id": "6e5f4709",
   "metadata": {},
   "outputs": [],
   "source": [
    " "
   ]
  }
 ],
 "metadata": {
  "kernelspec": {
   "display_name": "Python 3 (ipykernel)",
   "language": "python",
   "name": "python3"
  },
  "language_info": {
   "codemirror_mode": {
    "name": "ipython",
    "version": 3
   },
   "file_extension": ".py",
   "mimetype": "text/x-python",
   "name": "python",
   "nbconvert_exporter": "python",
   "pygments_lexer": "ipython3",
   "version": "3.9.12"
  }
 },
 "nbformat": 4,
 "nbformat_minor": 5
}
