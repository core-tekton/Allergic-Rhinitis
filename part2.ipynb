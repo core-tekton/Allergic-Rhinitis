{
 "cells": [
  {
   "cell_type": "code",
   "execution_count": 1,
   "id": "c1cdc039",
   "metadata": {},
   "outputs": [],
   "source": [
    "from tensorflow.keras.models import load_model\n",
    "from tensorflow.keras.preprocessing import image\n",
    "import numpy as np\n",
    "from PIL import Image\n"
   ]
  },
  {
   "cell_type": "code",
   "execution_count": 2,
   "id": "0dab0483",
   "metadata": {},
   "outputs": [],
   "source": [
    "# load the saved model\n",
    "model = load_model('ARhinitisModel')\n",
    "model.compile(loss='binary_crossentropy',\n",
    "              optimizer='rmsprop',\n",
    "              metrics=['accuracy'])"
   ]
  },
  {
   "cell_type": "code",
   "execution_count": 3,
   "id": "578ad9fd",
   "metadata": {},
   "outputs": [
    {
     "name": "stdout",
     "output_type": "stream",
     "text": [
      "[1]\n",
      "[[0.25708774 0.41965902 0.32325324]]\n"
     ]
    }
   ],
   "source": [
    "# predicting images\n",
    "# import urllib.request\n",
    "# req = urllib.request.urlopen('http://answers.opencv.org/upfiles/logo_2.png')\n",
    "# img = image.load_img(req, target_size=(img_width, img_height))\n",
    "(img_width, img_height) = (224, 224)\n",
    "img = image.load_img(r'C:/Users/cvpr/Documents/Bishal/Allergic Rhinitis/Dataset/non_rotate/dataset2/1/19_1_00002_right.tif', target_size=(img_width, img_height))\n",
    "x = image.img_to_array(img)\n",
    "x = np.expand_dims(x, axis=0)\n",
    "\n",
    "images = np.vstack([x])\n",
    "classes = model.predict(images/255, batch_size=10)\n",
    "print(np.argmax(classes, axis=1))\n",
    "print(classes)"
   ]
  },
  {
   "cell_type": "code",
   "execution_count": null,
   "id": "51a0548c",
   "metadata": {},
   "outputs": [],
   "source": []
  }
 ],
 "metadata": {
  "kernelspec": {
   "display_name": "Python 3 (ipykernel)",
   "language": "python",
   "name": "python3"
  },
  "language_info": {
   "codemirror_mode": {
    "name": "ipython",
    "version": 3
   },
   "file_extension": ".py",
   "mimetype": "text/x-python",
   "name": "python",
   "nbconvert_exporter": "python",
   "pygments_lexer": "ipython3",
   "version": "3.9.12"
  }
 },
 "nbformat": 4,
 "nbformat_minor": 5
}
