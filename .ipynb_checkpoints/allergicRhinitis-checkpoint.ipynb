{
 "cells": [
  {
   "cell_type": "code",
   "execution_count": 34,
   "id": "53120697",
   "metadata": {},
   "outputs": [],
   "source": [
    "from imutils import paths\n",
    "import os\n",
    "import cv2\n",
    "import numpy as np\n",
    "import matplotlib.pyplot as plt"
   ]
  },
  {
   "cell_type": "code",
   "execution_count": 3,
   "id": "2fbda915",
   "metadata": {},
   "outputs": [
    {
     "name": "stdout",
     "output_type": "stream",
     "text": [
      "[INFO]: Trying to Read the images\n"
     ]
    }
   ],
   "source": [
    "print(\"[INFO]: Trying to Read the images\")"
   ]
  },
  {
   "cell_type": "code",
   "execution_count": 4,
   "id": "9bd0c101",
   "metadata": {},
   "outputs": [],
   "source": [
    "imagePaths = list(paths.list_images(\"Dataset\"))"
   ]
  },
  {
   "cell_type": "code",
   "execution_count": 5,
   "id": "d8d1c69e",
   "metadata": {},
   "outputs": [
    {
     "data": {
      "text/plain": [
       "['Dataset\\\\non_rotate\\\\dataset0\\\\0\\\\n13_1_00002_right.tif',\n",
       " 'Dataset\\\\non_rotate\\\\dataset0\\\\0\\\\n13_1_00003_left.tif',\n",
       " 'Dataset\\\\non_rotate\\\\dataset0\\\\0\\\\n13_2_00001_right.tif',\n",
       " 'Dataset\\\\non_rotate\\\\dataset0\\\\0\\\\n14_1_00001_right.tif',\n",
       " 'Dataset\\\\non_rotate\\\\dataset0\\\\0\\\\n14_1_00007_left.tif',\n",
       " 'Dataset\\\\non_rotate\\\\dataset0\\\\0\\\\n15_2_00005_left.tif',\n",
       " 'Dataset\\\\non_rotate\\\\dataset0\\\\0\\\\n1_1_00001_right.tif',\n",
       " 'Dataset\\\\non_rotate\\\\dataset0\\\\0\\\\n6_1_00004_right.tif',\n",
       " 'Dataset\\\\non_rotate\\\\dataset0\\\\0\\\\n6_1_00006_left.tif',\n",
       " 'Dataset\\\\non_rotate\\\\dataset0\\\\1\\\\14_1_00002_right.tif',\n",
       " 'Dataset\\\\non_rotate\\\\dataset0\\\\1\\\\7_1_00001_right.tif',\n",
       " 'Dataset\\\\non_rotate\\\\dataset0\\\\1\\\\7_1_00005_left.tif',\n",
       " 'Dataset\\\\non_rotate\\\\dataset0\\\\2\\\\2_1_00002_right.tif',\n",
       " 'Dataset\\\\non_rotate\\\\dataset0\\\\2\\\\2_1_00005_left.tif',\n",
       " 'Dataset\\\\non_rotate\\\\dataset0\\\\2\\\\3_1_00003_left.tif',\n",
       " 'Dataset\\\\non_rotate\\\\dataset0\\\\2\\\\4_1_00002_right.tif',\n",
       " 'Dataset\\\\non_rotate\\\\dataset0\\\\2\\\\6_1_00001_right.tif',\n",
       " 'Dataset\\\\non_rotate\\\\dataset0\\\\2\\\\6_1_00006_left.tif',\n",
       " 'Dataset\\\\non_rotate\\\\dataset1\\\\0\\\\n17_4_00006_left.tif',\n",
       " 'Dataset\\\\non_rotate\\\\dataset1\\\\0\\\\n17_5_00003_left.tif',\n",
       " 'Dataset\\\\non_rotate\\\\dataset1\\\\0\\\\n17_7_00013_left.tif',\n",
       " 'Dataset\\\\non_rotate\\\\dataset1\\\\0\\\\n18_2_00002_right.tif',\n",
       " 'Dataset\\\\non_rotate\\\\dataset1\\\\0\\\\n18_2_00003_left.tif',\n",
       " 'Dataset\\\\non_rotate\\\\dataset1\\\\0\\\\n19_2_00003_right.tif',\n",
       " 'Dataset\\\\non_rotate\\\\dataset1\\\\0\\\\n19_3_00001_right.tif',\n",
       " 'Dataset\\\\non_rotate\\\\dataset1\\\\0\\\\n19_4_00001_right.tif',\n",
       " 'Dataset\\\\non_rotate\\\\dataset1\\\\0\\\\n19_4_00003_left.tif',\n",
       " 'Dataset\\\\non_rotate\\\\dataset1\\\\1\\\\13_1_00002_right.tif',\n",
       " 'Dataset\\\\non_rotate\\\\dataset1\\\\1\\\\13_1_00005_left.tif',\n",
       " 'Dataset\\\\non_rotate\\\\dataset1\\\\1\\\\13_2_00002_right.tif',\n",
       " 'Dataset\\\\non_rotate\\\\dataset1\\\\1\\\\13_2_00004_left.tif',\n",
       " 'Dataset\\\\non_rotate\\\\dataset1\\\\2\\\\16_1_00003_left.tif',\n",
       " 'Dataset\\\\non_rotate\\\\dataset1\\\\2\\\\18_1_00005_left.tif',\n",
       " 'Dataset\\\\non_rotate\\\\dataset1\\\\2\\\\18_2_00003_right.tif',\n",
       " 'Dataset\\\\non_rotate\\\\dataset1\\\\2\\\\18_2_00005_left.tif',\n",
       " 'Dataset\\\\non_rotate\\\\dataset1\\\\2\\\\18_3_00002_right.tif',\n",
       " 'Dataset\\\\non_rotate\\\\dataset1\\\\2\\\\18_3_000050003_left.tif',\n",
       " 'Dataset\\\\non_rotate\\\\dataset2\\\\0\\\\n16_1_00004_left.tif',\n",
       " 'Dataset\\\\non_rotate\\\\dataset2\\\\0\\\\n20_2_00001_right.tif',\n",
       " 'Dataset\\\\non_rotate\\\\dataset2\\\\0\\\\n21_1_00002_right.tif',\n",
       " 'Dataset\\\\non_rotate\\\\dataset2\\\\0\\\\n22_1_00003_left.tif',\n",
       " 'Dataset\\\\non_rotate\\\\dataset2\\\\0\\\\n22_2_00001_right.tif',\n",
       " 'Dataset\\\\non_rotate\\\\dataset2\\\\0\\\\n22_2_00005_left.tif',\n",
       " 'Dataset\\\\non_rotate\\\\dataset2\\\\0\\\\n23_2_00002_right.tif',\n",
       " 'Dataset\\\\non_rotate\\\\dataset2\\\\0\\\\n23_2_00009_left.tif',\n",
       " 'Dataset\\\\non_rotate\\\\dataset2\\\\0\\\\n28_4_00001_right.tif',\n",
       " 'Dataset\\\\non_rotate\\\\dataset2\\\\1\\\\19_1_00002_right.tif',\n",
       " 'Dataset\\\\non_rotate\\\\dataset2\\\\1\\\\19_1_00003_left.tif',\n",
       " 'Dataset\\\\non_rotate\\\\dataset2\\\\1\\\\19_2_00004_left.tif',\n",
       " 'Dataset\\\\non_rotate\\\\dataset2\\\\2\\\\11_1_00002_right.tif',\n",
       " 'Dataset\\\\non_rotate\\\\dataset2\\\\2\\\\15_1_00006_left.tif',\n",
       " 'Dataset\\\\non_rotate\\\\dataset2\\\\2\\\\15_2_00004_left.tif',\n",
       " 'Dataset\\\\non_rotate\\\\dataset2\\\\2\\\\26_1_00001_right.tif',\n",
       " 'Dataset\\\\non_rotate\\\\dataset2\\\\2\\\\26_1_00002_right.tif',\n",
       " 'Dataset\\\\non_rotate\\\\dataset2\\\\2\\\\26_1_00003_left.tif',\n",
       " 'Dataset\\\\non_rotate\\\\dataset3\\\\0\\\\n29_1_00004_left.tif',\n",
       " 'Dataset\\\\non_rotate\\\\dataset3\\\\0\\\\n29_3_00002_right.tif',\n",
       " 'Dataset\\\\non_rotate\\\\dataset3\\\\0\\\\n29_3_00005_left.tif',\n",
       " 'Dataset\\\\non_rotate\\\\dataset3\\\\0\\\\n32_1_00001_right.tif',\n",
       " 'Dataset\\\\non_rotate\\\\dataset3\\\\0\\\\n32_2_00001_right.tif',\n",
       " 'Dataset\\\\non_rotate\\\\dataset3\\\\0\\\\n32_3_00003_right.tif',\n",
       " 'Dataset\\\\non_rotate\\\\dataset3\\\\0\\\\n32_3_00004_left.tif',\n",
       " 'Dataset\\\\non_rotate\\\\dataset3\\\\0\\\\n32_4_00001_right.tif',\n",
       " 'Dataset\\\\non_rotate\\\\dataset3\\\\0\\\\n32_4_00004_left.tif',\n",
       " 'Dataset\\\\non_rotate\\\\dataset3\\\\1\\\\28_1_00003_left.tif',\n",
       " 'Dataset\\\\non_rotate\\\\dataset3\\\\1\\\\33_1_00002_right.tif',\n",
       " 'Dataset\\\\non_rotate\\\\dataset3\\\\1\\\\33_1_00005_left.tif',\n",
       " 'Dataset\\\\non_rotate\\\\dataset3\\\\2\\\\20_1_00006_left.tif',\n",
       " 'Dataset\\\\non_rotate\\\\dataset3\\\\2\\\\20_1_00009_left.tif',\n",
       " 'Dataset\\\\non_rotate\\\\dataset3\\\\2\\\\20_2_00002_right.tif',\n",
       " 'Dataset\\\\non_rotate\\\\dataset3\\\\2\\\\20_2_00008_left.tif',\n",
       " 'Dataset\\\\non_rotate\\\\dataset3\\\\2\\\\20_3_00001_right.tif',\n",
       " 'Dataset\\\\non_rotate\\\\dataset3\\\\2\\\\21_1_00002_right.tif',\n",
       " 'Dataset\\\\non_rotate\\\\dataset4\\\\0\\\\n34_2_00001_right.tif',\n",
       " 'Dataset\\\\non_rotate\\\\dataset4\\\\0\\\\n35_1_00009_left.tif',\n",
       " 'Dataset\\\\non_rotate\\\\dataset4\\\\0\\\\n35_1_00010_left.tif',\n",
       " 'Dataset\\\\non_rotate\\\\dataset4\\\\0\\\\n35_1_00011_right.tif',\n",
       " 'Dataset\\\\non_rotate\\\\dataset4\\\\0\\\\n35_1_00012_right.tif',\n",
       " 'Dataset\\\\non_rotate\\\\dataset4\\\\0\\\\n35_2_00001_right.tif',\n",
       " 'Dataset\\\\non_rotate\\\\dataset4\\\\0\\\\n35_2_00002_right.tif',\n",
       " 'Dataset\\\\non_rotate\\\\dataset4\\\\0\\\\n35_2_00007_left.tif',\n",
       " 'Dataset\\\\non_rotate\\\\dataset4\\\\1\\\\30_1_00011_right.tif',\n",
       " 'Dataset\\\\non_rotate\\\\dataset4\\\\1\\\\30_1_00013_left.tif',\n",
       " 'Dataset\\\\non_rotate\\\\dataset4\\\\1\\\\34_1_00002_right.tif',\n",
       " 'Dataset\\\\non_rotate\\\\dataset4\\\\2\\\\22_1_00005_left.tif',\n",
       " 'Dataset\\\\non_rotate\\\\dataset4\\\\2\\\\27_1_00005_left.tif',\n",
       " 'Dataset\\\\non_rotate\\\\dataset4\\\\2\\\\35_1_00002_right.tif',\n",
       " 'Dataset\\\\non_rotate\\\\dataset4\\\\2\\\\35_2_00003_left.tif',\n",
       " 'Dataset\\\\non_rotate\\\\dataset4\\\\2\\\\35_3_00001_right.tif',\n",
       " 'Dataset\\\\non_rotate\\\\dataset4\\\\2\\\\35_3_00004_left.tif',\n",
       " 'Dataset\\\\rotate\\\\dataset0\\\\0\\\\n13_1_00002_right.tif',\n",
       " 'Dataset\\\\rotate\\\\dataset0\\\\0\\\\n13_1_00003_left.tif',\n",
       " 'Dataset\\\\rotate\\\\dataset0\\\\0\\\\n13_2_00001_right.tif',\n",
       " 'Dataset\\\\rotate\\\\dataset0\\\\0\\\\n14_1_00001_right.tif',\n",
       " 'Dataset\\\\rotate\\\\dataset0\\\\0\\\\n14_1_00007_left.tif',\n",
       " 'Dataset\\\\rotate\\\\dataset0\\\\0\\\\n15_2_00005_left.tif',\n",
       " 'Dataset\\\\rotate\\\\dataset0\\\\0\\\\n1_1_00001_right.tif',\n",
       " 'Dataset\\\\rotate\\\\dataset0\\\\0\\\\n6_1_00004_right.tif',\n",
       " 'Dataset\\\\rotate\\\\dataset0\\\\0\\\\n6_1_00006_left.tif',\n",
       " 'Dataset\\\\rotate\\\\dataset0\\\\1\\\\14_1_00002_right.tif',\n",
       " 'Dataset\\\\rotate\\\\dataset0\\\\1\\\\7_1_00001_right.tif',\n",
       " 'Dataset\\\\rotate\\\\dataset0\\\\1\\\\7_1_00005_left.tif',\n",
       " 'Dataset\\\\rotate\\\\dataset0\\\\2\\\\2_1_00002_right.tif',\n",
       " 'Dataset\\\\rotate\\\\dataset0\\\\2\\\\2_1_00005_left.tif',\n",
       " 'Dataset\\\\rotate\\\\dataset0\\\\2\\\\3_1_00003_left.tif',\n",
       " 'Dataset\\\\rotate\\\\dataset0\\\\2\\\\4_1_00002_right.tif',\n",
       " 'Dataset\\\\rotate\\\\dataset0\\\\2\\\\6_1_00001_right.tif',\n",
       " 'Dataset\\\\rotate\\\\dataset0\\\\2\\\\6_1_00006_left.tif',\n",
       " 'Dataset\\\\rotate\\\\dataset1\\\\0\\\\n17_4_00006_left.tif',\n",
       " 'Dataset\\\\rotate\\\\dataset1\\\\0\\\\n17_5_00003_left.tif',\n",
       " 'Dataset\\\\rotate\\\\dataset1\\\\0\\\\n17_7_00013_left.tif',\n",
       " 'Dataset\\\\rotate\\\\dataset1\\\\0\\\\n18_2_00002_right.tif',\n",
       " 'Dataset\\\\rotate\\\\dataset1\\\\0\\\\n18_2_00003_left.tif',\n",
       " 'Dataset\\\\rotate\\\\dataset1\\\\0\\\\n19_2_00003_right.tif',\n",
       " 'Dataset\\\\rotate\\\\dataset1\\\\0\\\\n19_3_00001_right.tif',\n",
       " 'Dataset\\\\rotate\\\\dataset1\\\\0\\\\n19_4_00001_right.tif',\n",
       " 'Dataset\\\\rotate\\\\dataset1\\\\0\\\\n19_4_00003_left.tif',\n",
       " 'Dataset\\\\rotate\\\\dataset1\\\\1\\\\13_1_00002_right.tif',\n",
       " 'Dataset\\\\rotate\\\\dataset1\\\\1\\\\13_1_00005_left.tif',\n",
       " 'Dataset\\\\rotate\\\\dataset1\\\\1\\\\13_2_00002_right.tif',\n",
       " 'Dataset\\\\rotate\\\\dataset1\\\\1\\\\13_2_00004_left.tif',\n",
       " 'Dataset\\\\rotate\\\\dataset1\\\\2\\\\16_1_00003_left.tif',\n",
       " 'Dataset\\\\rotate\\\\dataset1\\\\2\\\\18_1_00005_left.tif',\n",
       " 'Dataset\\\\rotate\\\\dataset1\\\\2\\\\18_2_00003_right.tif',\n",
       " 'Dataset\\\\rotate\\\\dataset1\\\\2\\\\18_2_00005_left.tif',\n",
       " 'Dataset\\\\rotate\\\\dataset1\\\\2\\\\18_3_00002_right.tif',\n",
       " 'Dataset\\\\rotate\\\\dataset1\\\\2\\\\18_3_000050003_left.tif',\n",
       " 'Dataset\\\\rotate\\\\dataset2\\\\0\\\\n16_1_00004_left.tif',\n",
       " 'Dataset\\\\rotate\\\\dataset2\\\\0\\\\n20_2_00001_right.tif',\n",
       " 'Dataset\\\\rotate\\\\dataset2\\\\0\\\\n21_1_00002_right.tif',\n",
       " 'Dataset\\\\rotate\\\\dataset2\\\\0\\\\n22_1_00003_left.tif',\n",
       " 'Dataset\\\\rotate\\\\dataset2\\\\0\\\\n22_2_00001_right.tif',\n",
       " 'Dataset\\\\rotate\\\\dataset2\\\\0\\\\n22_2_00005_left.tif',\n",
       " 'Dataset\\\\rotate\\\\dataset2\\\\0\\\\n23_2_00002_right.tif',\n",
       " 'Dataset\\\\rotate\\\\dataset2\\\\0\\\\n23_2_00009_left.tif',\n",
       " 'Dataset\\\\rotate\\\\dataset2\\\\0\\\\n28_4_00001_right.tif',\n",
       " 'Dataset\\\\rotate\\\\dataset2\\\\1\\\\19_1_00002_right.tif',\n",
       " 'Dataset\\\\rotate\\\\dataset2\\\\1\\\\19_1_00003_left.tif',\n",
       " 'Dataset\\\\rotate\\\\dataset2\\\\1\\\\19_2_00004_left.tif',\n",
       " 'Dataset\\\\rotate\\\\dataset2\\\\2\\\\11_1_00002_right.tif',\n",
       " 'Dataset\\\\rotate\\\\dataset2\\\\2\\\\15_1_00006_left.tif',\n",
       " 'Dataset\\\\rotate\\\\dataset2\\\\2\\\\15_2_00004_left.tif',\n",
       " 'Dataset\\\\rotate\\\\dataset2\\\\2\\\\26_1_00001_right.tif',\n",
       " 'Dataset\\\\rotate\\\\dataset2\\\\2\\\\26_1_00002_right.tif',\n",
       " 'Dataset\\\\rotate\\\\dataset2\\\\2\\\\26_1_00003_left.tif',\n",
       " 'Dataset\\\\rotate\\\\dataset3\\\\0\\\\n29_1_00004_left.tif',\n",
       " 'Dataset\\\\rotate\\\\dataset3\\\\0\\\\n29_3_00002_right.tif',\n",
       " 'Dataset\\\\rotate\\\\dataset3\\\\0\\\\n29_3_00005_left.tif',\n",
       " 'Dataset\\\\rotate\\\\dataset3\\\\0\\\\n32_1_00001_right.tif',\n",
       " 'Dataset\\\\rotate\\\\dataset3\\\\0\\\\n32_2_00001_right.tif',\n",
       " 'Dataset\\\\rotate\\\\dataset3\\\\0\\\\n32_3_00003_right.tif',\n",
       " 'Dataset\\\\rotate\\\\dataset3\\\\0\\\\n32_3_00004_left.tif',\n",
       " 'Dataset\\\\rotate\\\\dataset3\\\\0\\\\n32_4_00001_right.tif',\n",
       " 'Dataset\\\\rotate\\\\dataset3\\\\0\\\\n32_4_00004_left.tif',\n",
       " 'Dataset\\\\rotate\\\\dataset3\\\\1\\\\28_1_00003_left.tif',\n",
       " 'Dataset\\\\rotate\\\\dataset3\\\\1\\\\33_1_00002_right.tif',\n",
       " 'Dataset\\\\rotate\\\\dataset3\\\\1\\\\33_1_00005_left.tif',\n",
       " 'Dataset\\\\rotate\\\\dataset3\\\\2\\\\20_1_00006_left.tif',\n",
       " 'Dataset\\\\rotate\\\\dataset3\\\\2\\\\20_1_00009_left.tif',\n",
       " 'Dataset\\\\rotate\\\\dataset3\\\\2\\\\20_2_00002_right.tif',\n",
       " 'Dataset\\\\rotate\\\\dataset3\\\\2\\\\20_2_00008_left.tif',\n",
       " 'Dataset\\\\rotate\\\\dataset3\\\\2\\\\20_3_00001_right.tif',\n",
       " 'Dataset\\\\rotate\\\\dataset3\\\\2\\\\21_1_00002_right.tif',\n",
       " 'Dataset\\\\rotate\\\\dataset4\\\\0\\\\n34_2_00001_right.tif',\n",
       " 'Dataset\\\\rotate\\\\dataset4\\\\0\\\\n35_1_00009_left.tif',\n",
       " 'Dataset\\\\rotate\\\\dataset4\\\\0\\\\n35_1_00010_left.tif',\n",
       " 'Dataset\\\\rotate\\\\dataset4\\\\0\\\\n35_1_00011_right.tif',\n",
       " 'Dataset\\\\rotate\\\\dataset4\\\\0\\\\n35_1_00012_right.tif',\n",
       " 'Dataset\\\\rotate\\\\dataset4\\\\0\\\\n35_2_00001_right.tif',\n",
       " 'Dataset\\\\rotate\\\\dataset4\\\\0\\\\n35_2_00002_right.tif',\n",
       " 'Dataset\\\\rotate\\\\dataset4\\\\0\\\\n35_2_00007_left.tif',\n",
       " 'Dataset\\\\rotate\\\\dataset4\\\\1\\\\30_1_00011_right.tif',\n",
       " 'Dataset\\\\rotate\\\\dataset4\\\\1\\\\30_1_00013_left.tif',\n",
       " 'Dataset\\\\rotate\\\\dataset4\\\\1\\\\34_1_00002_right.tif',\n",
       " 'Dataset\\\\rotate\\\\dataset4\\\\2\\\\22_1_00005_left.tif',\n",
       " 'Dataset\\\\rotate\\\\dataset4\\\\2\\\\27_1_00005_left.tif',\n",
       " 'Dataset\\\\rotate\\\\dataset4\\\\2\\\\35_1_00002_right.tif',\n",
       " 'Dataset\\\\rotate\\\\dataset4\\\\2\\\\35_2_00003_left.tif',\n",
       " 'Dataset\\\\rotate\\\\dataset4\\\\2\\\\35_3_00001_right.tif',\n",
       " 'Dataset\\\\rotate\\\\dataset4\\\\2\\\\35_3_00004_left.tif']"
      ]
     },
     "execution_count": 5,
     "metadata": {},
     "output_type": "execute_result"
    }
   ],
   "source": [
    "imagePaths"
   ]
  },
  {
   "cell_type": "code",
   "execution_count": 73,
   "id": "63f9a00d",
   "metadata": {},
   "outputs": [],
   "source": [
    "data = []\n",
    "labels = []"
   ]
  },
  {
   "cell_type": "code",
   "execution_count": 74,
   "id": "a8207bc5",
   "metadata": {},
   "outputs": [],
   "source": [
    "for imagePath in imagePaths:\n",
    "    label = imagePath.split(os.path.sep)[-2]\n",
    "    labels.append(label)\n",
    "    image = cv2.imread(imagePath)\n",
    "    image = cv2.cvtColor(image, cv2.COLOR_BGR2RGB)\n",
    "    image = cv2.resize(image, (224,224))\n",
    "    data.append(image)\n",
    "\n",
    "data = np.array(data) / 255.0\n",
    "labels = np.array(labels)"
   ]
  },
  {
   "cell_type": "code",
   "execution_count": 75,
   "id": "b0e171e1",
   "metadata": {},
   "outputs": [
    {
     "data": {
      "text/plain": [
       "(180,)"
      ]
     },
     "execution_count": 75,
     "metadata": {},
     "output_type": "execute_result"
    }
   ],
   "source": [
    "labels.shape"
   ]
  },
  {
   "cell_type": "code",
   "execution_count": 76,
   "id": "51023347",
   "metadata": {},
   "outputs": [
    {
     "data": {
      "text/plain": [
       "(180, 224, 224, 3)"
      ]
     },
     "execution_count": 76,
     "metadata": {},
     "output_type": "execute_result"
    }
   ],
   "source": [
    "data.shape"
   ]
  },
  {
   "cell_type": "code",
   "execution_count": 77,
   "id": "74d92d19",
   "metadata": {
    "scrolled": true
   },
   "outputs": [
    {
     "data": {
      "text/plain": [
       "<matplotlib.image.AxesImage at 0x1cca4439df0>"
      ]
     },
     "execution_count": 77,
     "metadata": {},
     "output_type": "execute_result"
    },
    {
     "data": {
      "image/png": "[encoded data removed]",
      "text/plain": [
       "<Figure size 432x288 with 1 Axes>"
      ]
     },
     "metadata": {
      "needs_background": "light"
     },
     "output_type": "display_data"
    }
   ],
   "source": [
    "plt.imshow(data[1])"
   ]
  },
  {
   "cell_type": "code",
   "execution_count": null,
   "id": "03c67d22",
   "metadata": {},
   "outputs": [],
   "source": []
  },
  {
   "cell_type": "code",
   "execution_count": null,
   "id": "7b46f589",
   "metadata": {},
   "outputs": [],
   "source": []
  },
  {
   "cell_type": "code",
   "execution_count": 78,
   "id": "cbdccda4",
   "metadata": {},
   "outputs": [],
   "source": [
    "from sklearn.preprocessing import LabelBinarizer\n",
    "from sklearn.model_selection import train_test_split\n",
    "from tensorflow.keras.utils import to_categorical\n",
    "from tensorflow.keras.preprocessing.image import ImageDataGenerator"
   ]
  },
  {
   "cell_type": "code",
   "execution_count": 79,
   "id": "1de71768",
   "metadata": {},
   "outputs": [
    {
     "name": "stdout",
     "output_type": "stream",
     "text": [
      "[[[0. 1.]\n",
      "  [1. 0.]\n",
      "  [1. 0.]]\n",
      "\n",
      " [[0. 1.]\n",
      "  [1. 0.]\n",
      "  [1. 0.]]\n",
      "\n",
      " [[0. 1.]\n",
      "  [1. 0.]\n",
      "  [1. 0.]]\n",
      "\n",
      " ...\n",
      "\n",
      " [[1. 0.]\n",
      "  [1. 0.]\n",
      "  [0. 1.]]\n",
      "\n",
      " [[1. 0.]\n",
      "  [1. 0.]\n",
      "  [0. 1.]]\n",
      "\n",
      " [[1. 0.]\n",
      "  [1. 0.]\n",
      "  [0. 1.]]]\n"
     ]
    }
   ],
   "source": [
    "lb = LabelBinarizer()\n",
    "labels = lb.fit_transform(labels)\n",
    "labels = to_categorical(labels)\n",
    "print(labels)"
   ]
  },
  {
   "cell_type": "code",
   "execution_count": 82,
   "id": "803f88d6",
   "metadata": {},
   "outputs": [],
   "source": [
    "trainAug = ImageDataGenerator(rotation_range=15, fill_mode=\"nearest\")"
   ]
  },
  {
   "cell_type": "code",
   "execution_count": null,
   "id": "1f560286",
   "metadata": {},
   "outputs": [],
   "source": [
    "data."
   ]
  },
  {
   "cell_type": "code",
   "execution_count": null,
   "id": "3a0c95b2",
   "metadata": {},
   "outputs": [],
   "source": [
    "(trainX, testX, trainY, testY) = train_test_split(data, labels, test_size=0.20, stratify=labels, random_state=42)"
   ]
  }
 ],
 "metadata": {
  "kernelspec": {
   "display_name": "Python 3 (ipykernel)",
   "language": "python",
   "name": "python3"
  },
  "language_info": {
   "codemirror_mode": {
    "name": "ipython",
    "version": 3
   },
   "file_extension": ".py",
   "mimetype": "text/x-python",
   "name": "python",
   "nbconvert_exporter": "python",
   "pygments_lexer": "ipython3",
   "version": "3.9.12"
  }
 },
 "nbformat": 4,
 "nbformat_minor": 5
}
